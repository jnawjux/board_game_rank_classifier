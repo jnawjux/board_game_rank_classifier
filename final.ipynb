{
 "cells": [
  {
   "cell_type": "markdown",
   "metadata": {},
   "source": [
    "# Module 3 Project"
   ]
  },
  {
   "cell_type": "markdown",
   "metadata": {},
   "source": [
    "## Team ????"
   ]
  },
  {
   "cell_type": "markdown",
   "metadata": {},
   "source": [
    "## Contributors : John Naujoks, Mando Iwanaga"
   ]
  },
  {
   "cell_type": "markdown",
   "metadata": {},
   "source": [
    "----"
   ]
  },
  {
   "cell_type": "markdown",
   "metadata": {},
   "source": [
    "**Import necessary packages**"
   ]
  },
  {
   "cell_type": "code",
   "execution_count": 4,
   "metadata": {},
   "outputs": [],
   "source": [
    "# General setup\n",
    "import pandas as pd\n",
    "import numpy as np\n",
    "import re\n",
    "\n",
    "# Modeling tools\n",
    "from sklearn.tree import DecisionTreeClassifier\n",
    "from sklearn.ensemble import BaggingClassifier, RandomForestClassifier, GradientBoostingClassifier\n",
    "from sklearn.model_selection import GridSearchCV\n",
    "import xgboost as xgb\n",
    "from sklearn.linear_model import LogisticRegression\n",
    "\n",
    "# Preprocessing and scoring\n",
    "from sklearn.model_selection import train_test_split\n",
    "from sklearn.metrics import accuracy_score, roc_curve, auc, confusion_matrix, average_precision_score\n",
    "from sklearn.metrics import log_loss, roc_auc_score, classification_report\n",
    "from sklearn.preprocessing import OneHotEncoder\n",
    "from imblearn.over_sampling import SMOTE\n",
    "\n",
    "# Visualization\n",
    "from sklearn.tree import export_graphviz\n",
    "from sklearn.externals.six import StringIO \n",
    "from IPython.display import Image  \n",
    "from sklearn import tree\n",
    "import pydotplus\n",
    "import matplotlib.pyplot as plt\n",
    "%matplotlib inline\n",
    "import seaborn as sns"
   ]
  },
  {
   "cell_type": "markdown",
   "metadata": {},
   "source": [
    "# EDA and Data Cleaning with scrape of 2015-2019 Data\n",
    "***"
   ]
  },
  {
   "cell_type": "markdown",
   "metadata": {},
   "source": [
    "**We obtained our dataset through a combination of using boardgamegeek API Python package<br> and scraping  the boardgamegeek website for missing and additional data.**"
   ]
  },
  {
   "cell_type": "code",
   "execution_count": 5,
   "metadata": {},
   "outputs": [],
   "source": [
    "#Complete dataset is saved in data folder as bgg_complete_1419.csv\n",
    "\n",
    "bgg = pd.read_csv('data/bgg_complete_1419.csv', index_col=0)"
   ]
  },
  {
   "cell_type": "code",
   "execution_count": 6,
   "metadata": {},
   "outputs": [
    {
     "data": {
      "text/html": [
       "<div>\n",
       "<style scoped>\n",
       "    .dataframe tbody tr th:only-of-type {\n",
       "        vertical-align: middle;\n",
       "    }\n",
       "\n",
       "    .dataframe tbody tr th {\n",
       "        vertical-align: top;\n",
       "    }\n",
       "\n",
       "    .dataframe thead th {\n",
       "        text-align: right;\n",
       "    }\n",
       "</style>\n",
       "<table border=\"1\" class=\"dataframe\">\n",
       "  <thead>\n",
       "    <tr style=\"text-align: right;\">\n",
       "      <th></th>\n",
       "      <th>rank</th>\n",
       "      <th>id</th>\n",
       "      <th>name</th>\n",
       "      <th>age</th>\n",
       "      <th>avg_time</th>\n",
       "      <th>min_players</th>\n",
       "      <th>max_players</th>\n",
       "      <th>mechanic</th>\n",
       "      <th>category</th>\n",
       "      <th>weight</th>\n",
       "      <th>year</th>\n",
       "      <th>geek</th>\n",
       "      <th>avg</th>\n",
       "      <th>num_rev</th>\n",
       "    </tr>\n",
       "  </thead>\n",
       "  <tbody>\n",
       "    <tr>\n",
       "      <th>0</th>\n",
       "      <td>NaN</td>\n",
       "      <td>246783</td>\n",
       "      <td>Wildlands: The Unquiet Dead</td>\n",
       "      <td>14</td>\n",
       "      <td>60</td>\n",
       "      <td>2</td>\n",
       "      <td>4</td>\n",
       "      <td>[]</td>\n",
       "      <td>['Expansion for Base-game', 'Miniatures']</td>\n",
       "      <td>2.0</td>\n",
       "      <td>2018</td>\n",
       "      <td>5.653</td>\n",
       "      <td>7.44</td>\n",
       "      <td>108.0</td>\n",
       "    </tr>\n",
       "    <tr>\n",
       "      <th>1</th>\n",
       "      <td>12558.0</td>\n",
       "      <td>205776</td>\n",
       "      <td>Gentleman's Deal</td>\n",
       "      <td>12</td>\n",
       "      <td>60</td>\n",
       "      <td>5</td>\n",
       "      <td>9</td>\n",
       "      <td>['Partnerships', 'Voting']</td>\n",
       "      <td>['Bluffing', 'Negotiation', 'Party Game']</td>\n",
       "      <td>1.0</td>\n",
       "      <td>2016</td>\n",
       "      <td>5.514</td>\n",
       "      <td>6.21</td>\n",
       "      <td>47.0</td>\n",
       "    </tr>\n",
       "    <tr>\n",
       "      <th>2</th>\n",
       "      <td>13663.0</td>\n",
       "      <td>188129</td>\n",
       "      <td>Heroes and Tricks</td>\n",
       "      <td>8</td>\n",
       "      <td>25</td>\n",
       "      <td>2</td>\n",
       "      <td>6</td>\n",
       "      <td>['Hand Management', 'Trick-taking']</td>\n",
       "      <td>['Deduction', 'Fantasy']</td>\n",
       "      <td>0.0</td>\n",
       "      <td>2017</td>\n",
       "      <td>5.504</td>\n",
       "      <td>5.67</td>\n",
       "      <td>83.0</td>\n",
       "    </tr>\n",
       "    <tr>\n",
       "      <th>3</th>\n",
       "      <td>13323.0</td>\n",
       "      <td>206083</td>\n",
       "      <td>Ragers: Champions of the Arena</td>\n",
       "      <td>14</td>\n",
       "      <td>20</td>\n",
       "      <td>2</td>\n",
       "      <td>2</td>\n",
       "      <td>['Rock-Paper-Scissors', 'Simultaneous Action S...</td>\n",
       "      <td>['Card Game', 'Fantasy', 'Fighting']</td>\n",
       "      <td>1.0</td>\n",
       "      <td>2016</td>\n",
       "      <td>5.507</td>\n",
       "      <td>5.98</td>\n",
       "      <td>36.0</td>\n",
       "    </tr>\n",
       "    <tr>\n",
       "      <th>4</th>\n",
       "      <td>6390.0</td>\n",
       "      <td>201006</td>\n",
       "      <td>Bumúntú</td>\n",
       "      <td>8</td>\n",
       "      <td>30</td>\n",
       "      <td>2</td>\n",
       "      <td>5</td>\n",
       "      <td>['Action / Movement Programming']</td>\n",
       "      <td>['Animals', 'Educational']</td>\n",
       "      <td>2.0</td>\n",
       "      <td>2019</td>\n",
       "      <td>5.603</td>\n",
       "      <td>7.15</td>\n",
       "      <td>95.0</td>\n",
       "    </tr>\n",
       "  </tbody>\n",
       "</table>\n",
       "</div>"
      ],
      "text/plain": [
       "      rank      id                            name  age  avg_time  \\\n",
       "0      NaN  246783     Wildlands: The Unquiet Dead   14        60   \n",
       "1  12558.0  205776                Gentleman's Deal   12        60   \n",
       "2  13663.0  188129               Heroes and Tricks    8        25   \n",
       "3  13323.0  206083  Ragers: Champions of the Arena   14        20   \n",
       "4   6390.0  201006                         Bumúntú    8        30   \n",
       "\n",
       "   min_players  max_players  \\\n",
       "0            2            4   \n",
       "1            5            9   \n",
       "2            2            6   \n",
       "3            2            2   \n",
       "4            2            5   \n",
       "\n",
       "                                            mechanic  \\\n",
       "0                                                 []   \n",
       "1                         ['Partnerships', 'Voting']   \n",
       "2                ['Hand Management', 'Trick-taking']   \n",
       "3  ['Rock-Paper-Scissors', 'Simultaneous Action S...   \n",
       "4                  ['Action / Movement Programming']   \n",
       "\n",
       "                                    category  weight  year   geek   avg  \\\n",
       "0  ['Expansion for Base-game', 'Miniatures']     2.0  2018  5.653  7.44   \n",
       "1  ['Bluffing', 'Negotiation', 'Party Game']     1.0  2016  5.514  6.21   \n",
       "2                   ['Deduction', 'Fantasy']     0.0  2017  5.504  5.67   \n",
       "3       ['Card Game', 'Fantasy', 'Fighting']     1.0  2016  5.507  5.98   \n",
       "4                 ['Animals', 'Educational']     2.0  2019  5.603  7.15   \n",
       "\n",
       "   num_rev  \n",
       "0    108.0  \n",
       "1     47.0  \n",
       "2     83.0  \n",
       "3     36.0  \n",
       "4     95.0  "
      ]
     },
     "execution_count": 6,
     "metadata": {},
     "output_type": "execute_result"
    }
   ],
   "source": [
    "bgg.head()"
   ]
  },
  {
   "cell_type": "code",
   "execution_count": 7,
   "metadata": {},
   "outputs": [
    {
     "data": {
      "text/plain": [
       "3142"
      ]
     },
     "execution_count": 7,
     "metadata": {},
     "output_type": "execute_result"
    }
   ],
   "source": [
    "# Drop rows with no rank, as they are expansions to games, and not individual games\n",
    "to_drop = bgg[bgg['rank'].isna()]\n",
    "bgg.drop(to_drop.index, axis=0, inplace=True)\n",
    "len(bgg)"
   ]
  },
  {
   "cell_type": "code",
   "execution_count": 8,
   "metadata": {},
   "outputs": [],
   "source": [
    "# Filling in median value for rows with 0 weight given\n",
    "bgg.loc[bgg[\"weight\"] == 0] = bgg['weight'].median()"
   ]
  },
  {
   "cell_type": "code",
   "execution_count": 9,
   "metadata": {},
   "outputs": [
    {
     "data": {
      "text/plain": [
       "(156, 3142)"
      ]
     },
     "execution_count": 9,
     "metadata": {},
     "output_type": "execute_result"
    }
   ],
   "source": [
    "# Double checking that it pulled only those for the correct year\n",
    "len(bgg[bgg['year'] < 2015]), len(bgg)"
   ]
  },
  {
   "cell_type": "code",
   "execution_count": 10,
   "metadata": {},
   "outputs": [],
   "source": [
    "# Dropping rows with dates prior to 2015 (bad API pull)\n",
    "to_drop = bgg[bgg['year'] < 2015]\n",
    "bgg.drop(to_drop.index, axis=0, inplace=True)"
   ]
  },
  {
   "cell_type": "code",
   "execution_count": 11,
   "metadata": {},
   "outputs": [
    {
     "data": {
      "text/plain": [
       "2986"
      ]
     },
     "execution_count": 11,
     "metadata": {},
     "output_type": "execute_result"
    }
   ],
   "source": [
    "len(bgg)"
   ]
  },
  {
   "cell_type": "code",
   "execution_count": 12,
   "metadata": {},
   "outputs": [
    {
     "data": {
      "text/html": [
       "<div>\n",
       "<style scoped>\n",
       "    .dataframe tbody tr th:only-of-type {\n",
       "        vertical-align: middle;\n",
       "    }\n",
       "\n",
       "    .dataframe tbody tr th {\n",
       "        vertical-align: top;\n",
       "    }\n",
       "\n",
       "    .dataframe thead th {\n",
       "        text-align: right;\n",
       "    }\n",
       "</style>\n",
       "<table border=\"1\" class=\"dataframe\">\n",
       "  <thead>\n",
       "    <tr style=\"text-align: right;\">\n",
       "      <th></th>\n",
       "      <th>rank</th>\n",
       "      <th>id</th>\n",
       "      <th>age</th>\n",
       "      <th>avg_time</th>\n",
       "      <th>min_players</th>\n",
       "      <th>max_players</th>\n",
       "      <th>weight</th>\n",
       "      <th>year</th>\n",
       "      <th>geek</th>\n",
       "      <th>avg</th>\n",
       "      <th>num_rev</th>\n",
       "    </tr>\n",
       "  </thead>\n",
       "  <tbody>\n",
       "    <tr>\n",
       "      <th>count</th>\n",
       "      <td>2986.000000</td>\n",
       "      <td>2986.000000</td>\n",
       "      <td>2986.000000</td>\n",
       "      <td>2986.000000</td>\n",
       "      <td>2986.000000</td>\n",
       "      <td>2986.000000</td>\n",
       "      <td>2986.000000</td>\n",
       "      <td>2986.000000</td>\n",
       "      <td>2986.000000</td>\n",
       "      <td>2986.000000</td>\n",
       "      <td>2986.000000</td>\n",
       "    </tr>\n",
       "    <tr>\n",
       "      <th>mean</th>\n",
       "      <td>5627.139652</td>\n",
       "      <td>199141.554588</td>\n",
       "      <td>10.568989</td>\n",
       "      <td>125.158741</td>\n",
       "      <td>1.877763</td>\n",
       "      <td>5.687207</td>\n",
       "      <td>2.185205</td>\n",
       "      <td>2016.504689</td>\n",
       "      <td>5.844739</td>\n",
       "      <td>6.967579</td>\n",
       "      <td>844.825184</td>\n",
       "    </tr>\n",
       "    <tr>\n",
       "      <th>std</th>\n",
       "      <td>3892.970305</td>\n",
       "      <td>34978.264744</td>\n",
       "      <td>3.419438</td>\n",
       "      <td>2210.236276</td>\n",
       "      <td>0.693686</td>\n",
       "      <td>20.202906</td>\n",
       "      <td>0.777614</td>\n",
       "      <td>1.194408</td>\n",
       "      <td>0.459034</td>\n",
       "      <td>0.757621</td>\n",
       "      <td>2586.059547</td>\n",
       "    </tr>\n",
       "    <tr>\n",
       "      <th>min</th>\n",
       "      <td>1.000000</td>\n",
       "      <td>16271.000000</td>\n",
       "      <td>0.000000</td>\n",
       "      <td>0.000000</td>\n",
       "      <td>0.000000</td>\n",
       "      <td>0.000000</td>\n",
       "      <td>1.000000</td>\n",
       "      <td>2015.000000</td>\n",
       "      <td>4.779000</td>\n",
       "      <td>2.440000</td>\n",
       "      <td>30.000000</td>\n",
       "    </tr>\n",
       "    <tr>\n",
       "      <th>25%</th>\n",
       "      <td>2452.500000</td>\n",
       "      <td>176533.500000</td>\n",
       "      <td>8.000000</td>\n",
       "      <td>30.000000</td>\n",
       "      <td>1.000000</td>\n",
       "      <td>4.000000</td>\n",
       "      <td>1.600000</td>\n",
       "      <td>2015.000000</td>\n",
       "      <td>5.565000</td>\n",
       "      <td>6.510000</td>\n",
       "      <td>92.000000</td>\n",
       "    </tr>\n",
       "    <tr>\n",
       "      <th>50%</th>\n",
       "      <td>5066.500000</td>\n",
       "      <td>197185.000000</td>\n",
       "      <td>12.000000</td>\n",
       "      <td>50.000000</td>\n",
       "      <td>2.000000</td>\n",
       "      <td>4.000000</td>\n",
       "      <td>2.062500</td>\n",
       "      <td>2016.000000</td>\n",
       "      <td>5.653000</td>\n",
       "      <td>6.960000</td>\n",
       "      <td>190.000000</td>\n",
       "    </tr>\n",
       "    <tr>\n",
       "      <th>75%</th>\n",
       "      <td>7925.500000</td>\n",
       "      <td>225122.250000</td>\n",
       "      <td>13.000000</td>\n",
       "      <td>90.000000</td>\n",
       "      <td>2.000000</td>\n",
       "      <td>5.000000</td>\n",
       "      <td>2.708300</td>\n",
       "      <td>2017.000000</td>\n",
       "      <td>5.940000</td>\n",
       "      <td>7.430000</td>\n",
       "      <td>539.500000</td>\n",
       "    </tr>\n",
       "    <tr>\n",
       "      <th>max</th>\n",
       "      <td>17135.000000</td>\n",
       "      <td>272409.000000</td>\n",
       "      <td>21.000000</td>\n",
       "      <td>120000.000000</td>\n",
       "      <td>8.000000</td>\n",
       "      <td>999.000000</td>\n",
       "      <td>5.000000</td>\n",
       "      <td>2019.000000</td>\n",
       "      <td>8.610000</td>\n",
       "      <td>9.600000</td>\n",
       "      <td>51149.000000</td>\n",
       "    </tr>\n",
       "  </tbody>\n",
       "</table>\n",
       "</div>"
      ],
      "text/plain": [
       "               rank             id          age       avg_time  min_players  \\\n",
       "count   2986.000000    2986.000000  2986.000000    2986.000000  2986.000000   \n",
       "mean    5627.139652  199141.554588    10.568989     125.158741     1.877763   \n",
       "std     3892.970305   34978.264744     3.419438    2210.236276     0.693686   \n",
       "min        1.000000   16271.000000     0.000000       0.000000     0.000000   \n",
       "25%     2452.500000  176533.500000     8.000000      30.000000     1.000000   \n",
       "50%     5066.500000  197185.000000    12.000000      50.000000     2.000000   \n",
       "75%     7925.500000  225122.250000    13.000000      90.000000     2.000000   \n",
       "max    17135.000000  272409.000000    21.000000  120000.000000     8.000000   \n",
       "\n",
       "       max_players       weight         year         geek          avg  \\\n",
       "count  2986.000000  2986.000000  2986.000000  2986.000000  2986.000000   \n",
       "mean      5.687207     2.185205  2016.504689     5.844739     6.967579   \n",
       "std      20.202906     0.777614     1.194408     0.459034     0.757621   \n",
       "min       0.000000     1.000000  2015.000000     4.779000     2.440000   \n",
       "25%       4.000000     1.600000  2015.000000     5.565000     6.510000   \n",
       "50%       4.000000     2.062500  2016.000000     5.653000     6.960000   \n",
       "75%       5.000000     2.708300  2017.000000     5.940000     7.430000   \n",
       "max     999.000000     5.000000  2019.000000     8.610000     9.600000   \n",
       "\n",
       "            num_rev  \n",
       "count   2986.000000  \n",
       "mean     844.825184  \n",
       "std     2586.059547  \n",
       "min       30.000000  \n",
       "25%       92.000000  \n",
       "50%      190.000000  \n",
       "75%      539.500000  \n",
       "max    51149.000000  "
      ]
     },
     "execution_count": 12,
     "metadata": {},
     "output_type": "execute_result"
    }
   ],
   "source": [
    "bgg.describe()"
   ]
  },
  {
   "cell_type": "code",
   "execution_count": 13,
   "metadata": {},
   "outputs": [
    {
     "data": {
      "text/plain": [
       "255"
      ]
     },
     "execution_count": 13,
     "metadata": {},
     "output_type": "execute_result"
    }
   ],
   "source": [
    "len(bgg[bgg['num_rev'] < 50])"
   ]
  },
  {
   "cell_type": "code",
   "execution_count": 14,
   "metadata": {},
   "outputs": [],
   "source": [
    "# Removing rows with less than 50 reviews\n",
    "to_drop = bgg[bgg['num_rev'] < 50]\n",
    "bgg.drop(to_drop.index, axis=0, inplace=True)"
   ]
  },
  {
   "cell_type": "code",
   "execution_count": 15,
   "metadata": {},
   "outputs": [
    {
     "data": {
      "text/html": [
       "<div>\n",
       "<style scoped>\n",
       "    .dataframe tbody tr th:only-of-type {\n",
       "        vertical-align: middle;\n",
       "    }\n",
       "\n",
       "    .dataframe tbody tr th {\n",
       "        vertical-align: top;\n",
       "    }\n",
       "\n",
       "    .dataframe thead th {\n",
       "        text-align: right;\n",
       "    }\n",
       "</style>\n",
       "<table border=\"1\" class=\"dataframe\">\n",
       "  <thead>\n",
       "    <tr style=\"text-align: right;\">\n",
       "      <th></th>\n",
       "      <th>rank</th>\n",
       "      <th>id</th>\n",
       "      <th>name</th>\n",
       "      <th>age</th>\n",
       "      <th>avg_time</th>\n",
       "      <th>min_players</th>\n",
       "      <th>max_players</th>\n",
       "      <th>mechanic</th>\n",
       "      <th>category</th>\n",
       "      <th>weight</th>\n",
       "      <th>year</th>\n",
       "      <th>geek</th>\n",
       "      <th>avg</th>\n",
       "      <th>num_rev</th>\n",
       "    </tr>\n",
       "  </thead>\n",
       "  <tbody>\n",
       "    <tr>\n",
       "      <th>4</th>\n",
       "      <td>6390.0</td>\n",
       "      <td>201006.0</td>\n",
       "      <td>Bumúntú</td>\n",
       "      <td>8.0</td>\n",
       "      <td>30.0</td>\n",
       "      <td>2.0</td>\n",
       "      <td>5.0</td>\n",
       "      <td>['Action / Movement Programming']</td>\n",
       "      <td>['Animals', 'Educational']</td>\n",
       "      <td>2.0000</td>\n",
       "      <td>2019.0</td>\n",
       "      <td>5.603</td>\n",
       "      <td>7.15</td>\n",
       "      <td>95.0</td>\n",
       "    </tr>\n",
       "    <tr>\n",
       "      <th>7</th>\n",
       "      <td>3426.0</td>\n",
       "      <td>256839.0</td>\n",
       "      <td>VektoRace</td>\n",
       "      <td>12.0</td>\n",
       "      <td>120.0</td>\n",
       "      <td>2.0</td>\n",
       "      <td>4.0</td>\n",
       "      <td>['Action / Movement Programming', 'Simulation']</td>\n",
       "      <td>['Racing', 'Sports']</td>\n",
       "      <td>2.3333</td>\n",
       "      <td>2018.0</td>\n",
       "      <td>5.785</td>\n",
       "      <td>8.32</td>\n",
       "      <td>196.0</td>\n",
       "    </tr>\n",
       "    <tr>\n",
       "      <th>8</th>\n",
       "      <td>6801.0</td>\n",
       "      <td>258104.0</td>\n",
       "      <td>Tribes: Dawn of Humanity</td>\n",
       "      <td>10.0</td>\n",
       "      <td>45.0</td>\n",
       "      <td>2.0</td>\n",
       "      <td>4.0</td>\n",
       "      <td>['Grid Movement', 'Tile Placement']</td>\n",
       "      <td>['Ancient', 'Civilization', 'Exploration', 'Pr...</td>\n",
       "      <td>2.4000</td>\n",
       "      <td>2018.0</td>\n",
       "      <td>5.590</td>\n",
       "      <td>6.80</td>\n",
       "      <td>99.0</td>\n",
       "    </tr>\n",
       "    <tr>\n",
       "      <th>11</th>\n",
       "      <td>5451.0</td>\n",
       "      <td>241796.0</td>\n",
       "      <td>Nut So Fast</td>\n",
       "      <td>8.0</td>\n",
       "      <td>20.0</td>\n",
       "      <td>3.0</td>\n",
       "      <td>6.0</td>\n",
       "      <td>['Pattern Recognition']</td>\n",
       "      <td>['Action / Dexterity', 'Party Game']</td>\n",
       "      <td>1.0000</td>\n",
       "      <td>2018.0</td>\n",
       "      <td>5.636</td>\n",
       "      <td>7.03</td>\n",
       "      <td>157.0</td>\n",
       "    </tr>\n",
       "    <tr>\n",
       "      <th>14</th>\n",
       "      <td>9524.0</td>\n",
       "      <td>233206.0</td>\n",
       "      <td>Werebeasts</td>\n",
       "      <td>8.0</td>\n",
       "      <td>15.0</td>\n",
       "      <td>3.0</td>\n",
       "      <td>10.0</td>\n",
       "      <td>['Set Collection']</td>\n",
       "      <td>['Deduction', 'Party Game']</td>\n",
       "      <td>1.5000</td>\n",
       "      <td>2018.0</td>\n",
       "      <td>5.543</td>\n",
       "      <td>6.30</td>\n",
       "      <td>94.0</td>\n",
       "    </tr>\n",
       "  </tbody>\n",
       "</table>\n",
       "</div>"
      ],
      "text/plain": [
       "      rank        id                      name   age  avg_time  min_players  \\\n",
       "4   6390.0  201006.0                   Bumúntú   8.0      30.0          2.0   \n",
       "7   3426.0  256839.0                 VektoRace  12.0     120.0          2.0   \n",
       "8   6801.0  258104.0  Tribes: Dawn of Humanity  10.0      45.0          2.0   \n",
       "11  5451.0  241796.0               Nut So Fast   8.0      20.0          3.0   \n",
       "14  9524.0  233206.0                Werebeasts   8.0      15.0          3.0   \n",
       "\n",
       "    max_players                                         mechanic  \\\n",
       "4           5.0                ['Action / Movement Programming']   \n",
       "7           4.0  ['Action / Movement Programming', 'Simulation']   \n",
       "8           4.0              ['Grid Movement', 'Tile Placement']   \n",
       "11          6.0                          ['Pattern Recognition']   \n",
       "14         10.0                               ['Set Collection']   \n",
       "\n",
       "                                             category  weight    year   geek  \\\n",
       "4                          ['Animals', 'Educational']  2.0000  2019.0  5.603   \n",
       "7                                ['Racing', 'Sports']  2.3333  2018.0  5.785   \n",
       "8   ['Ancient', 'Civilization', 'Exploration', 'Pr...  2.4000  2018.0  5.590   \n",
       "11               ['Action / Dexterity', 'Party Game']  1.0000  2018.0  5.636   \n",
       "14                        ['Deduction', 'Party Game']  1.5000  2018.0  5.543   \n",
       "\n",
       "     avg  num_rev  \n",
       "4   7.15     95.0  \n",
       "7   8.32    196.0  \n",
       "8   6.80     99.0  \n",
       "11  7.03    157.0  \n",
       "14  6.30     94.0  "
      ]
     },
     "execution_count": 15,
     "metadata": {},
     "output_type": "execute_result"
    }
   ],
   "source": [
    "bgg.head()"
   ]
  },
  {
   "cell_type": "code",
   "execution_count": 16,
   "metadata": {},
   "outputs": [],
   "source": [
    "bgg['mechanic'] = bgg['mechanic'].apply(lambda x: re.sub(\"\\[|\\]|'\",\"\", x).replace(\" \",\"\"))\n",
    "bgg['category'] = bgg['category'].apply(lambda x: re.sub(\"\\[|\\]|'\",\"\", x).replace(\" \",\"\"))"
   ]
  },
  {
   "cell_type": "code",
   "execution_count": 17,
   "metadata": {},
   "outputs": [
    {
     "data": {
      "text/html": [
       "<div>\n",
       "<style scoped>\n",
       "    .dataframe tbody tr th:only-of-type {\n",
       "        vertical-align: middle;\n",
       "    }\n",
       "\n",
       "    .dataframe tbody tr th {\n",
       "        vertical-align: top;\n",
       "    }\n",
       "\n",
       "    .dataframe thead th {\n",
       "        text-align: right;\n",
       "    }\n",
       "</style>\n",
       "<table border=\"1\" class=\"dataframe\">\n",
       "  <thead>\n",
       "    <tr style=\"text-align: right;\">\n",
       "      <th></th>\n",
       "      <th>index</th>\n",
       "      <th>rank</th>\n",
       "      <th>id</th>\n",
       "      <th>name</th>\n",
       "      <th>age</th>\n",
       "      <th>avg_time</th>\n",
       "      <th>min_players</th>\n",
       "      <th>max_players</th>\n",
       "      <th>mechanic</th>\n",
       "      <th>category</th>\n",
       "      <th>weight</th>\n",
       "      <th>year</th>\n",
       "      <th>geek</th>\n",
       "      <th>avg</th>\n",
       "      <th>num_rev</th>\n",
       "    </tr>\n",
       "  </thead>\n",
       "  <tbody>\n",
       "    <tr>\n",
       "      <th>0</th>\n",
       "      <td>4</td>\n",
       "      <td>6390.0</td>\n",
       "      <td>201006.0</td>\n",
       "      <td>Bumúntú</td>\n",
       "      <td>8.0</td>\n",
       "      <td>30.0</td>\n",
       "      <td>2.0</td>\n",
       "      <td>5.0</td>\n",
       "      <td>Action/MovementProgramming</td>\n",
       "      <td>Animals,Educational</td>\n",
       "      <td>2.0000</td>\n",
       "      <td>2019.0</td>\n",
       "      <td>5.603</td>\n",
       "      <td>7.15</td>\n",
       "      <td>95.0</td>\n",
       "    </tr>\n",
       "    <tr>\n",
       "      <th>1</th>\n",
       "      <td>7</td>\n",
       "      <td>3426.0</td>\n",
       "      <td>256839.0</td>\n",
       "      <td>VektoRace</td>\n",
       "      <td>12.0</td>\n",
       "      <td>120.0</td>\n",
       "      <td>2.0</td>\n",
       "      <td>4.0</td>\n",
       "      <td>Action/MovementProgramming,Simulation</td>\n",
       "      <td>Racing,Sports</td>\n",
       "      <td>2.3333</td>\n",
       "      <td>2018.0</td>\n",
       "      <td>5.785</td>\n",
       "      <td>8.32</td>\n",
       "      <td>196.0</td>\n",
       "    </tr>\n",
       "    <tr>\n",
       "      <th>2</th>\n",
       "      <td>8</td>\n",
       "      <td>6801.0</td>\n",
       "      <td>258104.0</td>\n",
       "      <td>Tribes: Dawn of Humanity</td>\n",
       "      <td>10.0</td>\n",
       "      <td>45.0</td>\n",
       "      <td>2.0</td>\n",
       "      <td>4.0</td>\n",
       "      <td>GridMovement,TilePlacement</td>\n",
       "      <td>Ancient,Civilization,Exploration,Prehistoric,T...</td>\n",
       "      <td>2.4000</td>\n",
       "      <td>2018.0</td>\n",
       "      <td>5.590</td>\n",
       "      <td>6.80</td>\n",
       "      <td>99.0</td>\n",
       "    </tr>\n",
       "    <tr>\n",
       "      <th>3</th>\n",
       "      <td>11</td>\n",
       "      <td>5451.0</td>\n",
       "      <td>241796.0</td>\n",
       "      <td>Nut So Fast</td>\n",
       "      <td>8.0</td>\n",
       "      <td>20.0</td>\n",
       "      <td>3.0</td>\n",
       "      <td>6.0</td>\n",
       "      <td>PatternRecognition</td>\n",
       "      <td>Action/Dexterity,PartyGame</td>\n",
       "      <td>1.0000</td>\n",
       "      <td>2018.0</td>\n",
       "      <td>5.636</td>\n",
       "      <td>7.03</td>\n",
       "      <td>157.0</td>\n",
       "    </tr>\n",
       "    <tr>\n",
       "      <th>4</th>\n",
       "      <td>14</td>\n",
       "      <td>9524.0</td>\n",
       "      <td>233206.0</td>\n",
       "      <td>Werebeasts</td>\n",
       "      <td>8.0</td>\n",
       "      <td>15.0</td>\n",
       "      <td>3.0</td>\n",
       "      <td>10.0</td>\n",
       "      <td>SetCollection</td>\n",
       "      <td>Deduction,PartyGame</td>\n",
       "      <td>1.5000</td>\n",
       "      <td>2018.0</td>\n",
       "      <td>5.543</td>\n",
       "      <td>6.30</td>\n",
       "      <td>94.0</td>\n",
       "    </tr>\n",
       "  </tbody>\n",
       "</table>\n",
       "</div>"
      ],
      "text/plain": [
       "   index    rank        id                      name   age  avg_time  \\\n",
       "0      4  6390.0  201006.0                   Bumúntú   8.0      30.0   \n",
       "1      7  3426.0  256839.0                 VektoRace  12.0     120.0   \n",
       "2      8  6801.0  258104.0  Tribes: Dawn of Humanity  10.0      45.0   \n",
       "3     11  5451.0  241796.0               Nut So Fast   8.0      20.0   \n",
       "4     14  9524.0  233206.0                Werebeasts   8.0      15.0   \n",
       "\n",
       "   min_players  max_players                               mechanic  \\\n",
       "0          2.0          5.0             Action/MovementProgramming   \n",
       "1          2.0          4.0  Action/MovementProgramming,Simulation   \n",
       "2          2.0          4.0             GridMovement,TilePlacement   \n",
       "3          3.0          6.0                     PatternRecognition   \n",
       "4          3.0         10.0                          SetCollection   \n",
       "\n",
       "                                            category  weight    year   geek  \\\n",
       "0                                Animals,Educational  2.0000  2019.0  5.603   \n",
       "1                                      Racing,Sports  2.3333  2018.0  5.785   \n",
       "2  Ancient,Civilization,Exploration,Prehistoric,T...  2.4000  2018.0  5.590   \n",
       "3                         Action/Dexterity,PartyGame  1.0000  2018.0  5.636   \n",
       "4                                Deduction,PartyGame  1.5000  2018.0  5.543   \n",
       "\n",
       "    avg  num_rev  \n",
       "0  7.15     95.0  \n",
       "1  8.32    196.0  \n",
       "2  6.80     99.0  \n",
       "3  7.03    157.0  \n",
       "4  6.30     94.0  "
      ]
     },
     "execution_count": 17,
     "metadata": {},
     "output_type": "execute_result"
    }
   ],
   "source": [
    "bgg = bgg.reset_index()\n",
    "bgg.head()"
   ]
  },
  {
   "cell_type": "code",
   "execution_count": 18,
   "metadata": {},
   "outputs": [],
   "source": [
    "mechanics_df = pd.DataFrame(bgg['mechanic'].str.split(',').tolist(), index=bgg.index).stack()\n",
    "mechanics_df = mechanics_df.reset_index()\n",
    "mechanics_df = mechanics_df.drop('level_1', axis=1)\n",
    "mechanics_df.columns = ['id', 'mechanics']"
   ]
  },
  {
   "cell_type": "code",
   "execution_count": 19,
   "metadata": {},
   "outputs": [
    {
     "data": {
      "text/html": [
       "<div>\n",
       "<style scoped>\n",
       "    .dataframe tbody tr th:only-of-type {\n",
       "        vertical-align: middle;\n",
       "    }\n",
       "\n",
       "    .dataframe tbody tr th {\n",
       "        vertical-align: top;\n",
       "    }\n",
       "\n",
       "    .dataframe thead th {\n",
       "        text-align: right;\n",
       "    }\n",
       "</style>\n",
       "<table border=\"1\" class=\"dataframe\">\n",
       "  <thead>\n",
       "    <tr style=\"text-align: right;\">\n",
       "      <th></th>\n",
       "      <th>id</th>\n",
       "      <th>mechanics</th>\n",
       "    </tr>\n",
       "  </thead>\n",
       "  <tbody>\n",
       "    <tr>\n",
       "      <th>0</th>\n",
       "      <td>0</td>\n",
       "      <td>Action/MovementProgramming</td>\n",
       "    </tr>\n",
       "    <tr>\n",
       "      <th>1</th>\n",
       "      <td>1</td>\n",
       "      <td>Action/MovementProgramming</td>\n",
       "    </tr>\n",
       "    <tr>\n",
       "      <th>2</th>\n",
       "      <td>1</td>\n",
       "      <td>Simulation</td>\n",
       "    </tr>\n",
       "    <tr>\n",
       "      <th>3</th>\n",
       "      <td>2</td>\n",
       "      <td>GridMovement</td>\n",
       "    </tr>\n",
       "    <tr>\n",
       "      <th>4</th>\n",
       "      <td>2</td>\n",
       "      <td>TilePlacement</td>\n",
       "    </tr>\n",
       "  </tbody>\n",
       "</table>\n",
       "</div>"
      ],
      "text/plain": [
       "   id                   mechanics\n",
       "0   0  Action/MovementProgramming\n",
       "1   1  Action/MovementProgramming\n",
       "2   1                  Simulation\n",
       "3   2                GridMovement\n",
       "4   2               TilePlacement"
      ]
     },
     "execution_count": 19,
     "metadata": {},
     "output_type": "execute_result"
    }
   ],
   "source": [
    "mechanics_df.head()"
   ]
  },
  {
   "cell_type": "code",
   "execution_count": 20,
   "metadata": {},
   "outputs": [],
   "source": [
    "encoder = OneHotEncoder(categories=\"auto\").fit(mechanics_df[[\"mechanics\"]])"
   ]
  },
  {
   "cell_type": "code",
   "execution_count": 21,
   "metadata": {},
   "outputs": [
    {
     "data": {
      "text/html": [
       "<div>\n",
       "<style scoped>\n",
       "    .dataframe tbody tr th:only-of-type {\n",
       "        vertical-align: middle;\n",
       "    }\n",
       "\n",
       "    .dataframe tbody tr th {\n",
       "        vertical-align: top;\n",
       "    }\n",
       "\n",
       "    .dataframe thead th {\n",
       "        text-align: right;\n",
       "    }\n",
       "</style>\n",
       "<table border=\"1\" class=\"dataframe\">\n",
       "  <thead>\n",
       "    <tr style=\"text-align: right;\">\n",
       "      <th></th>\n",
       "      <th>id</th>\n",
       "      <th>mech_</th>\n",
       "      <th>mech_Acting</th>\n",
       "      <th>mech_Action/MovementProgramming</th>\n",
       "      <th>mech_ActionPointAllowanceSystem</th>\n",
       "      <th>mech_Area-Impulse</th>\n",
       "      <th>mech_AreaControl/AreaInfluence</th>\n",
       "      <th>mech_AreaEnclosure</th>\n",
       "      <th>mech_AreaMovement</th>\n",
       "      <th>mech_Auction/Bidding</th>\n",
       "      <th>...</th>\n",
       "      <th>mech_Storytelling</th>\n",
       "      <th>mech_TakeThat</th>\n",
       "      <th>mech_TilePlacement</th>\n",
       "      <th>mech_TimeTrack</th>\n",
       "      <th>mech_Trading</th>\n",
       "      <th>mech_Trick-taking</th>\n",
       "      <th>mech_VariablePhaseOrder</th>\n",
       "      <th>mech_VariablePlayerPowers</th>\n",
       "      <th>mech_Voting</th>\n",
       "      <th>mech_WorkerPlacement</th>\n",
       "    </tr>\n",
       "  </thead>\n",
       "  <tbody>\n",
       "    <tr>\n",
       "      <th>0</th>\n",
       "      <td>0</td>\n",
       "      <td>0.0</td>\n",
       "      <td>0.0</td>\n",
       "      <td>1.0</td>\n",
       "      <td>0.0</td>\n",
       "      <td>0.0</td>\n",
       "      <td>0.0</td>\n",
       "      <td>0.0</td>\n",
       "      <td>0.0</td>\n",
       "      <td>0.0</td>\n",
       "      <td>...</td>\n",
       "      <td>0.0</td>\n",
       "      <td>0.0</td>\n",
       "      <td>0.0</td>\n",
       "      <td>0.0</td>\n",
       "      <td>0.0</td>\n",
       "      <td>0.0</td>\n",
       "      <td>0.0</td>\n",
       "      <td>0.0</td>\n",
       "      <td>0.0</td>\n",
       "      <td>0.0</td>\n",
       "    </tr>\n",
       "    <tr>\n",
       "      <th>1</th>\n",
       "      <td>1</td>\n",
       "      <td>0.0</td>\n",
       "      <td>0.0</td>\n",
       "      <td>1.0</td>\n",
       "      <td>0.0</td>\n",
       "      <td>0.0</td>\n",
       "      <td>0.0</td>\n",
       "      <td>0.0</td>\n",
       "      <td>0.0</td>\n",
       "      <td>0.0</td>\n",
       "      <td>...</td>\n",
       "      <td>0.0</td>\n",
       "      <td>0.0</td>\n",
       "      <td>0.0</td>\n",
       "      <td>0.0</td>\n",
       "      <td>0.0</td>\n",
       "      <td>0.0</td>\n",
       "      <td>0.0</td>\n",
       "      <td>0.0</td>\n",
       "      <td>0.0</td>\n",
       "      <td>0.0</td>\n",
       "    </tr>\n",
       "    <tr>\n",
       "      <th>2</th>\n",
       "      <td>2</td>\n",
       "      <td>0.0</td>\n",
       "      <td>0.0</td>\n",
       "      <td>0.0</td>\n",
       "      <td>0.0</td>\n",
       "      <td>0.0</td>\n",
       "      <td>0.0</td>\n",
       "      <td>0.0</td>\n",
       "      <td>0.0</td>\n",
       "      <td>0.0</td>\n",
       "      <td>...</td>\n",
       "      <td>0.0</td>\n",
       "      <td>0.0</td>\n",
       "      <td>1.0</td>\n",
       "      <td>0.0</td>\n",
       "      <td>0.0</td>\n",
       "      <td>0.0</td>\n",
       "      <td>0.0</td>\n",
       "      <td>0.0</td>\n",
       "      <td>0.0</td>\n",
       "      <td>0.0</td>\n",
       "    </tr>\n",
       "    <tr>\n",
       "      <th>3</th>\n",
       "      <td>3</td>\n",
       "      <td>0.0</td>\n",
       "      <td>0.0</td>\n",
       "      <td>0.0</td>\n",
       "      <td>0.0</td>\n",
       "      <td>0.0</td>\n",
       "      <td>0.0</td>\n",
       "      <td>0.0</td>\n",
       "      <td>0.0</td>\n",
       "      <td>0.0</td>\n",
       "      <td>...</td>\n",
       "      <td>0.0</td>\n",
       "      <td>0.0</td>\n",
       "      <td>0.0</td>\n",
       "      <td>0.0</td>\n",
       "      <td>0.0</td>\n",
       "      <td>0.0</td>\n",
       "      <td>0.0</td>\n",
       "      <td>0.0</td>\n",
       "      <td>0.0</td>\n",
       "      <td>0.0</td>\n",
       "    </tr>\n",
       "    <tr>\n",
       "      <th>4</th>\n",
       "      <td>4</td>\n",
       "      <td>0.0</td>\n",
       "      <td>0.0</td>\n",
       "      <td>0.0</td>\n",
       "      <td>0.0</td>\n",
       "      <td>0.0</td>\n",
       "      <td>0.0</td>\n",
       "      <td>0.0</td>\n",
       "      <td>0.0</td>\n",
       "      <td>0.0</td>\n",
       "      <td>...</td>\n",
       "      <td>0.0</td>\n",
       "      <td>0.0</td>\n",
       "      <td>0.0</td>\n",
       "      <td>0.0</td>\n",
       "      <td>0.0</td>\n",
       "      <td>0.0</td>\n",
       "      <td>0.0</td>\n",
       "      <td>0.0</td>\n",
       "      <td>0.0</td>\n",
       "      <td>0.0</td>\n",
       "    </tr>\n",
       "  </tbody>\n",
       "</table>\n",
       "<p>5 rows × 55 columns</p>\n",
       "</div>"
      ],
      "text/plain": [
       "   id  mech_  mech_Acting  mech_Action/MovementProgramming  \\\n",
       "0   0    0.0          0.0                              1.0   \n",
       "1   1    0.0          0.0                              1.0   \n",
       "2   2    0.0          0.0                              0.0   \n",
       "3   3    0.0          0.0                              0.0   \n",
       "4   4    0.0          0.0                              0.0   \n",
       "\n",
       "   mech_ActionPointAllowanceSystem  mech_Area-Impulse  \\\n",
       "0                              0.0                0.0   \n",
       "1                              0.0                0.0   \n",
       "2                              0.0                0.0   \n",
       "3                              0.0                0.0   \n",
       "4                              0.0                0.0   \n",
       "\n",
       "   mech_AreaControl/AreaInfluence  mech_AreaEnclosure  mech_AreaMovement  \\\n",
       "0                             0.0                 0.0                0.0   \n",
       "1                             0.0                 0.0                0.0   \n",
       "2                             0.0                 0.0                0.0   \n",
       "3                             0.0                 0.0                0.0   \n",
       "4                             0.0                 0.0                0.0   \n",
       "\n",
       "   mech_Auction/Bidding          ...           mech_Storytelling  \\\n",
       "0                   0.0          ...                         0.0   \n",
       "1                   0.0          ...                         0.0   \n",
       "2                   0.0          ...                         0.0   \n",
       "3                   0.0          ...                         0.0   \n",
       "4                   0.0          ...                         0.0   \n",
       "\n",
       "   mech_TakeThat  mech_TilePlacement  mech_TimeTrack  mech_Trading  \\\n",
       "0            0.0                 0.0             0.0           0.0   \n",
       "1            0.0                 0.0             0.0           0.0   \n",
       "2            0.0                 1.0             0.0           0.0   \n",
       "3            0.0                 0.0             0.0           0.0   \n",
       "4            0.0                 0.0             0.0           0.0   \n",
       "\n",
       "   mech_Trick-taking  mech_VariablePhaseOrder  mech_VariablePlayerPowers  \\\n",
       "0                0.0                      0.0                        0.0   \n",
       "1                0.0                      0.0                        0.0   \n",
       "2                0.0                      0.0                        0.0   \n",
       "3                0.0                      0.0                        0.0   \n",
       "4                0.0                      0.0                        0.0   \n",
       "\n",
       "   mech_Voting  mech_WorkerPlacement  \n",
       "0          0.0                   0.0  \n",
       "1          0.0                   0.0  \n",
       "2          0.0                   0.0  \n",
       "3          0.0                   0.0  \n",
       "4          0.0                   0.0  \n",
       "\n",
       "[5 rows x 55 columns]"
      ]
     },
     "execution_count": 21,
     "metadata": {},
     "output_type": "execute_result"
    }
   ],
   "source": [
    "mech_ohe = pd.DataFrame(encoder.transform(mechanics_df[[\"mechanics\"]]).toarray(),\n",
    "                   columns=encoder.get_feature_names([\"mech\"]))\n",
    "\n",
    "mech_ohe_df = pd.concat([mechanics_df.drop(\"mechanics\", axis=1), mech_ohe], axis=1)\n",
    "\n",
    "mech_dedup = mech_ohe_df.groupby(\"id\")[mech_ohe.columns].agg(\"sum\").reset_index()\n",
    "\n",
    "mech_dedup.head()"
   ]
  },
  {
   "cell_type": "code",
   "execution_count": 22,
   "metadata": {},
   "outputs": [],
   "source": [
    "cat_df = pd.DataFrame(bgg['category'].str.split(',').tolist(), index=bgg.index).stack()\n",
    "cat_df = cat_df.reset_index()\n",
    "cat_df = cat_df.drop('level_1', axis=1)\n",
    "cat_df.columns = ['id', 'category']"
   ]
  },
  {
   "cell_type": "code",
   "execution_count": 23,
   "metadata": {},
   "outputs": [
    {
     "data": {
      "text/html": [
       "<div>\n",
       "<style scoped>\n",
       "    .dataframe tbody tr th:only-of-type {\n",
       "        vertical-align: middle;\n",
       "    }\n",
       "\n",
       "    .dataframe tbody tr th {\n",
       "        vertical-align: top;\n",
       "    }\n",
       "\n",
       "    .dataframe thead th {\n",
       "        text-align: right;\n",
       "    }\n",
       "</style>\n",
       "<table border=\"1\" class=\"dataframe\">\n",
       "  <thead>\n",
       "    <tr style=\"text-align: right;\">\n",
       "      <th></th>\n",
       "      <th>id</th>\n",
       "      <th>category</th>\n",
       "    </tr>\n",
       "  </thead>\n",
       "  <tbody>\n",
       "    <tr>\n",
       "      <th>0</th>\n",
       "      <td>0</td>\n",
       "      <td>Animals</td>\n",
       "    </tr>\n",
       "    <tr>\n",
       "      <th>1</th>\n",
       "      <td>0</td>\n",
       "      <td>Educational</td>\n",
       "    </tr>\n",
       "    <tr>\n",
       "      <th>2</th>\n",
       "      <td>1</td>\n",
       "      <td>Racing</td>\n",
       "    </tr>\n",
       "    <tr>\n",
       "      <th>3</th>\n",
       "      <td>1</td>\n",
       "      <td>Sports</td>\n",
       "    </tr>\n",
       "    <tr>\n",
       "      <th>4</th>\n",
       "      <td>2</td>\n",
       "      <td>Ancient</td>\n",
       "    </tr>\n",
       "  </tbody>\n",
       "</table>\n",
       "</div>"
      ],
      "text/plain": [
       "   id     category\n",
       "0   0      Animals\n",
       "1   0  Educational\n",
       "2   1       Racing\n",
       "3   1       Sports\n",
       "4   2      Ancient"
      ]
     },
     "execution_count": 23,
     "metadata": {},
     "output_type": "execute_result"
    }
   ],
   "source": [
    "cat_df.head()"
   ]
  },
  {
   "cell_type": "code",
   "execution_count": 24,
   "metadata": {},
   "outputs": [],
   "source": [
    "encoder_2 = OneHotEncoder(categories=\"auto\").fit(cat_df[[\"category\"]])"
   ]
  },
  {
   "cell_type": "code",
   "execution_count": 25,
   "metadata": {},
   "outputs": [
    {
     "data": {
      "text/html": [
       "<div>\n",
       "<style scoped>\n",
       "    .dataframe tbody tr th:only-of-type {\n",
       "        vertical-align: middle;\n",
       "    }\n",
       "\n",
       "    .dataframe tbody tr th {\n",
       "        vertical-align: top;\n",
       "    }\n",
       "\n",
       "    .dataframe thead th {\n",
       "        text-align: right;\n",
       "    }\n",
       "</style>\n",
       "<table border=\"1\" class=\"dataframe\">\n",
       "  <thead>\n",
       "    <tr style=\"text-align: right;\">\n",
       "      <th></th>\n",
       "      <th>id</th>\n",
       "      <th>cat_</th>\n",
       "      <th>cat_\"ChildrensGame\"</th>\n",
       "      <th>cat_AbstractStrategy</th>\n",
       "      <th>cat_Action/Dexterity</th>\n",
       "      <th>cat_Adventure</th>\n",
       "      <th>cat_AgeofReason</th>\n",
       "      <th>cat_AmericanCivilWar</th>\n",
       "      <th>cat_AmericanIndianWars</th>\n",
       "      <th>cat_AmericanRevolutionaryWar</th>\n",
       "      <th>...</th>\n",
       "      <th>cat_Transportation</th>\n",
       "      <th>cat_Travel</th>\n",
       "      <th>cat_Trivia</th>\n",
       "      <th>cat_VideoGameTheme</th>\n",
       "      <th>cat_VietnamWar</th>\n",
       "      <th>cat_Wargame</th>\n",
       "      <th>cat_WordGame</th>\n",
       "      <th>cat_WorldWarI</th>\n",
       "      <th>cat_WorldWarII</th>\n",
       "      <th>cat_Zombies</th>\n",
       "    </tr>\n",
       "  </thead>\n",
       "  <tbody>\n",
       "    <tr>\n",
       "      <th>0</th>\n",
       "      <td>0</td>\n",
       "      <td>0.0</td>\n",
       "      <td>0.0</td>\n",
       "      <td>0.0</td>\n",
       "      <td>0.0</td>\n",
       "      <td>0.0</td>\n",
       "      <td>0.0</td>\n",
       "      <td>0.0</td>\n",
       "      <td>0.0</td>\n",
       "      <td>0.0</td>\n",
       "      <td>...</td>\n",
       "      <td>0.0</td>\n",
       "      <td>0.0</td>\n",
       "      <td>0.0</td>\n",
       "      <td>0.0</td>\n",
       "      <td>0.0</td>\n",
       "      <td>0.0</td>\n",
       "      <td>0.0</td>\n",
       "      <td>0.0</td>\n",
       "      <td>0.0</td>\n",
       "      <td>0.0</td>\n",
       "    </tr>\n",
       "    <tr>\n",
       "      <th>1</th>\n",
       "      <td>1</td>\n",
       "      <td>0.0</td>\n",
       "      <td>0.0</td>\n",
       "      <td>0.0</td>\n",
       "      <td>0.0</td>\n",
       "      <td>0.0</td>\n",
       "      <td>0.0</td>\n",
       "      <td>0.0</td>\n",
       "      <td>0.0</td>\n",
       "      <td>0.0</td>\n",
       "      <td>...</td>\n",
       "      <td>0.0</td>\n",
       "      <td>0.0</td>\n",
       "      <td>0.0</td>\n",
       "      <td>0.0</td>\n",
       "      <td>0.0</td>\n",
       "      <td>0.0</td>\n",
       "      <td>0.0</td>\n",
       "      <td>0.0</td>\n",
       "      <td>0.0</td>\n",
       "      <td>0.0</td>\n",
       "    </tr>\n",
       "    <tr>\n",
       "      <th>2</th>\n",
       "      <td>2</td>\n",
       "      <td>0.0</td>\n",
       "      <td>0.0</td>\n",
       "      <td>0.0</td>\n",
       "      <td>0.0</td>\n",
       "      <td>0.0</td>\n",
       "      <td>0.0</td>\n",
       "      <td>0.0</td>\n",
       "      <td>0.0</td>\n",
       "      <td>0.0</td>\n",
       "      <td>...</td>\n",
       "      <td>0.0</td>\n",
       "      <td>0.0</td>\n",
       "      <td>0.0</td>\n",
       "      <td>0.0</td>\n",
       "      <td>0.0</td>\n",
       "      <td>0.0</td>\n",
       "      <td>0.0</td>\n",
       "      <td>0.0</td>\n",
       "      <td>0.0</td>\n",
       "      <td>0.0</td>\n",
       "    </tr>\n",
       "    <tr>\n",
       "      <th>3</th>\n",
       "      <td>3</td>\n",
       "      <td>0.0</td>\n",
       "      <td>0.0</td>\n",
       "      <td>0.0</td>\n",
       "      <td>1.0</td>\n",
       "      <td>0.0</td>\n",
       "      <td>0.0</td>\n",
       "      <td>0.0</td>\n",
       "      <td>0.0</td>\n",
       "      <td>0.0</td>\n",
       "      <td>...</td>\n",
       "      <td>0.0</td>\n",
       "      <td>0.0</td>\n",
       "      <td>0.0</td>\n",
       "      <td>0.0</td>\n",
       "      <td>0.0</td>\n",
       "      <td>0.0</td>\n",
       "      <td>0.0</td>\n",
       "      <td>0.0</td>\n",
       "      <td>0.0</td>\n",
       "      <td>0.0</td>\n",
       "    </tr>\n",
       "    <tr>\n",
       "      <th>4</th>\n",
       "      <td>4</td>\n",
       "      <td>0.0</td>\n",
       "      <td>0.0</td>\n",
       "      <td>0.0</td>\n",
       "      <td>0.0</td>\n",
       "      <td>0.0</td>\n",
       "      <td>0.0</td>\n",
       "      <td>0.0</td>\n",
       "      <td>0.0</td>\n",
       "      <td>0.0</td>\n",
       "      <td>...</td>\n",
       "      <td>0.0</td>\n",
       "      <td>0.0</td>\n",
       "      <td>0.0</td>\n",
       "      <td>0.0</td>\n",
       "      <td>0.0</td>\n",
       "      <td>0.0</td>\n",
       "      <td>0.0</td>\n",
       "      <td>0.0</td>\n",
       "      <td>0.0</td>\n",
       "      <td>0.0</td>\n",
       "    </tr>\n",
       "  </tbody>\n",
       "</table>\n",
       "<p>5 rows × 85 columns</p>\n",
       "</div>"
      ],
      "text/plain": [
       "   id  cat_  cat_\"ChildrensGame\"  cat_AbstractStrategy  cat_Action/Dexterity  \\\n",
       "0   0   0.0                  0.0                   0.0                   0.0   \n",
       "1   1   0.0                  0.0                   0.0                   0.0   \n",
       "2   2   0.0                  0.0                   0.0                   0.0   \n",
       "3   3   0.0                  0.0                   0.0                   1.0   \n",
       "4   4   0.0                  0.0                   0.0                   0.0   \n",
       "\n",
       "   cat_Adventure  cat_AgeofReason  cat_AmericanCivilWar  \\\n",
       "0            0.0              0.0                   0.0   \n",
       "1            0.0              0.0                   0.0   \n",
       "2            0.0              0.0                   0.0   \n",
       "3            0.0              0.0                   0.0   \n",
       "4            0.0              0.0                   0.0   \n",
       "\n",
       "   cat_AmericanIndianWars  cat_AmericanRevolutionaryWar     ...       \\\n",
       "0                     0.0                           0.0     ...        \n",
       "1                     0.0                           0.0     ...        \n",
       "2                     0.0                           0.0     ...        \n",
       "3                     0.0                           0.0     ...        \n",
       "4                     0.0                           0.0     ...        \n",
       "\n",
       "   cat_Transportation  cat_Travel  cat_Trivia  cat_VideoGameTheme  \\\n",
       "0                 0.0         0.0         0.0                 0.0   \n",
       "1                 0.0         0.0         0.0                 0.0   \n",
       "2                 0.0         0.0         0.0                 0.0   \n",
       "3                 0.0         0.0         0.0                 0.0   \n",
       "4                 0.0         0.0         0.0                 0.0   \n",
       "\n",
       "   cat_VietnamWar  cat_Wargame  cat_WordGame  cat_WorldWarI  cat_WorldWarII  \\\n",
       "0             0.0          0.0           0.0            0.0             0.0   \n",
       "1             0.0          0.0           0.0            0.0             0.0   \n",
       "2             0.0          0.0           0.0            0.0             0.0   \n",
       "3             0.0          0.0           0.0            0.0             0.0   \n",
       "4             0.0          0.0           0.0            0.0             0.0   \n",
       "\n",
       "   cat_Zombies  \n",
       "0          0.0  \n",
       "1          0.0  \n",
       "2          0.0  \n",
       "3          0.0  \n",
       "4          0.0  \n",
       "\n",
       "[5 rows x 85 columns]"
      ]
     },
     "execution_count": 25,
     "metadata": {},
     "output_type": "execute_result"
    }
   ],
   "source": [
    "cat_ohe = pd.DataFrame(encoder_2.transform(cat_df[[\"category\"]]).toarray(),\n",
    "                   columns=encoder_2.get_feature_names([\"cat\"]))\n",
    "\n",
    "cat_ohe_df = pd.concat([cat_df.drop(\"category\", axis=1), cat_ohe], axis=1)\n",
    "\n",
    "cat_dedup = cat_ohe_df.groupby(\"id\")[cat_ohe.columns].agg(\"sum\").reset_index()\n",
    "\n",
    "cat_dedup.head()"
   ]
  },
  {
   "cell_type": "code",
   "execution_count": 26,
   "metadata": {},
   "outputs": [
    {
     "data": {
      "text/plain": [
       "(2731, 153)"
      ]
     },
     "execution_count": 26,
     "metadata": {},
     "output_type": "execute_result"
    }
   ],
   "source": [
    "bgg_complete = pd.concat([bgg, mech_dedup, cat_dedup], axis=1)\n",
    "bgg_complete = bgg_complete.drop(['mechanic','category'], axis=1)\n",
    "bgg_complete.shape"
   ]
  },
  {
   "cell_type": "markdown",
   "metadata": {},
   "source": [
    "**Our cleaned dataset now consists of data from the year 2016 through 2019**"
   ]
  },
  {
   "cell_type": "markdown",
   "metadata": {},
   "source": [
    "---"
   ]
  },
  {
   "cell_type": "markdown",
   "metadata": {},
   "source": [
    "### Prep for Modeling"
   ]
  },
  {
   "cell_type": "code",
   "execution_count": 27,
   "metadata": {},
   "outputs": [
    {
     "data": {
      "text/plain": [
       "count    2731.000000\n",
       "mean        5.873798\n",
       "std         0.469515\n",
       "min         4.779000\n",
       "25%         5.582000\n",
       "50%         5.676000\n",
       "75%         5.989000\n",
       "max         8.610000\n",
       "Name: geek, dtype: float64"
      ]
     },
     "execution_count": 27,
     "metadata": {},
     "output_type": "execute_result"
    }
   ],
   "source": [
    "bgg_complete['geek'].describe()"
   ]
  },
  {
   "cell_type": "code",
   "execution_count": 28,
   "metadata": {},
   "outputs": [],
   "source": [
    "#Create classiying column called top_score using the greek score, the top 25% will be 1 and the rest will be 0\n",
    "\n",
    "bgg_complete['top_score'] = bgg['geek'].apply(lambda x: 1 if x > 5.989000 else 0)"
   ]
  },
  {
   "cell_type": "code",
   "execution_count": 29,
   "metadata": {},
   "outputs": [],
   "source": [
    "#define which predictors to drop\n",
    "\n",
    "drop = ['index','rank', 'id', 'name', 'year', 'geek',\n",
    "        'age', 'avg', 'num_rev', 'mech_', 'cat_', 'top_score']\n",
    "\n",
    "to_drop = drop + cat_dedup.columns.tolist()"
   ]
  },
  {
   "cell_type": "code",
   "execution_count": 30,
   "metadata": {},
   "outputs": [],
   "source": [
    "#Define our X and y \n",
    "\n",
    "X = bgg_complete.drop(to_drop, axis=1)\n",
    "y = bgg_complete['top_score']"
   ]
  },
  {
   "cell_type": "code",
   "execution_count": 31,
   "metadata": {},
   "outputs": [],
   "source": [
    "#train-test split\n",
    "\n",
    "X_train, X_test, y_train, y_test = train_test_split(X, y)"
   ]
  },
  {
   "cell_type": "markdown",
   "metadata": {},
   "source": [
    "*** "
   ]
  },
  {
   "cell_type": "markdown",
   "metadata": {},
   "source": [
    "## Modeling"
   ]
  },
  {
   "cell_type": "markdown",
   "metadata": {},
   "source": [
    "**We will try several classification models for comparisons**"
   ]
  },
  {
   "cell_type": "markdown",
   "metadata": {},
   "source": [
    "---"
   ]
  },
  {
   "cell_type": "markdown",
   "metadata": {},
   "source": [
    "## Decision Tree"
   ]
  },
  {
   "cell_type": "code",
   "execution_count": 32,
   "metadata": {},
   "outputs": [],
   "source": [
    "clf = DecisionTreeClassifier()\n",
    "\n",
    "clf.fit(X_train, y_train)\n",
    "\n",
    "y_pred_t = clf.predict_proba(X_test)"
   ]
  },
  {
   "cell_type": "code",
   "execution_count": 33,
   "metadata": {},
   "outputs": [
    {
     "name": "stdout",
     "output_type": "stream",
     "text": [
      "avg_time: 6.54%\n",
      "min_players: 3.07%\n",
      "max_players: 8.63%\n",
      "weight: 36.48%\n",
      "mech_Action/MovementProgramming: 1.09%\n",
      "mech_ActionPointAllowanceSystem: 1.19%\n",
      "mech_AreaControl/AreaInfluence: 1.89%\n",
      "mech_AreaMovement: 1.22%\n",
      "mech_Auction/Bidding: 1.14%\n",
      "mech_CardDrafting: 1.84%\n",
      "mech_CooperativePlay: 1.43%\n",
      "mech_Deck/PoolBuilding: 2.07%\n",
      "mech_DiceRolling: 1.76%\n",
      "mech_GridMovement: 1.15%\n",
      "mech_HandManagement: 2.95%\n",
      "mech_Hex-and-Counter: 1.43%\n",
      "mech_ModularBoard: 1.36%\n",
      "mech_Partnerships: 1.17%\n",
      "mech_PressYourLuck: 1.33%\n",
      "mech_Route/NetworkBuilding: 1.39%\n",
      "mech_SetCollection: 2.93%\n",
      "mech_Storytelling: 1.04%\n",
      "mech_TakeThat: 1.36%\n",
      "mech_TilePlacement: 1.91%\n"
     ]
    }
   ],
   "source": [
    "#Print feature importance percentages\n",
    "\n",
    "vals = clf.feature_importances_.tolist()\n",
    "best = []\n",
    "for i, val in enumerate(vals):\n",
    "    if round(val * 100, 2) > 1:\n",
    "        print(X.columns[i] + \": \" + str(round(val * 100, 2)) + \"%\")\n",
    "        best.append(val)"
   ]
  },
  {
   "cell_type": "markdown",
   "metadata": {},
   "source": [
    "**Evaluate Decision Tree**"
   ]
  },
  {
   "cell_type": "code",
   "execution_count": 34,
   "metadata": {},
   "outputs": [
    {
     "name": "stdout",
     "output_type": "stream",
     "text": [
      "Log loss: 10.114858603459293\n",
      "\n",
      "ROC AUC Score: 0.6075922371507784\n"
     ]
    },
    {
     "data": {
      "image/png": "[encoded data removed]",
      "text/plain": [
       "<Figure size 432x288 with 1 Axes>"
      ]
     },
     "metadata": {},
     "output_type": "display_data"
    }
   ],
   "source": [
    "#Seaborn's beautiful styling\n",
    "sns.set_style(\"darkgrid\", {\"axes.facecolor\": \".9\"})\n",
    "\n",
    "print(f\"Log loss: {log_loss(y_test, y_pred_t)}\")\n",
    "print(f\"\\nROC AUC Score: {roc_auc_score(y_test, y_pred_t[:,1])}\")\n",
    "fpr, tpr, thresholds = roc_curve(y_test, y_pred_t[:,1])\n",
    "#Plot\n",
    "plt.plot(fpr, tpr, label='ROC curve')\n",
    "# this is just a diagonal\n",
    "plt.plot([0, 1], [0, 1], linestyle='--');\n",
    "plt.xlabel('False Positive Rate')\n",
    "plt.ylabel('True Positive Rate')\n",
    "plt.legend(loc=\"lower right\")\n",
    "plt.title('Receiver operating characteristic (ROC) Curve', fontsize=15)\n",
    "plt.show;"
   ]
  },
  {
   "cell_type": "markdown",
   "metadata": {},
   "source": [
    "**Visualization of Decision Tree**"
   ]
  },
  {
   "cell_type": "code",
   "execution_count": 39,
   "metadata": {},
   "outputs": [],
   "source": [
    "#dot_data = StringIO()\n",
    "#export_graphviz(clf, out_file=dot_data, filled=True, rounded=True,special_characters=True)\n",
    "#graph = pydotplus.graph_from_dot_data(dot_data.getvalue())  \n",
    "#Image(graph.create_png())"
   ]
  },
  {
   "cell_type": "markdown",
   "metadata": {},
   "source": [
    "---"
   ]
  },
  {
   "cell_type": "markdown",
   "metadata": {},
   "source": [
    "## Random Forest Classifier"
   ]
  },
  {
   "cell_type": "code",
   "execution_count": 40,
   "metadata": {},
   "outputs": [],
   "source": [
    "forest = RandomForestClassifier(n_estimators=100, max_depth=5)\n",
    "\n",
    "forest.fit(X_train, y_train)\n",
    "\n",
    "y_pred_forest = forest.predict_proba(X_test)\n",
    "y_pred_f = forest.predict(X_test)"
   ]
  },
  {
   "cell_type": "code",
   "execution_count": 41,
   "metadata": {},
   "outputs": [
    {
     "name": "stdout",
     "output_type": "stream",
     "text": [
      "avg_time: 11.63%\n",
      "min_players: 5.98%\n",
      "max_players: 5.9%\n",
      "weight: 23.04%\n",
      "mech_ActionPointAllowanceSystem: 1.4%\n",
      "mech_AreaControl/AreaInfluence: 2.0%\n",
      "mech_AreaMovement: 1.33%\n",
      "mech_CardDrafting: 10.36%\n",
      "mech_CooperativePlay: 3.09%\n",
      "mech_Deck/PoolBuilding: 3.5%\n",
      "mech_HandManagement: 1.5%\n",
      "mech_Hex-and-Counter: 2.16%\n",
      "mech_ModularBoard: 1.31%\n",
      "mech_SetCollection: 1.21%\n",
      "mech_Storytelling: 2.14%\n",
      "mech_VariablePhaseOrder: 1.14%\n",
      "mech_VariablePlayerPowers: 3.41%\n",
      "mech_WorkerPlacement: 4.72%\n"
     ]
    }
   ],
   "source": [
    "#Print feature importance percentages\n",
    "\n",
    "vals = forest.feature_importances_.tolist()\n",
    "best = []\n",
    "for i, val in enumerate(vals):\n",
    "    if round(val * 100, 2) > 1:\n",
    "        print(X.columns[i] + \": \" + str(round(val * 100, 2)) + \"%\")\n",
    "        best.append(val)"
   ]
  },
  {
   "cell_type": "markdown",
   "metadata": {},
   "source": [
    "**Evaluate Random Forest**"
   ]
  },
  {
   "cell_type": "code",
   "execution_count": 42,
   "metadata": {},
   "outputs": [
    {
     "name": "stdout",
     "output_type": "stream",
     "text": [
      "Log loss: 0.48779272149872827\n",
      "\n",
      "ROC AUC Score: 0.7552320675105485\n"
     ]
    },
    {
     "data": {
      "image/png": "[encoded data removed]",
      "text/plain": [
       "<Figure size 432x288 with 1 Axes>"
      ]
     },
     "metadata": {},
     "output_type": "display_data"
    }
   ],
   "source": [
    "#Seaborn's beautiful styling\n",
    "sns.set_style(\"darkgrid\", {\"axes.facecolor\": \".9\"})\n",
    "\n",
    "print(f\"Log loss: {log_loss(y_test, y_pred_forest)}\")\n",
    "print(f\"\\nROC AUC Score: {roc_auc_score(y_test, y_pred_forest[:,1])}\")\n",
    "fpr, tpr, thresholds = roc_curve(y_test, y_pred_forest[:,1])\n",
    "#Plot\n",
    "plt.plot(fpr, tpr, label='ROC curve')\n",
    "# this is just a diagonal\n",
    "plt.plot([0, 1], [0, 1], linestyle='--');\n",
    "plt.xlabel('False Positive Rate')\n",
    "plt.ylabel('True Positive Rate')\n",
    "plt.legend(loc=\"lower right\")\n",
    "plt.title('Receiver operating characteristic (ROC) Curve', fontsize=15)\n",
    "plt.show;"
   ]
  },
  {
   "cell_type": "markdown",
   "metadata": {},
   "source": [
    "---"
   ]
  },
  {
   "cell_type": "markdown",
   "metadata": {},
   "source": [
    "## Gradient Boosting Classifier"
   ]
  },
  {
   "cell_type": "code",
   "execution_count": 43,
   "metadata": {},
   "outputs": [],
   "source": [
    "boost = GradientBoostingClassifier(learning_rate=.01)\n",
    "\n",
    "boost.fit(X_train, y_train)\n",
    "\n",
    "boost_pred = boost.predict_proba(X_test)"
   ]
  },
  {
   "cell_type": "code",
   "execution_count": 44,
   "metadata": {},
   "outputs": [
    {
     "name": "stdout",
     "output_type": "stream",
     "text": [
      "min_players: 2.93%\n",
      "max_players: 3.47%\n",
      "weight: 72.67%\n",
      "mech_CardDrafting: 8.35%\n",
      "mech_Hex-and-Counter: 8.58%\n",
      "mech_Route/NetworkBuilding: 1.4%\n",
      "mech_VariablePlayerPowers: 1.29%\n"
     ]
    }
   ],
   "source": [
    "#Print feature importance percentages\n",
    "\n",
    "vals = boost.feature_importances_.tolist()\n",
    "best = []\n",
    "for i, val in enumerate(vals):\n",
    "    if round(val * 100, 2) > 1:\n",
    "        print(X.columns[i] + \": \" + str(round(val * 100, 2)) + \"%\")\n",
    "        best.append(val)"
   ]
  },
  {
   "cell_type": "markdown",
   "metadata": {},
   "source": [
    "**Evaluate Gradient Boosting**"
   ]
  },
  {
   "cell_type": "code",
   "execution_count": 45,
   "metadata": {},
   "outputs": [
    {
     "name": "stdout",
     "output_type": "stream",
     "text": [
      "Log loss: 0.49023753543777604\n",
      "\n",
      "ROC AUC Score: 0.7500241109101868\n"
     ]
    },
    {
     "data": {
      "image/png": "[encoded data removed]",
      "text/plain": [
       "<Figure size 432x288 with 1 Axes>"
      ]
     },
     "metadata": {},
     "output_type": "display_data"
    }
   ],
   "source": [
    "#Seaborn's beautiful styling\n",
    "sns.set_style(\"darkgrid\", {\"axes.facecolor\": \".9\"})\n",
    "\n",
    "print(f\"Log loss: {log_loss(y_test, boost_pred)}\")\n",
    "print(f\"\\nROC AUC Score: {roc_auc_score(y_test, boost_pred[:,1])}\")\n",
    "fpr, tpr, thresholds = roc_curve(y_test, boost_pred[:,1])\n",
    "#Plot\n",
    "plt.plot(fpr, tpr, label='ROC curve')\n",
    "# this is just a diagonal\n",
    "plt.plot([0, 1], [0, 1], linestyle='--');\n",
    "plt.xlabel('False Positive Rate')\n",
    "plt.ylabel('True Positive Rate')\n",
    "plt.legend(loc=\"lower right\")\n",
    "plt.title('Receiver operating characteristic (ROC) Curve', fontsize=15)\n",
    "plt.show;"
   ]
  },
  {
   "cell_type": "markdown",
   "metadata": {},
   "source": [
    "---"
   ]
  },
  {
   "cell_type": "markdown",
   "metadata": {},
   "source": [
    "## XG Boost Classifier"
   ]
  },
  {
   "cell_type": "code",
   "execution_count": 46,
   "metadata": {},
   "outputs": [
    {
     "data": {
      "text/plain": [
       "XGBClassifier(base_score=0.5, booster='gbtree', colsample_bylevel=1,\n",
       "       colsample_bytree=1, gamma=0, learning_rate=0.1, max_delta_step=0,\n",
       "       max_depth=3, min_child_weight=1, missing=None, n_estimators=100,\n",
       "       n_jobs=1, nthread=None, objective='binary:logistic', random_state=0,\n",
       "       reg_alpha=0, reg_lambda=1, scale_pos_weight=1, seed=None,\n",
       "       silent=True, subsample=1)"
      ]
     },
     "execution_count": 46,
     "metadata": {},
     "output_type": "execute_result"
    }
   ],
   "source": [
    "x_boost = xgb.XGBClassifier(learning_rate=.1)\n",
    "\n",
    "x_boost.fit(X_train, y_train)"
   ]
  },
  {
   "cell_type": "code",
   "execution_count": 47,
   "metadata": {},
   "outputs": [],
   "source": [
    "x_pred = x_boost.predict_proba(X_test)"
   ]
  },
  {
   "cell_type": "code",
   "execution_count": 48,
   "metadata": {},
   "outputs": [
    {
     "name": "stdout",
     "output_type": "stream",
     "text": [
      "avg_time: 5.42%\n",
      "min_players: 6.73%\n",
      "max_players: 9.53%\n",
      "weight: 38.32%\n",
      "mech_Action/MovementProgramming: 1.68%\n",
      "mech_ActionPointAllowanceSystem: 1.5%\n",
      "mech_CardDrafting: 3.36%\n",
      "mech_Chit-PullSystem: 2.24%\n",
      "mech_CooperativePlay: 1.31%\n",
      "mech_GridMovement: 1.12%\n",
      "mech_HandManagement: 1.12%\n",
      "mech_Hex-and-Counter: 3.74%\n",
      "mech_HiddenTraitor: 1.87%\n",
      "mech_LineDrawing: 1.31%\n",
      "mech_Partnerships: 1.87%\n",
      "mech_PatternRecognition: 1.87%\n",
      "mech_PressYourLuck: 1.87%\n",
      "mech_Roll/SpinandMove: 1.68%\n",
      "mech_Route/NetworkBuilding: 1.31%\n",
      "mech_SetCollection: 1.31%\n",
      "mech_VariablePlayerPowers: 1.31%\n"
     ]
    }
   ],
   "source": [
    "#Print feature importance percentages\n",
    "\n",
    "vals = x_boost.feature_importances_.tolist()\n",
    "best = []\n",
    "for i, val in enumerate(vals):\n",
    "    if round(val * 100, 2) > 1:\n",
    "        print(X.columns[i] + \": \" + str(round(val * 100, 2)) + \"%\")\n",
    "        best.append(val)"
   ]
  },
  {
   "cell_type": "markdown",
   "metadata": {},
   "source": [
    "**Evaluate XG Boost**"
   ]
  },
  {
   "cell_type": "code",
   "execution_count": 49,
   "metadata": {},
   "outputs": [
    {
     "name": "stdout",
     "output_type": "stream",
     "text": [
      "Log loss: 0.45340333600688076\n",
      "\n",
      "ROC AUC Score: 0.7740687160940325\n"
     ]
    },
    {
     "data": {
      "image/png": "[encoded data removed]",
      "text/plain": [
       "<Figure size 432x288 with 1 Axes>"
      ]
     },
     "metadata": {},
     "output_type": "display_data"
    }
   ],
   "source": [
    "#Seaborn's beautiful styling\n",
    "sns.set_style(\"darkgrid\", {\"axes.facecolor\": \".9\"})\n",
    "\n",
    "print(f\"Log loss: {log_loss(y_test, x_pred)}\")\n",
    "print(f\"\\nROC AUC Score: {roc_auc_score(y_test, x_pred[:,1])}\")\n",
    "fpr, tpr, thresholds = roc_curve(y_test, x_pred[:,1])\n",
    "#Plot\n",
    "plt.plot(fpr, tpr, label='ROC curve')\n",
    "# this is just a diagonal\n",
    "plt.plot([0, 1], [0, 1], linestyle='--');\n",
    "plt.xlabel('False Positive Rate')\n",
    "plt.ylabel('True Positive Rate')\n",
    "plt.legend(loc=\"lower right\")\n",
    "plt.title('Receiver operating characteristic (ROC) Curve', fontsize=15)\n",
    "plt.show;"
   ]
  },
  {
   "cell_type": "markdown",
   "metadata": {},
   "source": [
    "---"
   ]
  },
  {
   "cell_type": "markdown",
   "metadata": {},
   "source": [
    "## Logistic Regression"
   ]
  },
  {
   "cell_type": "code",
   "execution_count": 50,
   "metadata": {},
   "outputs": [],
   "source": [
    "#logreg = LogisticRegression(solver='liblinear', penalty=\"l1\") #Starter code\n",
    "#model_log = logreg.fit(X_train, y_train)\n",
    "#print(model_log) #Preview model params"
   ]
  },
  {
   "cell_type": "code",
   "execution_count": 51,
   "metadata": {},
   "outputs": [],
   "source": [
    "#logreg_pred = logreg.predict(X_test)"
   ]
  },
  {
   "cell_type": "code",
   "execution_count": 52,
   "metadata": {},
   "outputs": [],
   "source": [
    "#y_score = logreg.fit(X_train, y_train).decision_function(X_test)"
   ]
  },
  {
   "cell_type": "code",
   "execution_count": 53,
   "metadata": {},
   "outputs": [],
   "source": [
    "#fpr, tpr, thresholds = roc_curve(y_test, y_score)"
   ]
  },
  {
   "cell_type": "markdown",
   "metadata": {},
   "source": [
    "**Evaluate Logistic Regression**"
   ]
  },
  {
   "cell_type": "code",
   "execution_count": 54,
   "metadata": {},
   "outputs": [],
   "source": [
    "##Seaborn's beautiful styling\n",
    "#sns.set_style(\"darkgrid\", {\"axes.facecolor\": \".9\"})\n",
    "\n",
    "#print(f\"Log loss: {log_loss(y_test, x_pred)}\")\n",
    "#print(f\"\\nROC AUC Score: {roc_auc_score(y_test, x_pred[:,1])}\")\n",
    "#fpr, tpr, thresholds = roc_curve(y_test, x_pred[:,1])\n",
    "##Plot\n",
    "#plt.plot(fpr, tpr, label='ROC curve')\n",
    "## this is just a diagonal\n",
    "#plt.plot([0, 1], [0, 1], linestyle='--');\n",
    "#plt.xlabel('False Positive Rate')\n",
    "#plt.ylabel('True Positive Rate')\n",
    "#plt.legend(loc=\"lower right\")\n",
    "#plt.title('Receiver operating characteristic (ROC) Curve', fontsize=15)\n",
    "#plt.show;"
   ]
  },
  {
   "cell_type": "markdown",
   "metadata": {},
   "source": [
    "**SMOTE for Logistic Regression**"
   ]
  },
  {
   "cell_type": "code",
   "execution_count": 55,
   "metadata": {},
   "outputs": [],
   "source": [
    "#print(y.value_counts()) #Previous original class distribution\n",
    "#X_resampled, y_resampled = SMOTE().fit_sample(X, y) \n",
    "#print(pd.Series(y_resampled).value_counts())"
   ]
  },
  {
   "cell_type": "code",
   "execution_count": 56,
   "metadata": {},
   "outputs": [],
   "source": [
    "#X_train, X_test, y_train, y_test = train_test_split(X_resampled, y_resampled)\n"
   ]
  },
  {
   "cell_type": "code",
   "execution_count": 57,
   "metadata": {},
   "outputs": [],
   "source": [
    "#logreg_pred = logreg.predict(X_test)\n",
    "#y_log_pred_smote = logreg.predict_proba(X_test)"
   ]
  },
  {
   "cell_type": "code",
   "execution_count": 58,
   "metadata": {},
   "outputs": [],
   "source": [
    "#y_score = logreg.fit(X_train, y_train).decision_function(X_test)\n",
    "\n",
    "#fpr, tpr, thresholds = roc_curve(y_test, y_score)"
   ]
  },
  {
   "cell_type": "markdown",
   "metadata": {},
   "source": [
    "**Evaluate Logistic Regression after SMOTE**"
   ]
  },
  {
   "cell_type": "code",
   "execution_count": 59,
   "metadata": {},
   "outputs": [],
   "source": [
    "##Seaborn's beautiful styling\n",
    "#sns.set_style(\"darkgrid\", {\"axes.facecolor\": \".9\"})\n",
    "\n",
    "#print(f\"Log loss: {log_loss(y_test, y_log_pred_smote)}\")\n",
    "#print(f\"\\nROC AUC Score: {roc_auc_score(y_test, logreg_pred[:,1])}\")\n",
    "#fpr, tpr, thresholds = roc_curve(y_test, logreg_pred[:,1])\n",
    "##Plot\n",
    "#plt.plot(fpr, tpr, label='ROC curve')\n",
    "## this is just a diagonal\n",
    "#plt.plot([0, 1], [0, 1], linestyle='--');\n",
    "#plt.xlabel('False Positive Rate')\n",
    "#plt.ylabel('True Positive Rate')\n",
    "#plt.legend(loc=\"lower right\")\n",
    "#plt.title('Receiver operating characteristic (ROC) Curve', fontsize=15)\n",
    "#plt.show;"
   ]
  },
  {
   "cell_type": "markdown",
   "metadata": {},
   "source": [
    "---"
   ]
  },
  {
   "cell_type": "markdown",
   "metadata": {},
   "source": [
    "## K-Nearest Neighbors for assessing similarity to other games"
   ]
  },
  {
   "cell_type": "code",
   "execution_count": 60,
   "metadata": {},
   "outputs": [
    {
     "data": {
      "text/plain": [
       "KNeighborsClassifier(algorithm='auto', leaf_size=30, metric='minkowski',\n",
       "           metric_params=None, n_jobs=None, n_neighbors=3, p=2,\n",
       "           weights='uniform')"
      ]
     },
     "execution_count": 60,
     "metadata": {},
     "output_type": "execute_result"
    }
   ],
   "source": [
    "from sklearn.neighbors import KNeighborsClassifier\n",
    "\n",
    "kn = KNeighborsClassifier(n_neighbors=3)\n",
    "kn.fit(X, y)"
   ]
  },
  {
   "cell_type": "code",
   "execution_count": 61,
   "metadata": {},
   "outputs": [],
   "source": [
    "guess = np.array(X.iloc[25]).reshape(1,-1)"
   ]
  },
  {
   "cell_type": "code",
   "execution_count": 62,
   "metadata": {},
   "outputs": [
    {
     "data": {
      "text/plain": [
       "array([  25, 1937,  977])"
      ]
     },
     "execution_count": 62,
     "metadata": {},
     "output_type": "execute_result"
    }
   ],
   "source": [
    "kn.kneighbors(guess)[1][0]"
   ]
  },
  {
   "cell_type": "code",
   "execution_count": 63,
   "metadata": {},
   "outputs": [
    {
     "data": {
      "text/plain": [
       "('Ladder 29', 'Custom Heroes')"
      ]
     },
     "execution_count": 63,
     "metadata": {},
     "output_type": "execute_result"
    }
   ],
   "source": [
    "bgg_complete.loc[25]['name'], bgg_complete.loc[1937]['name']"
   ]
  },
  {
   "cell_type": "code",
   "execution_count": null,
   "metadata": {},
   "outputs": [],
   "source": [
    "from sklearn.decomposition import PCA\n",
    "pca = PCA(n_components=1) # Number of principal components required\n",
    "pca.fit(X)"
   ]
  },
  {
   "cell_type": "code",
   "execution_count": null,
   "metadata": {},
   "outputs": [],
   "source": [
    "print(pca.explained_variance_ratio_.tolist())"
   ]
  },
  {
   "cell_type": "markdown",
   "metadata": {},
   "source": [
    "---"
   ]
  },
  {
   "cell_type": "markdown",
   "metadata": {},
   "source": [
    "## GridSearchCV"
   ]
  },
  {
   "cell_type": "markdown",
   "metadata": {},
   "source": [
    "**Run GridSearch on models to find the best parameters**"
   ]
  },
  {
   "cell_type": "markdown",
   "metadata": {},
   "source": [
    "**Decision Tree**"
   ]
  },
  {
   "cell_type": "code",
   "execution_count": 253,
   "metadata": {},
   "outputs": [],
   "source": [
    "param_grid_clf = {\n",
    "    \"criterion\": [\"gini\", \"entropy\"],\n",
    "    \"max_depth\": [3, 4, 5],\n",
    "    \"min_samples_split\": [5, 6, 7],\n",
    "    \"min_samples_leaf\": [1, 2]\n",
    "}"
   ]
  },
  {
   "cell_type": "code",
   "execution_count": 254,
   "metadata": {},
   "outputs": [],
   "source": [
    "gs_clf = GridSearchCV(clf, param_grid_dtc, cv=3)"
   ]
  },
  {
   "cell_type": "code",
   "execution_count": 255,
   "metadata": {},
   "outputs": [],
   "source": [
    "gs_clf.fit(X_train, y_train)"
   ]
  },
  {
   "cell_type": "code",
   "execution_count": 256,
   "metadata": {},
   "outputs": [],
   "source": [
    "gs_clf.best_params_"
   ]
  },
  {
   "cell_type": "markdown",
   "metadata": {},
   "source": [
    "**Random Forest**"
   ]
  },
  {
   "cell_type": "code",
   "execution_count": 57,
   "metadata": {},
   "outputs": [],
   "source": [
    "param_grid_forest = {\n",
    "    \"n_estimators\": [25, 28, 30, 32],\n",
    "    \"criterion\": [\"gini\", \"entropy\"],\n",
    "    \"max_depth\": [None, 3],\n",
    "    \"min_samples_split\": [4, 5, 6],\n",
    "    \"min_samples_leaf\": [1, 2]\n",
    "}"
   ]
  },
  {
   "cell_type": "code",
   "execution_count": 58,
   "metadata": {},
   "outputs": [],
   "source": [
    "gs_forest = GridSearchCV(forest, param_grid_forest, cv=3)"
   ]
  },
  {
   "cell_type": "code",
   "execution_count": 59,
   "metadata": {},
   "outputs": [],
   "source": [
    "gs_forest.fit(X_train, y_train)"
   ]
  },
  {
   "cell_type": "code",
   "execution_count": 60,
   "metadata": {},
   "outputs": [],
   "source": [
    "gs_forest.best_params_"
   ]
  },
  {
   "cell_type": "markdown",
   "metadata": {},
   "source": [
    "**Gradient Boosting**"
   ]
  },
  {
   "cell_type": "code",
   "execution_count": null,
   "metadata": {},
   "outputs": [],
   "source": [
    "param_grid_gb = {\n",
    "    \n",
    "}"
   ]
  },
  {
   "cell_type": "code",
   "execution_count": null,
   "metadata": {},
   "outputs": [],
   "source": [
    "gs_boost = GridSearchCV(boost, param_grid_gb, cv=3)"
   ]
  },
  {
   "cell_type": "code",
   "execution_count": null,
   "metadata": {},
   "outputs": [],
   "source": [
    "gs_boost.fit(X_train, y_train)"
   ]
  },
  {
   "cell_type": "code",
   "execution_count": null,
   "metadata": {},
   "outputs": [],
   "source": [
    "gs_boost.best_params_"
   ]
  },
  {
   "cell_type": "markdown",
   "metadata": {},
   "source": [
    "**XGBoost**"
   ]
  },
  {
   "cell_type": "code",
   "execution_count": 61,
   "metadata": {},
   "outputs": [],
   "source": [
    "param_grid_xgb = {\n",
    "    \"learning_rate\": [0.1, 0.2, 0.3],\n",
    "    'max_depth': [4, 5, 6],\n",
    "    'min_child_weight': [1, 2, 3],\n",
    "    'subsample': [1, 2, 3],\n",
    "    'n_estimators': [150, 200],\n",
    "}"
   ]
  },
  {
   "cell_type": "code",
   "execution_count": 62,
   "metadata": {},
   "outputs": [],
   "source": [
    "gs_xgb = GridSearchCV(x_boost, param_grid_xgb, cv=3)"
   ]
  },
  {
   "cell_type": "code",
   "execution_count": 63,
   "metadata": {},
   "outputs": [],
   "source": [
    "gs_xgb.fit(X_train, y_train)"
   ]
  },
  {
   "cell_type": "code",
   "execution_count": 64,
   "metadata": {},
   "outputs": [],
   "source": [
    "gs_xgb.best_params_"
   ]
  },
  {
   "cell_type": "markdown",
   "metadata": {},
   "source": [
    "**Logistic Regression**"
   ]
  },
  {
   "cell_type": "code",
   "execution_count": null,
   "metadata": {},
   "outputs": [],
   "source": [
    "#logreg = LogisticRegression(solver='lbfgs')"
   ]
  },
  {
   "cell_type": "code",
   "execution_count": 232,
   "metadata": {},
   "outputs": [],
   "source": [
    "#param_grid_logreg = {\n",
    " #   \"max_iter\": [170, 175, 180],\n",
    "  #  \"penalty\": [\"l1\", \"l2\"]\n",
    "#}"
   ]
  },
  {
   "cell_type": "code",
   "execution_count": 233,
   "metadata": {},
   "outputs": [],
   "source": [
    "#gs_tree_logreg = GridSearchCV(logreg, param_grid_logreg, cv=3)"
   ]
  },
  {
   "cell_type": "code",
   "execution_count": 2,
   "metadata": {},
   "outputs": [],
   "source": [
    "#gs_tree_logreg.fit(X_train, y_train)"
   ]
  },
  {
   "cell_type": "code",
   "execution_count": 3,
   "metadata": {},
   "outputs": [],
   "source": [
    "#gs_tree_logreg.best_params_"
   ]
  }
 ],
 "metadata": {
  "kernelspec": {
   "display_name": "learn-env",
   "language": "python",
   "name": "learn-env"
  },
  "language_info": {
   "codemirror_mode": {
    "name": "ipython",
    "version": 3
   },
   "file_extension": ".py",
   "mimetype": "text/x-python",
   "name": "python",
   "nbconvert_exporter": "python",
   "pygments_lexer": "ipython3",
   "version": "3.6.6"
  }
 },
 "nbformat": 4,
 "nbformat_minor": 2
}
