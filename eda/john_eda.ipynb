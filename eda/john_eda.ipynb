{
 "cells": [
  {
   "cell_type": "code",
   "execution_count": 79,
   "metadata": {},
   "outputs": [],
   "source": [
    "# General setup\n",
    "import pandas as pd\n",
    "import numpy as np\n",
    "\n",
    "# Modeling tools\n",
    "from sklearn.tree import DecisionTreeClassifier\n",
    "from sklearn.ensemble import BaggingClassifier, RandomForestClassifier, GradientBoostingClassifier\n",
    "from sklearn.model_selection import GridSearchCV\n",
    "import xgboost as xgb\n",
    "\n",
    "# Preprocessing and scoring\n",
    "from sklearn.model_selection import train_test_split\n",
    "from sklearn.metrics import accuracy_score, roc_curve, auc, confusion_matrix\n",
    "from sklearn.metrics import classification_report, average_precision_score\n",
    "\n",
    "# Visualization\n",
    "from sklearn.tree import export_graphviz\n",
    "from sklearn.externals.six import StringIO \n",
    "from IPython.display import Image  \n",
    "from sklearn import tree\n",
    "import pydotplus\n",
    "import matplotlib.pyplot as plt\n",
    "%matplotlib inline"
   ]
  },
  {
   "cell_type": "code",
   "execution_count": 105,
   "metadata": {},
   "outputs": [
    {
     "ename": "FileNotFoundError",
     "evalue": "File b'data/bgg14_19.csv' does not exist",
     "output_type": "error",
     "traceback": [
      "\u001b[0;31m---------------------------------------------------------------------------\u001b[0m",
      "\u001b[0;31mFileNotFoundError\u001b[0m                         Traceback (most recent call last)",
      "\u001b[0;32m<ipython-input-105-3dd28cfa334e>\u001b[0m in \u001b[0;36m<module>\u001b[0;34m()\u001b[0m\n\u001b[0;32m----> 1\u001b[0;31m \u001b[0mbgg\u001b[0m \u001b[0;34m=\u001b[0m \u001b[0mpd\u001b[0m\u001b[0;34m.\u001b[0m\u001b[0mread_csv\u001b[0m\u001b[0;34m(\u001b[0m\u001b[0;34m'data/bgg14_19.csv'\u001b[0m\u001b[0;34m,\u001b[0m \u001b[0mindex_col\u001b[0m\u001b[0;34m=\u001b[0m\u001b[0;36m0\u001b[0m\u001b[0;34m)\u001b[0m\u001b[0;34m\u001b[0m\u001b[0m\n\u001b[0m\u001b[1;32m      2\u001b[0m \u001b[0mbgg\u001b[0m\u001b[0;34m.\u001b[0m\u001b[0mhead\u001b[0m\u001b[0;34m(\u001b[0m\u001b[0;34m)\u001b[0m\u001b[0;34m\u001b[0m\u001b[0m\n",
      "\u001b[0;32m~/anaconda3/envs/learn-env/lib/python3.6/site-packages/pandas/io/parsers.py\u001b[0m in \u001b[0;36mparser_f\u001b[0;34m(filepath_or_buffer, sep, delimiter, header, names, index_col, usecols, squeeze, prefix, mangle_dupe_cols, dtype, engine, converters, true_values, false_values, skipinitialspace, skiprows, nrows, na_values, keep_default_na, na_filter, verbose, skip_blank_lines, parse_dates, infer_datetime_format, keep_date_col, date_parser, dayfirst, iterator, chunksize, compression, thousands, decimal, lineterminator, quotechar, quoting, escapechar, comment, encoding, dialect, tupleize_cols, error_bad_lines, warn_bad_lines, skipfooter, doublequote, delim_whitespace, low_memory, memory_map, float_precision)\u001b[0m\n\u001b[1;32m    676\u001b[0m                     skip_blank_lines=skip_blank_lines)\n\u001b[1;32m    677\u001b[0m \u001b[0;34m\u001b[0m\u001b[0m\n\u001b[0;32m--> 678\u001b[0;31m         \u001b[0;32mreturn\u001b[0m \u001b[0m_read\u001b[0m\u001b[0;34m(\u001b[0m\u001b[0mfilepath_or_buffer\u001b[0m\u001b[0;34m,\u001b[0m \u001b[0mkwds\u001b[0m\u001b[0;34m)\u001b[0m\u001b[0;34m\u001b[0m\u001b[0m\n\u001b[0m\u001b[1;32m    679\u001b[0m \u001b[0;34m\u001b[0m\u001b[0m\n\u001b[1;32m    680\u001b[0m     \u001b[0mparser_f\u001b[0m\u001b[0;34m.\u001b[0m\u001b[0m__name__\u001b[0m \u001b[0;34m=\u001b[0m \u001b[0mname\u001b[0m\u001b[0;34m\u001b[0m\u001b[0m\n",
      "\u001b[0;32m~/anaconda3/envs/learn-env/lib/python3.6/site-packages/pandas/io/parsers.py\u001b[0m in \u001b[0;36m_read\u001b[0;34m(filepath_or_buffer, kwds)\u001b[0m\n\u001b[1;32m    438\u001b[0m \u001b[0;34m\u001b[0m\u001b[0m\n\u001b[1;32m    439\u001b[0m     \u001b[0;31m# Create the parser.\u001b[0m\u001b[0;34m\u001b[0m\u001b[0;34m\u001b[0m\u001b[0m\n\u001b[0;32m--> 440\u001b[0;31m     \u001b[0mparser\u001b[0m \u001b[0;34m=\u001b[0m \u001b[0mTextFileReader\u001b[0m\u001b[0;34m(\u001b[0m\u001b[0mfilepath_or_buffer\u001b[0m\u001b[0;34m,\u001b[0m \u001b[0;34m**\u001b[0m\u001b[0mkwds\u001b[0m\u001b[0;34m)\u001b[0m\u001b[0;34m\u001b[0m\u001b[0m\n\u001b[0m\u001b[1;32m    441\u001b[0m \u001b[0;34m\u001b[0m\u001b[0m\n\u001b[1;32m    442\u001b[0m     \u001b[0;32mif\u001b[0m \u001b[0mchunksize\u001b[0m \u001b[0;32mor\u001b[0m \u001b[0miterator\u001b[0m\u001b[0;34m:\u001b[0m\u001b[0;34m\u001b[0m\u001b[0m\n",
      "\u001b[0;32m~/anaconda3/envs/learn-env/lib/python3.6/site-packages/pandas/io/parsers.py\u001b[0m in \u001b[0;36m__init__\u001b[0;34m(self, f, engine, **kwds)\u001b[0m\n\u001b[1;32m    785\u001b[0m             \u001b[0mself\u001b[0m\u001b[0;34m.\u001b[0m\u001b[0moptions\u001b[0m\u001b[0;34m[\u001b[0m\u001b[0;34m'has_index_names'\u001b[0m\u001b[0;34m]\u001b[0m \u001b[0;34m=\u001b[0m \u001b[0mkwds\u001b[0m\u001b[0;34m[\u001b[0m\u001b[0;34m'has_index_names'\u001b[0m\u001b[0;34m]\u001b[0m\u001b[0;34m\u001b[0m\u001b[0m\n\u001b[1;32m    786\u001b[0m \u001b[0;34m\u001b[0m\u001b[0m\n\u001b[0;32m--> 787\u001b[0;31m         \u001b[0mself\u001b[0m\u001b[0;34m.\u001b[0m\u001b[0m_make_engine\u001b[0m\u001b[0;34m(\u001b[0m\u001b[0mself\u001b[0m\u001b[0;34m.\u001b[0m\u001b[0mengine\u001b[0m\u001b[0;34m)\u001b[0m\u001b[0;34m\u001b[0m\u001b[0m\n\u001b[0m\u001b[1;32m    788\u001b[0m \u001b[0;34m\u001b[0m\u001b[0m\n\u001b[1;32m    789\u001b[0m     \u001b[0;32mdef\u001b[0m \u001b[0mclose\u001b[0m\u001b[0;34m(\u001b[0m\u001b[0mself\u001b[0m\u001b[0;34m)\u001b[0m\u001b[0;34m:\u001b[0m\u001b[0;34m\u001b[0m\u001b[0m\n",
      "\u001b[0;32m~/anaconda3/envs/learn-env/lib/python3.6/site-packages/pandas/io/parsers.py\u001b[0m in \u001b[0;36m_make_engine\u001b[0;34m(self, engine)\u001b[0m\n\u001b[1;32m   1012\u001b[0m     \u001b[0;32mdef\u001b[0m \u001b[0m_make_engine\u001b[0m\u001b[0;34m(\u001b[0m\u001b[0mself\u001b[0m\u001b[0;34m,\u001b[0m \u001b[0mengine\u001b[0m\u001b[0;34m=\u001b[0m\u001b[0;34m'c'\u001b[0m\u001b[0;34m)\u001b[0m\u001b[0;34m:\u001b[0m\u001b[0;34m\u001b[0m\u001b[0m\n\u001b[1;32m   1013\u001b[0m         \u001b[0;32mif\u001b[0m \u001b[0mengine\u001b[0m \u001b[0;34m==\u001b[0m \u001b[0;34m'c'\u001b[0m\u001b[0;34m:\u001b[0m\u001b[0;34m\u001b[0m\u001b[0m\n\u001b[0;32m-> 1014\u001b[0;31m             \u001b[0mself\u001b[0m\u001b[0;34m.\u001b[0m\u001b[0m_engine\u001b[0m \u001b[0;34m=\u001b[0m \u001b[0mCParserWrapper\u001b[0m\u001b[0;34m(\u001b[0m\u001b[0mself\u001b[0m\u001b[0;34m.\u001b[0m\u001b[0mf\u001b[0m\u001b[0;34m,\u001b[0m \u001b[0;34m**\u001b[0m\u001b[0mself\u001b[0m\u001b[0;34m.\u001b[0m\u001b[0moptions\u001b[0m\u001b[0;34m)\u001b[0m\u001b[0;34m\u001b[0m\u001b[0m\n\u001b[0m\u001b[1;32m   1015\u001b[0m         \u001b[0;32melse\u001b[0m\u001b[0;34m:\u001b[0m\u001b[0;34m\u001b[0m\u001b[0m\n\u001b[1;32m   1016\u001b[0m             \u001b[0;32mif\u001b[0m \u001b[0mengine\u001b[0m \u001b[0;34m==\u001b[0m \u001b[0;34m'python'\u001b[0m\u001b[0;34m:\u001b[0m\u001b[0;34m\u001b[0m\u001b[0m\n",
      "\u001b[0;32m~/anaconda3/envs/learn-env/lib/python3.6/site-packages/pandas/io/parsers.py\u001b[0m in \u001b[0;36m__init__\u001b[0;34m(self, src, **kwds)\u001b[0m\n\u001b[1;32m   1706\u001b[0m         \u001b[0mkwds\u001b[0m\u001b[0;34m[\u001b[0m\u001b[0;34m'usecols'\u001b[0m\u001b[0;34m]\u001b[0m \u001b[0;34m=\u001b[0m \u001b[0mself\u001b[0m\u001b[0;34m.\u001b[0m\u001b[0musecols\u001b[0m\u001b[0;34m\u001b[0m\u001b[0m\n\u001b[1;32m   1707\u001b[0m \u001b[0;34m\u001b[0m\u001b[0m\n\u001b[0;32m-> 1708\u001b[0;31m         \u001b[0mself\u001b[0m\u001b[0;34m.\u001b[0m\u001b[0m_reader\u001b[0m \u001b[0;34m=\u001b[0m \u001b[0mparsers\u001b[0m\u001b[0;34m.\u001b[0m\u001b[0mTextReader\u001b[0m\u001b[0;34m(\u001b[0m\u001b[0msrc\u001b[0m\u001b[0;34m,\u001b[0m \u001b[0;34m**\u001b[0m\u001b[0mkwds\u001b[0m\u001b[0;34m)\u001b[0m\u001b[0;34m\u001b[0m\u001b[0m\n\u001b[0m\u001b[1;32m   1709\u001b[0m \u001b[0;34m\u001b[0m\u001b[0m\n\u001b[1;32m   1710\u001b[0m         \u001b[0mpassed_names\u001b[0m \u001b[0;34m=\u001b[0m \u001b[0mself\u001b[0m\u001b[0;34m.\u001b[0m\u001b[0mnames\u001b[0m \u001b[0;32mis\u001b[0m \u001b[0;32mNone\u001b[0m\u001b[0;34m\u001b[0m\u001b[0m\n",
      "\u001b[0;32mpandas/_libs/parsers.pyx\u001b[0m in \u001b[0;36mpandas._libs.parsers.TextReader.__cinit__\u001b[0;34m()\u001b[0m\n",
      "\u001b[0;32mpandas/_libs/parsers.pyx\u001b[0m in \u001b[0;36mpandas._libs.parsers.TextReader._setup_parser_source\u001b[0;34m()\u001b[0m\n",
      "\u001b[0;31mFileNotFoundError\u001b[0m: File b'data/bgg14_19.csv' does not exist"
     ]
    }
   ],
   "source": [
    "bgg = pd.read_csv('data/bgg14_19.csv', index_col=0)\n",
    "bgg.head()"
   ]
  },
  {
   "cell_type": "code",
   "execution_count": 104,
   "metadata": {},
   "outputs": [
    {
     "data": {
      "text/html": [
       "<div>\n",
       "<style scoped>\n",
       "    .dataframe tbody tr th:only-of-type {\n",
       "        vertical-align: middle;\n",
       "    }\n",
       "\n",
       "    .dataframe tbody tr th {\n",
       "        vertical-align: top;\n",
       "    }\n",
       "\n",
       "    .dataframe thead th {\n",
       "        text-align: right;\n",
       "    }\n",
       "</style>\n",
       "<table border=\"1\" class=\"dataframe\">\n",
       "  <thead>\n",
       "    <tr style=\"text-align: right;\">\n",
       "      <th></th>\n",
       "      <th>Name</th>\n",
       "      <th>geek</th>\n",
       "      <th>avg</th>\n",
       "      <th>num_rev</th>\n",
       "    </tr>\n",
       "  </thead>\n",
       "  <tbody>\n",
       "    <tr>\n",
       "      <th>0</th>\n",
       "      <td>Gloomhaven</td>\n",
       "      <td>8.610</td>\n",
       "      <td>8.90</td>\n",
       "      <td>25210.0</td>\n",
       "    </tr>\n",
       "    <tr>\n",
       "      <th>1</th>\n",
       "      <td>Scythe</td>\n",
       "      <td>8.118</td>\n",
       "      <td>8.28</td>\n",
       "      <td>39867.0</td>\n",
       "    </tr>\n",
       "    <tr>\n",
       "      <th>2</th>\n",
       "      <td>Terraforming Mars</td>\n",
       "      <td>8.243</td>\n",
       "      <td>8.40</td>\n",
       "      <td>39240.0</td>\n",
       "    </tr>\n",
       "    <tr>\n",
       "      <th>3</th>\n",
       "      <td>Arkham Horror: The Card Game</td>\n",
       "      <td>7.919</td>\n",
       "      <td>8.22</td>\n",
       "      <td>17646.0</td>\n",
       "    </tr>\n",
       "    <tr>\n",
       "      <th>4</th>\n",
       "      <td>Kingdom Death: Monster</td>\n",
       "      <td>7.808</td>\n",
       "      <td>8.80</td>\n",
       "      <td>5887.0</td>\n",
       "    </tr>\n",
       "  </tbody>\n",
       "</table>\n",
       "</div>"
      ],
      "text/plain": [
       "                           Name   geek   avg  num_rev\n",
       "0                    Gloomhaven  8.610  8.90  25210.0\n",
       "1                        Scythe  8.118  8.28  39867.0\n",
       "2             Terraforming Mars  8.243  8.40  39240.0\n",
       "3  Arkham Horror: The Card Game  7.919  8.22  17646.0\n",
       "4        Kingdom Death: Monster  7.808  8.80   5887.0"
      ]
     },
     "execution_count": 104,
     "metadata": {},
     "output_type": "execute_result"
    }
   ],
   "source": [
    "bgg_real_ratings = pd.read_csv('data/bgg_correct_ratings.csv', index_col=0)\n",
    "bgg_real_ratings.head()"
   ]
  },
  {
   "cell_type": "code",
   "execution_count": 91,
   "metadata": {},
   "outputs": [
    {
     "data": {
      "text/plain": [
       "(249, 4902)"
      ]
     },
     "execution_count": 91,
     "metadata": {},
     "output_type": "execute_result"
    }
   ],
   "source": [
    "# Double checking that it pulled only those for the correct year\n",
    "len(bgg[bgg['year'] < 2015]), len(bgg)\n"
   ]
  },
  {
   "cell_type": "markdown",
   "metadata": {},
   "source": [
    "Looks like the API request either pulled the wrong games because of duplicate titles, or there was something else funky happening (potentially a revised version of an older game and it did not pull in details for the correct copy.  Because there is so few, we dropped those "
   ]
  },
  {
   "cell_type": "code",
   "execution_count": 2,
   "metadata": {},
   "outputs": [],
   "source": [
    "df = pd.read_csv('data/bgg_db_2018_01.csv', encoding='iso-8859-1')"
   ]
  },
  {
   "cell_type": "code",
   "execution_count": 3,
   "metadata": {},
   "outputs": [
    {
     "data": {
      "text/html": [
       "<div>\n",
       "<style scoped>\n",
       "    .dataframe tbody tr th:only-of-type {\n",
       "        vertical-align: middle;\n",
       "    }\n",
       "\n",
       "    .dataframe tbody tr th {\n",
       "        vertical-align: top;\n",
       "    }\n",
       "\n",
       "    .dataframe thead th {\n",
       "        text-align: right;\n",
       "    }\n",
       "</style>\n",
       "<table border=\"1\" class=\"dataframe\">\n",
       "  <thead>\n",
       "    <tr style=\"text-align: right;\">\n",
       "      <th></th>\n",
       "      <th>rank</th>\n",
       "      <th>bgg_url</th>\n",
       "      <th>game_id</th>\n",
       "      <th>names</th>\n",
       "      <th>min_players</th>\n",
       "      <th>max_players</th>\n",
       "      <th>avg_time</th>\n",
       "      <th>min_time</th>\n",
       "      <th>max_time</th>\n",
       "      <th>year</th>\n",
       "      <th>avg_rating</th>\n",
       "      <th>geek_rating</th>\n",
       "      <th>num_votes</th>\n",
       "      <th>image_url</th>\n",
       "      <th>age</th>\n",
       "      <th>mechanic</th>\n",
       "      <th>owned</th>\n",
       "      <th>category</th>\n",
       "      <th>designer</th>\n",
       "      <th>weight</th>\n",
       "    </tr>\n",
       "  </thead>\n",
       "  <tbody>\n",
       "    <tr>\n",
       "      <th>0</th>\n",
       "      <td>1</td>\n",
       "      <td>https://boardgamegeek.com/boardgame/174430/glo...</td>\n",
       "      <td>174430</td>\n",
       "      <td>Gloomhaven</td>\n",
       "      <td>1</td>\n",
       "      <td>4</td>\n",
       "      <td>150</td>\n",
       "      <td>90</td>\n",
       "      <td>150</td>\n",
       "      <td>2017</td>\n",
       "      <td>9.01310</td>\n",
       "      <td>8.52234</td>\n",
       "      <td>9841</td>\n",
       "      <td>https://cf.geekdo-images.com/images/pic2437871...</td>\n",
       "      <td>12</td>\n",
       "      <td>Action / Movement Programming, Co-operative Pl...</td>\n",
       "      <td>18217</td>\n",
       "      <td>Adventure, Exploration, Fantasy, Fighting, Min...</td>\n",
       "      <td>Isaac Childres</td>\n",
       "      <td>3.7720</td>\n",
       "    </tr>\n",
       "    <tr>\n",
       "      <th>1</th>\n",
       "      <td>2</td>\n",
       "      <td>https://boardgamegeek.com/boardgame/161936/pan...</td>\n",
       "      <td>161936</td>\n",
       "      <td>Pandemic Legacy: Season 1</td>\n",
       "      <td>2</td>\n",
       "      <td>4</td>\n",
       "      <td>60</td>\n",
       "      <td>60</td>\n",
       "      <td>60</td>\n",
       "      <td>2015</td>\n",
       "      <td>8.66575</td>\n",
       "      <td>8.49837</td>\n",
       "      <td>23489</td>\n",
       "      <td>https://cf.geekdo-images.com/images/pic2452831...</td>\n",
       "      <td>13</td>\n",
       "      <td>Action Point Allowance System, Co-operative Pl...</td>\n",
       "      <td>38105</td>\n",
       "      <td>Environmental, Medical</td>\n",
       "      <td>Rob Daviau, Matt Leacock</td>\n",
       "      <td>2.8056</td>\n",
       "    </tr>\n",
       "    <tr>\n",
       "      <th>2</th>\n",
       "      <td>3</td>\n",
       "      <td>https://boardgamegeek.com/boardgame/182028/thr...</td>\n",
       "      <td>182028</td>\n",
       "      <td>Through the Ages: A New Story of Civilization</td>\n",
       "      <td>2</td>\n",
       "      <td>4</td>\n",
       "      <td>240</td>\n",
       "      <td>180</td>\n",
       "      <td>240</td>\n",
       "      <td>2015</td>\n",
       "      <td>8.65702</td>\n",
       "      <td>8.32401</td>\n",
       "      <td>10679</td>\n",
       "      <td>https://cf.geekdo-images.com/images/pic2663291...</td>\n",
       "      <td>14</td>\n",
       "      <td>Action Point Allowance System, Auction/Bidding...</td>\n",
       "      <td>14147</td>\n",
       "      <td>Card Game, Civilization, Economic</td>\n",
       "      <td>Vlaada Chvátil</td>\n",
       "      <td>4.3538</td>\n",
       "    </tr>\n",
       "    <tr>\n",
       "      <th>3</th>\n",
       "      <td>4</td>\n",
       "      <td>https://boardgamegeek.com/boardgame/12333/twil...</td>\n",
       "      <td>12333</td>\n",
       "      <td>Twilight Struggle</td>\n",
       "      <td>2</td>\n",
       "      <td>2</td>\n",
       "      <td>180</td>\n",
       "      <td>120</td>\n",
       "      <td>180</td>\n",
       "      <td>2005</td>\n",
       "      <td>8.35188</td>\n",
       "      <td>8.21012</td>\n",
       "      <td>29923</td>\n",
       "      <td>https://cf.geekdo-images.com/images/pic361592.jpg</td>\n",
       "      <td>13</td>\n",
       "      <td>Area Control / Area Influence, Campaign / Batt...</td>\n",
       "      <td>41094</td>\n",
       "      <td>Modern Warfare, Political, Wargame</td>\n",
       "      <td>Ananda Gupta, Jason Matthews</td>\n",
       "      <td>3.5446</td>\n",
       "    </tr>\n",
       "    <tr>\n",
       "      <th>4</th>\n",
       "      <td>5</td>\n",
       "      <td>https://boardgamegeek.com/boardgame/167791/ter...</td>\n",
       "      <td>167791</td>\n",
       "      <td>Terraforming Mars</td>\n",
       "      <td>1</td>\n",
       "      <td>5</td>\n",
       "      <td>120</td>\n",
       "      <td>120</td>\n",
       "      <td>120</td>\n",
       "      <td>2016</td>\n",
       "      <td>8.38331</td>\n",
       "      <td>8.17328</td>\n",
       "      <td>20468</td>\n",
       "      <td>https://cf.geekdo-images.com/images/pic3536616...</td>\n",
       "      <td>12</td>\n",
       "      <td>Card Drafting, Hand Management, Tile Placement...</td>\n",
       "      <td>26145</td>\n",
       "      <td>Economic, Environmental, Industry / Manufactur...</td>\n",
       "      <td>Jacob Fryxelius</td>\n",
       "      <td>3.2465</td>\n",
       "    </tr>\n",
       "  </tbody>\n",
       "</table>\n",
       "</div>"
      ],
      "text/plain": [
       "   rank                                            bgg_url  game_id  \\\n",
       "0     1  https://boardgamegeek.com/boardgame/174430/glo...   174430   \n",
       "1     2  https://boardgamegeek.com/boardgame/161936/pan...   161936   \n",
       "2     3  https://boardgamegeek.com/boardgame/182028/thr...   182028   \n",
       "3     4  https://boardgamegeek.com/boardgame/12333/twil...    12333   \n",
       "4     5  https://boardgamegeek.com/boardgame/167791/ter...   167791   \n",
       "\n",
       "                                           names  min_players  max_players  \\\n",
       "0                                     Gloomhaven            1            4   \n",
       "1                      Pandemic Legacy: Season 1            2            4   \n",
       "2  Through the Ages: A New Story of Civilization            2            4   \n",
       "3                              Twilight Struggle            2            2   \n",
       "4                              Terraforming Mars            1            5   \n",
       "\n",
       "   avg_time  min_time  max_time  year  avg_rating  geek_rating  num_votes  \\\n",
       "0       150        90       150  2017     9.01310      8.52234       9841   \n",
       "1        60        60        60  2015     8.66575      8.49837      23489   \n",
       "2       240       180       240  2015     8.65702      8.32401      10679   \n",
       "3       180       120       180  2005     8.35188      8.21012      29923   \n",
       "4       120       120       120  2016     8.38331      8.17328      20468   \n",
       "\n",
       "                                           image_url  age  \\\n",
       "0  https://cf.geekdo-images.com/images/pic2437871...   12   \n",
       "1  https://cf.geekdo-images.com/images/pic2452831...   13   \n",
       "2  https://cf.geekdo-images.com/images/pic2663291...   14   \n",
       "3  https://cf.geekdo-images.com/images/pic361592.jpg   13   \n",
       "4  https://cf.geekdo-images.com/images/pic3536616...   12   \n",
       "\n",
       "                                            mechanic  owned  \\\n",
       "0  Action / Movement Programming, Co-operative Pl...  18217   \n",
       "1  Action Point Allowance System, Co-operative Pl...  38105   \n",
       "2  Action Point Allowance System, Auction/Bidding...  14147   \n",
       "3  Area Control / Area Influence, Campaign / Batt...  41094   \n",
       "4  Card Drafting, Hand Management, Tile Placement...  26145   \n",
       "\n",
       "                                            category  \\\n",
       "0  Adventure, Exploration, Fantasy, Fighting, Min...   \n",
       "1                             Environmental, Medical   \n",
       "2                  Card Game, Civilization, Economic   \n",
       "3                 Modern Warfare, Political, Wargame   \n",
       "4  Economic, Environmental, Industry / Manufactur...   \n",
       "\n",
       "                       designer  weight  \n",
       "0                Isaac Childres  3.7720  \n",
       "1      Rob Daviau, Matt Leacock  2.8056  \n",
       "2                Vlaada Chvátil  4.3538  \n",
       "3  Ananda Gupta, Jason Matthews  3.5446  \n",
       "4               Jacob Fryxelius  3.2465  "
      ]
     },
     "execution_count": 3,
     "metadata": {},
     "output_type": "execute_result"
    }
   ],
   "source": [
    "df.head()"
   ]
  },
  {
   "cell_type": "code",
   "execution_count": 4,
   "metadata": {},
   "outputs": [],
   "source": [
    "df['mechanic'] = df['mechanic'].apply(lambda x: [m for m in x.split(\", \")])\n",
    "df['category'] = df['category'].apply(lambda x: [c for c in x.split(\", \")])"
   ]
  },
  {
   "cell_type": "code",
   "execution_count": 5,
   "metadata": {},
   "outputs": [],
   "source": [
    "mechanics = df['mechanic'].tolist()\n",
    "categories = df['category'].tolist()"
   ]
  },
  {
   "cell_type": "code",
   "execution_count": 6,
   "metadata": {},
   "outputs": [
    {
     "data": {
      "text/plain": [
       "(52, 84)"
      ]
     },
     "execution_count": 6,
     "metadata": {},
     "output_type": "execute_result"
    }
   ],
   "source": [
    "mechanic_cols = sorted(set([val for sublist in mechanics for val in sublist]))\n",
    "category_cols = sorted(set([val for sublist in categories for val in sublist]))\n",
    "len(mechanic_cols), len(category_cols)"
   ]
  },
  {
   "cell_type": "code",
   "execution_count": 199,
   "metadata": {},
   "outputs": [],
   "source": [
    "# mech_cols = []\n",
    "# for col in mechanic_cols:\n",
    "#     disp_name = col.lower().replace(\"/\",\"\").replace(\" \",\"_\")\n",
    "#     mech_cols.append('mech_' + disp_name)\n",
    "#     df['mech_' + disp_name] = 0\n",
    "#     col_names.append('mech_' + disp_name)"
   ]
  },
  {
   "cell_type": "code",
   "execution_count": 99,
   "metadata": {},
   "outputs": [],
   "source": [
    "cat_cols = []\n",
    "for col in category_cols:\n",
    "    disp_name = col.lower().replace(\"/\",\"\").replace(\" \",\"_\")\n",
    "    cat_cols.append('cat_' + disp_name)\n",
    "#     df['cat_' + disp_name] = 0\n",
    "#     col_names.append('cat_' + disp_name)"
   ]
  },
  {
   "cell_type": "code",
   "execution_count": 197,
   "metadata": {},
   "outputs": [],
   "source": [
    "# mech_cols = []\n",
    "# for mech in mechanic_cols:\n",
    "#     disp_name = mech.lower().replace(\"/\",\"\").replace(\" \",\"_\")\n",
    "#     for idx, row in df.iterrows():\n",
    "#         if mech in row['mechanic']:\n",
    "#             df['mech_' + disp_name][idx] = 1"
   ]
  },
  {
   "cell_type": "code",
   "execution_count": 200,
   "metadata": {},
   "outputs": [],
   "source": [
    "# for cat in category_cols:\n",
    "#     disp_name = cat.lower().replace(\"/\",\"\").replace(\" \",\"_\")\n",
    "#     for idx, row in df.iterrows():\n",
    "#         if cat in row['category']:\n",
    "#             df['cat_' + disp_name][idx] = 1"
   ]
  },
  {
   "cell_type": "code",
   "execution_count": 47,
   "metadata": {},
   "outputs": [],
   "source": [
    "df.drop(['bgg_url', 'year', 'avg_rating',\n",
    "       'num_votes', 'image_url', 'owned', 'designer'], axis=1, inplace=True)"
   ]
  },
  {
   "cell_type": "code",
   "execution_count": 55,
   "metadata": {},
   "outputs": [],
   "source": [
    "df.to_csv('data/bgg_binned_2018.csv')"
   ]
  },
  {
   "cell_type": "markdown",
   "metadata": {},
   "source": [
    "### Prepping for testing"
   ]
  },
  {
   "cell_type": "code",
   "execution_count": 7,
   "metadata": {},
   "outputs": [],
   "source": [
    "bgg = pd.read_csv('data/bgg_binned_2018.csv', index_col=0)"
   ]
  },
  {
   "cell_type": "code",
   "execution_count": 8,
   "metadata": {},
   "outputs": [
    {
     "data": {
      "text/plain": [
       "Index(['rank', 'game_id', 'names', 'min_players', 'max_players', 'avg_time',\n",
       "       'min_time', 'max_time', 'geek_rating', 'age',\n",
       "       ...\n",
       "       'cat_travel', 'cat_trivia', 'cat_video_game_theme', 'cat_vietnam_war',\n",
       "       'cat_wargame', 'cat_word_game', 'cat_world_war_i', 'cat_world_war_ii',\n",
       "       'cat_zombies', 'cat_none'],\n",
       "      dtype='object', length=149)"
      ]
     },
     "execution_count": 8,
     "metadata": {},
     "output_type": "execute_result"
    }
   ],
   "source": [
    "bgg.columns"
   ]
  },
  {
   "cell_type": "code",
   "execution_count": 9,
   "metadata": {},
   "outputs": [
    {
     "data": {
      "text/plain": [
       "count    4999.000000\n",
       "mean        6.082797\n",
       "std         0.482280\n",
       "min         5.636190\n",
       "25%         5.720640\n",
       "50%         5.901470\n",
       "75%         6.289785\n",
       "max         8.522340\n",
       "Name: geek_rating, dtype: float64"
      ]
     },
     "execution_count": 9,
     "metadata": {},
     "output_type": "execute_result"
    }
   ],
   "source": [
    "bgg['geek_rating'].describe()"
   ]
  },
  {
   "cell_type": "code",
   "execution_count": 10,
   "metadata": {},
   "outputs": [],
   "source": [
    "bgg['top_score'] = bgg['geek_rating'].apply(lambda x: 1 if x > 6.289785 else 0)"
   ]
  },
  {
   "cell_type": "code",
   "execution_count": 11,
   "metadata": {},
   "outputs": [
    {
     "data": {
      "text/html": [
       "<div>\n",
       "<style scoped>\n",
       "    .dataframe tbody tr th:only-of-type {\n",
       "        vertical-align: middle;\n",
       "    }\n",
       "\n",
       "    .dataframe tbody tr th {\n",
       "        vertical-align: top;\n",
       "    }\n",
       "\n",
       "    .dataframe thead th {\n",
       "        text-align: right;\n",
       "    }\n",
       "</style>\n",
       "<table border=\"1\" class=\"dataframe\">\n",
       "  <thead>\n",
       "    <tr style=\"text-align: right;\">\n",
       "      <th></th>\n",
       "      <th>rank</th>\n",
       "      <th>game_id</th>\n",
       "      <th>names</th>\n",
       "      <th>min_players</th>\n",
       "      <th>max_players</th>\n",
       "      <th>avg_time</th>\n",
       "      <th>min_time</th>\n",
       "      <th>max_time</th>\n",
       "      <th>geek_rating</th>\n",
       "      <th>age</th>\n",
       "      <th>...</th>\n",
       "      <th>cat_trivia</th>\n",
       "      <th>cat_video_game_theme</th>\n",
       "      <th>cat_vietnam_war</th>\n",
       "      <th>cat_wargame</th>\n",
       "      <th>cat_word_game</th>\n",
       "      <th>cat_world_war_i</th>\n",
       "      <th>cat_world_war_ii</th>\n",
       "      <th>cat_zombies</th>\n",
       "      <th>cat_none</th>\n",
       "      <th>top_score</th>\n",
       "    </tr>\n",
       "  </thead>\n",
       "  <tbody>\n",
       "    <tr>\n",
       "      <th>0</th>\n",
       "      <td>1</td>\n",
       "      <td>174430</td>\n",
       "      <td>Gloomhaven</td>\n",
       "      <td>1</td>\n",
       "      <td>4</td>\n",
       "      <td>150</td>\n",
       "      <td>90</td>\n",
       "      <td>150</td>\n",
       "      <td>8.52234</td>\n",
       "      <td>12</td>\n",
       "      <td>...</td>\n",
       "      <td>0</td>\n",
       "      <td>0</td>\n",
       "      <td>0</td>\n",
       "      <td>0</td>\n",
       "      <td>0</td>\n",
       "      <td>0</td>\n",
       "      <td>0</td>\n",
       "      <td>0</td>\n",
       "      <td>0</td>\n",
       "      <td>1</td>\n",
       "    </tr>\n",
       "    <tr>\n",
       "      <th>1</th>\n",
       "      <td>2</td>\n",
       "      <td>161936</td>\n",
       "      <td>Pandemic Legacy: Season 1</td>\n",
       "      <td>2</td>\n",
       "      <td>4</td>\n",
       "      <td>60</td>\n",
       "      <td>60</td>\n",
       "      <td>60</td>\n",
       "      <td>8.49837</td>\n",
       "      <td>13</td>\n",
       "      <td>...</td>\n",
       "      <td>0</td>\n",
       "      <td>0</td>\n",
       "      <td>0</td>\n",
       "      <td>0</td>\n",
       "      <td>0</td>\n",
       "      <td>0</td>\n",
       "      <td>0</td>\n",
       "      <td>0</td>\n",
       "      <td>0</td>\n",
       "      <td>1</td>\n",
       "    </tr>\n",
       "    <tr>\n",
       "      <th>2</th>\n",
       "      <td>3</td>\n",
       "      <td>182028</td>\n",
       "      <td>Through the Ages: A New Story of Civilization</td>\n",
       "      <td>2</td>\n",
       "      <td>4</td>\n",
       "      <td>240</td>\n",
       "      <td>180</td>\n",
       "      <td>240</td>\n",
       "      <td>8.32401</td>\n",
       "      <td>14</td>\n",
       "      <td>...</td>\n",
       "      <td>0</td>\n",
       "      <td>0</td>\n",
       "      <td>0</td>\n",
       "      <td>0</td>\n",
       "      <td>0</td>\n",
       "      <td>0</td>\n",
       "      <td>0</td>\n",
       "      <td>0</td>\n",
       "      <td>0</td>\n",
       "      <td>1</td>\n",
       "    </tr>\n",
       "    <tr>\n",
       "      <th>3</th>\n",
       "      <td>4</td>\n",
       "      <td>12333</td>\n",
       "      <td>Twilight Struggle</td>\n",
       "      <td>2</td>\n",
       "      <td>2</td>\n",
       "      <td>180</td>\n",
       "      <td>120</td>\n",
       "      <td>180</td>\n",
       "      <td>8.21012</td>\n",
       "      <td>13</td>\n",
       "      <td>...</td>\n",
       "      <td>0</td>\n",
       "      <td>0</td>\n",
       "      <td>0</td>\n",
       "      <td>1</td>\n",
       "      <td>0</td>\n",
       "      <td>0</td>\n",
       "      <td>0</td>\n",
       "      <td>0</td>\n",
       "      <td>0</td>\n",
       "      <td>1</td>\n",
       "    </tr>\n",
       "    <tr>\n",
       "      <th>4</th>\n",
       "      <td>5</td>\n",
       "      <td>167791</td>\n",
       "      <td>Terraforming Mars</td>\n",
       "      <td>1</td>\n",
       "      <td>5</td>\n",
       "      <td>120</td>\n",
       "      <td>120</td>\n",
       "      <td>120</td>\n",
       "      <td>8.17328</td>\n",
       "      <td>12</td>\n",
       "      <td>...</td>\n",
       "      <td>0</td>\n",
       "      <td>0</td>\n",
       "      <td>0</td>\n",
       "      <td>0</td>\n",
       "      <td>0</td>\n",
       "      <td>0</td>\n",
       "      <td>0</td>\n",
       "      <td>0</td>\n",
       "      <td>0</td>\n",
       "      <td>1</td>\n",
       "    </tr>\n",
       "  </tbody>\n",
       "</table>\n",
       "<p>5 rows × 150 columns</p>\n",
       "</div>"
      ],
      "text/plain": [
       "   rank  game_id                                          names  min_players  \\\n",
       "0     1   174430                                     Gloomhaven            1   \n",
       "1     2   161936                      Pandemic Legacy: Season 1            2   \n",
       "2     3   182028  Through the Ages: A New Story of Civilization            2   \n",
       "3     4    12333                              Twilight Struggle            2   \n",
       "4     5   167791                              Terraforming Mars            1   \n",
       "\n",
       "   max_players  avg_time  min_time  max_time  geek_rating  age    ...      \\\n",
       "0            4       150        90       150      8.52234   12    ...       \n",
       "1            4        60        60        60      8.49837   13    ...       \n",
       "2            4       240       180       240      8.32401   14    ...       \n",
       "3            2       180       120       180      8.21012   13    ...       \n",
       "4            5       120       120       120      8.17328   12    ...       \n",
       "\n",
       "  cat_trivia cat_video_game_theme  cat_vietnam_war  cat_wargame  \\\n",
       "0          0                    0                0            0   \n",
       "1          0                    0                0            0   \n",
       "2          0                    0                0            0   \n",
       "3          0                    0                0            1   \n",
       "4          0                    0                0            0   \n",
       "\n",
       "   cat_word_game  cat_world_war_i  cat_world_war_ii  cat_zombies  cat_none  \\\n",
       "0              0                0                 0            0         0   \n",
       "1              0                0                 0            0         0   \n",
       "2              0                0                 0            0         0   \n",
       "3              0                0                 0            0         0   \n",
       "4              0                0                 0            0         0   \n",
       "\n",
       "   top_score  \n",
       "0          1  \n",
       "1          1  \n",
       "2          1  \n",
       "3          1  \n",
       "4          1  \n",
       "\n",
       "[5 rows x 150 columns]"
      ]
     },
     "execution_count": 11,
     "metadata": {},
     "output_type": "execute_result"
    }
   ],
   "source": [
    "bgg.head()"
   ]
  },
  {
   "cell_type": "code",
   "execution_count": 12,
   "metadata": {},
   "outputs": [],
   "source": [
    "drop = ['rank', 'game_id', 'names', 'geek_rating', 'age',\n",
    "              'avg_time', 'top_score', 'category','mechanic']\n",
    "\n",
    "# drop = ['rank', 'game_id', 'names', 'geek_rating', 'age',\n",
    "#               'avg_time', 'top_score', 'category','mechanic', 'weight']\n",
    "\n",
    "to_drop = drop"
   ]
  },
  {
   "cell_type": "code",
   "execution_count": 13,
   "metadata": {},
   "outputs": [],
   "source": [
    "X = bgg.drop(to_drop, axis=1)\n",
    "y = bgg['top_score']"
   ]
  },
  {
   "cell_type": "code",
   "execution_count": 14,
   "metadata": {},
   "outputs": [],
   "source": [
    "X_train, X_test, y_train, y_test = train_test_split(X, y)"
   ]
  },
  {
   "cell_type": "markdown",
   "metadata": {},
   "source": [
    "### Decision Tree"
   ]
  },
  {
   "cell_type": "code",
   "execution_count": 15,
   "metadata": {},
   "outputs": [],
   "source": [
    "clf = DecisionTreeClassifier()\n",
    "\n",
    "clf.fit(X_train, y_train)\n",
    "y_pred_t = clf.predict_proba(X_test)"
   ]
  },
  {
   "cell_type": "code",
   "execution_count": 16,
   "metadata": {},
   "outputs": [
    {
     "name": "stdout",
     "output_type": "stream",
     "text": [
      "4: 0.1744839825958183\n"
     ]
    }
   ],
   "source": [
    "for i, val in enumerate(clf.feature_importances_):\n",
    "    if val == (clf.feature_importances_).max():\n",
    "        print(str(i) + \": \" + str(val))"
   ]
  },
  {
   "cell_type": "code",
   "execution_count": 17,
   "metadata": {},
   "outputs": [],
   "source": [
    "# # Summary stats\n",
    "# print(f\"Testing Accuracy for Decision Tree Classifier: {accuracy_score(y_test, y_pred_t) * 100}%\")\n",
    "# print(f\"Testing Average Precision Score: {round(average_precision_score(y_test, y_pred_t) * 100, 2)}%\")\n",
    "# print(classification_report(y_test, y_pred))"
   ]
  },
  {
   "cell_type": "code",
   "execution_count": 47,
   "metadata": {},
   "outputs": [
    {
     "name": "stdout",
     "output_type": "stream",
     "text": [
      "Log loss: 10.306370876241347\n",
      "\n",
      "ROC AUC Score: 0.6105651505678859\n"
     ]
    },
    {
     "data": {
      "image/png": "[encoded data removed]",
      "text/plain": [
       "<Figure size 432x288 with 1 Axes>"
      ]
     },
     "metadata": {
      "needs_background": "light"
     },
     "output_type": "display_data"
    }
   ],
   "source": [
    "print(f\"Log loss: {log_loss(y_test, y_pred_t)}\")\n",
    "print(f\"\\nROC AUC Score: {roc_auc_score(y_test, y_pred_t[:,1])}\")\n",
    "fpr, tpr, thresholds = roc_curve(y_test, y_pred_t[:,1])\n",
    "#Plot\n",
    "plt.plot(fpr, tpr)\n",
    "# this is just a diagonal\n",
    "plt.plot([0, 1], [0, 1], linestyle='--');"
   ]
  },
  {
   "cell_type": "code",
   "execution_count": 1,
   "metadata": {},
   "outputs": [],
   "source": [
    "# dot_data = StringIO()\n",
    "# export_graphviz(clf, out_file=dot_data, filled=True, rounded=True,special_characters=True)\n",
    "# graph = pydotplus.graph_from_dot_data(dot_data.getvalue())  \n",
    "# Image(graph.create_png())"
   ]
  },
  {
   "cell_type": "markdown",
   "metadata": {},
   "source": [
    "### Decision Tree #2, after Graph Search"
   ]
  },
  {
   "cell_type": "code",
   "execution_count": 42,
   "metadata": {},
   "outputs": [
    {
     "data": {
      "text/plain": [
       "GridSearchCV(cv=3, error_score='raise-deprecating',\n",
       "       estimator=DecisionTreeClassifier(class_weight=None, criterion='gini', max_depth=None,\n",
       "            max_features=None, max_leaf_nodes=None,\n",
       "            min_impurity_decrease=0.0, min_impurity_split=None,\n",
       "            min_samples_leaf=1, min_samples_split=2,\n",
       "            min_weight_fraction_leaf=0.0, presort=False, random_state=None,\n",
       "            splitter='best'),\n",
       "       fit_params=None, iid='warn', n_jobs=None,\n",
       "       param_grid={'criterion': ['gini', 'entropy'], 'max_depth': [1, 2, 5, 10], 'min_samples_split': [1.0, 5, 10, 20]},\n",
       "       pre_dispatch='2*n_jobs', refit=True, return_train_score='warn',\n",
       "       scoring=None, verbose=0)"
      ]
     },
     "execution_count": 42,
     "metadata": {},
     "output_type": "execute_result"
    }
   ],
   "source": [
    "clf_2 = DecisionTreeClassifier()\n",
    "\n",
    "param_grid = {\n",
    "    \"criterion\": [\"gini\", \"entropy\"],\n",
    "    \"max_depth\": [1, 2, 5, 10],\n",
    "    \"min_samples_split\": [1.0, 5, 10, 20]\n",
    "}\n",
    "\n",
    "gs_tree = GridSearchCV(clf_2, param_grid, cv=3)\n",
    "\n",
    "gs_tree.fit(X_train, y_train)"
   ]
  },
  {
   "cell_type": "code",
   "execution_count": 43,
   "metadata": {},
   "outputs": [
    {
     "data": {
      "text/plain": [
       "{'criterion': 'entropy', 'max_depth': 5, 'min_samples_split': 5}"
      ]
     },
     "execution_count": 43,
     "metadata": {},
     "output_type": "execute_result"
    }
   ],
   "source": [
    "gs_tree.best_params_"
   ]
  },
  {
   "cell_type": "code",
   "execution_count": 44,
   "metadata": {},
   "outputs": [],
   "source": [
    "best = gs_tree.best_params_\n",
    "\n",
    "clf_2 = DecisionTreeClassifier(**best)\n",
    "clf_2.fit(X_train, y_train)\n",
    "y_pred_t2 = clf_2.predict_proba(X_test)"
   ]
  },
  {
   "cell_type": "code",
   "execution_count": 46,
   "metadata": {},
   "outputs": [
    {
     "name": "stdout",
     "output_type": "stream",
     "text": [
      "Log loss: 0.669049062919435\n",
      "\n",
      "ROC AUC Score: 0.71574938782953\n"
     ]
    },
    {
     "data": {
      "image/png": "[encoded data removed]",
      "text/plain": [
       "<Figure size 432x288 with 1 Axes>"
      ]
     },
     "metadata": {
      "needs_background": "light"
     },
     "output_type": "display_data"
    }
   ],
   "source": [
    "print(f\"Log loss: {log_loss(y_test, y_pred_t2)}\")\n",
    "print(f\"\\nROC AUC Score: {roc_auc_score(y_test, y_pred_t2[:,1])}\")\n",
    "fpr, tpr, thresholds = roc_curve(y_test, y_pred_t2[:,1])\n",
    "#Plot\n",
    "plt.plot(fpr, tpr)\n",
    "# this is just a diagonal\n",
    "plt.plot([0, 1], [0, 1], linestyle='--');"
   ]
  },
  {
   "cell_type": "code",
   "execution_count": null,
   "metadata": {},
   "outputs": [],
   "source": [
    "# print(\"Testing Accuracy for Grid Search Best Decision Tree Classifier: {:.4}%\".format(accuracy_score(y_test, y_pred_t2) * 100))\n",
    "# print(f\"Testing Average Precision Score: {round(average_precision_score(y_test, y_pred_t2) * 100, 2)}%\")\n",
    "# print(classification_report(y_test, y_pred_t2))"
   ]
  },
  {
   "cell_type": "code",
   "execution_count": 314,
   "metadata": {},
   "outputs": [
    {
     "data": {
      "image/png": "[encoded data removed]",
      "text/plain": [
       "<IPython.core.display.Image object>"
      ]
     },
     "execution_count": 314,
     "metadata": {},
     "output_type": "execute_result"
    }
   ],
   "source": [
    "dot_data = StringIO()\n",
    "export_graphviz(clf_2, out_file=dot_data, filled=True, rounded=True,special_characters=True)\n",
    "graph = pydotplus.graph_from_dot_data(dot_data.getvalue())  \n",
    "Image(graph.create_png())"
   ]
  },
  {
   "cell_type": "code",
   "execution_count": 164,
   "metadata": {},
   "outputs": [],
   "source": [
    "# for i, x in enumerate(X.columns):\n",
    "#     print(str(i) + \": \" + x)"
   ]
  },
  {
   "cell_type": "markdown",
   "metadata": {},
   "source": [
    "### Random Forest Classifier"
   ]
  },
  {
   "cell_type": "code",
   "execution_count": 26,
   "metadata": {},
   "outputs": [],
   "source": [
    "forest = RandomForestClassifier(n_estimators=100, max_depth=5)\n",
    "\n",
    "forest.fit(X_train, y_train)\n",
    "\n",
    "y_pred_forest = forest.predict_proba(X_test)\n",
    "y_pred_f = forest.predict(X_test)"
   ]
  },
  {
   "cell_type": "code",
   "execution_count": 23,
   "metadata": {},
   "outputs": [],
   "source": [
    "from sklearn.metrics import log_loss, roc_auc_score"
   ]
  },
  {
   "cell_type": "code",
   "execution_count": 35,
   "metadata": {},
   "outputs": [
    {
     "name": "stdout",
     "output_type": "stream",
     "text": [
      "Log loss: 0.5302181848306553\n",
      "\n",
      "ROC AUC Score: 0.7668363160362613\n"
     ]
    },
    {
     "data": {
      "image/png": "[encoded data removed]",
      "text/plain": [
       "<Figure size 432x288 with 1 Axes>"
      ]
     },
     "metadata": {
      "needs_background": "light"
     },
     "output_type": "display_data"
    }
   ],
   "source": [
    "print(f\"Log loss: {log_loss(y_test, y_pred_forest)}\")\n",
    "print(f\"\\nROC AUC Score: {roc_auc_score(y_test, y_pred_forest[:,1])}\")\n",
    "fpr, tpr, thresholds = roc_curve(y_test, y_pred_forest[:,1])\n",
    "#Plot\n",
    "plt.plot(fpr, tpr)\n",
    "# this is just a diagonal\n",
    "plt.plot([0, 1], [0, 1], linestyle='--');"
   ]
  },
  {
   "cell_type": "code",
   "execution_count": 62,
   "metadata": {},
   "outputs": [],
   "source": [
    "# print(\"Testing Accuracy for Random Forrest Classifier: {:.4}%\".format(accuracy_score(y_test, y_pred_forest) * 100))\n",
    "# print(f\"Testing Average Precision Score: {round(average_precision_score(y_test, y_pred_forest) * 100, 2)}%\")\n",
    "# print(classification_report(y_test, y_pred_forest))"
   ]
  },
  {
   "cell_type": "markdown",
   "metadata": {},
   "source": [
    "### Gradient Boosting Classifier"
   ]
  },
  {
   "cell_type": "code",
   "execution_count": 37,
   "metadata": {},
   "outputs": [],
   "source": [
    "boost = GradientBoostingClassifier(learning_rate=.01)\n",
    "\n",
    "boost.fit(X_train, y_train)\n",
    "\n",
    "boost_pred = boost.predict_proba(X_test)"
   ]
  },
  {
   "cell_type": "code",
   "execution_count": 38,
   "metadata": {},
   "outputs": [
    {
     "name": "stdout",
     "output_type": "stream",
     "text": [
      "Log loss: 0.5359928172784619\n",
      "\n",
      "ROC AUC Score: 0.7390411717203292\n"
     ]
    },
    {
     "data": {
      "image/png": "[encoded data removed]",
      "text/plain": [
       "<Figure size 432x288 with 1 Axes>"
      ]
     },
     "metadata": {
      "needs_background": "light"
     },
     "output_type": "display_data"
    }
   ],
   "source": [
    "print(f\"Log loss: {log_loss(y_test, boost_pred)}\")\n",
    "print(f\"\\nROC AUC Score: {roc_auc_score(y_test, boost_pred[:,1])}\")\n",
    "fpr, tpr, thresholds = roc_curve(y_test, boost_pred[:,1])\n",
    "#Plot\n",
    "plt.plot(fpr, tpr)\n",
    "# this is just a diagonal\n",
    "plt.plot([0, 1], [0, 1], linestyle='--');"
   ]
  },
  {
   "cell_type": "code",
   "execution_count": null,
   "metadata": {},
   "outputs": [],
   "source": [
    "# print(\"Testing Accuracy for Gradient Boosting Classifier: {:.4}%\".format(accuracy_score(y_test, boost_pred) * 100))\n",
    "# print(f\"Testing Average Precision Score: {round(average_precision_score(y_test, boost_pred) * 100, 2)}%\")\n",
    "# print(classification_report(y_test, boost_pred))"
   ]
  },
  {
   "cell_type": "markdown",
   "metadata": {},
   "source": [
    "### XG Boost Classifier"
   ]
  },
  {
   "cell_type": "code",
   "execution_count": null,
   "metadata": {},
   "outputs": [],
   "source": [
    "x_boost = xgb.XGBClassifier(learning_rate=.1)\n",
    "\n",
    "x_boost.fit(X_train, y_train)"
   ]
  },
  {
   "cell_type": "code",
   "execution_count": null,
   "metadata": {},
   "outputs": [],
   "source": [
    "x_pred = x_boost.predict_proba(X_test)"
   ]
  },
  {
   "cell_type": "code",
   "execution_count": null,
   "metadata": {},
   "outputs": [],
   "source": [
    "print(\"Testing Accuracy for Decision Tree Classifier: {:.4}%\".format(accuracy_score(y_test, x_pred) * 100))\n",
    "\n",
    "print(classification_report(y_test, x_pred))"
   ]
  },
  {
   "cell_type": "code",
   "execution_count": null,
   "metadata": {},
   "outputs": [],
   "source": []
  }
 ],
 "metadata": {
  "kernelspec": {
   "display_name": "Python 3",
   "language": "python",
   "name": "python3"
  },
  "language_info": {
   "codemirror_mode": {
    "name": "ipython",
    "version": 3
   },
   "file_extension": ".py",
   "mimetype": "text/x-python",
   "name": "python",
   "nbconvert_exporter": "python",
   "pygments_lexer": "ipython3",
   "version": "3.6.6"
  }
 },
 "nbformat": 4,
 "nbformat_minor": 2
}
