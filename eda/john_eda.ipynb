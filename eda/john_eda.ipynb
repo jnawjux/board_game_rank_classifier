{
 "cells": [
  {
   "cell_type": "code",
   "execution_count": 390,
   "metadata": {},
   "outputs": [],
   "source": [
    "# General setup\n",
    "import pandas as pd\n",
    "import numpy as np\n",
    "import re\n",
    "\n",
    "# Modeling tools\n",
    "from sklearn.tree import DecisionTreeClassifier\n",
    "from sklearn.ensemble import BaggingClassifier, RandomForestClassifier, GradientBoostingClassifier\n",
    "from sklearn.model_selection import GridSearchCV\n",
    "import xgboost as xgb\n",
    "\n",
    "# Preprocessing and scoring\n",
    "from sklearn.model_selection import train_test_split\n",
    "from sklearn.metrics import accuracy_score, roc_curve, auc, confusion_matrix, average_precision_score\n",
    "from sklearn.metrics import log_loss, roc_auc_score, classification_report\n",
    "from sklearn.preprocessing import OneHotEncoder\n",
    "\n",
    "# Visualization\n",
    "from sklearn.tree import export_graphviz\n",
    "from sklearn.externals.six import StringIO \n",
    "from IPython.display import Image  \n",
    "from sklearn import tree\n",
    "import pydotplus\n",
    "import matplotlib.pyplot as plt\n",
    "%matplotlib inline"
   ]
  },
  {
   "cell_type": "markdown",
   "metadata": {},
   "source": [
    "# EDA and clean up with scrape of 2015-2019 Data\n",
    "***"
   ]
  },
  {
   "cell_type": "code",
   "execution_count": 308,
   "metadata": {},
   "outputs": [],
   "source": [
    "bgg = pd.read_csv('../data/bgg_complete_1419.csv', index_col=0)"
   ]
  },
  {
   "cell_type": "code",
   "execution_count": 309,
   "metadata": {},
   "outputs": [
    {
     "data": {
      "text/html": [
       "<div>\n",
       "<style scoped>\n",
       "    .dataframe tbody tr th:only-of-type {\n",
       "        vertical-align: middle;\n",
       "    }\n",
       "\n",
       "    .dataframe tbody tr th {\n",
       "        vertical-align: top;\n",
       "    }\n",
       "\n",
       "    .dataframe thead th {\n",
       "        text-align: right;\n",
       "    }\n",
       "</style>\n",
       "<table border=\"1\" class=\"dataframe\">\n",
       "  <thead>\n",
       "    <tr style=\"text-align: right;\">\n",
       "      <th></th>\n",
       "      <th>rank</th>\n",
       "      <th>id</th>\n",
       "      <th>name</th>\n",
       "      <th>age</th>\n",
       "      <th>avg_time</th>\n",
       "      <th>min_players</th>\n",
       "      <th>max_players</th>\n",
       "      <th>mechanic</th>\n",
       "      <th>category</th>\n",
       "      <th>weight</th>\n",
       "      <th>year</th>\n",
       "      <th>geek</th>\n",
       "      <th>avg</th>\n",
       "      <th>num_rev</th>\n",
       "    </tr>\n",
       "  </thead>\n",
       "  <tbody>\n",
       "    <tr>\n",
       "      <th>0</th>\n",
       "      <td>NaN</td>\n",
       "      <td>246783</td>\n",
       "      <td>Wildlands: The Unquiet Dead</td>\n",
       "      <td>14</td>\n",
       "      <td>60</td>\n",
       "      <td>2</td>\n",
       "      <td>4</td>\n",
       "      <td>[]</td>\n",
       "      <td>['Expansion for Base-game', 'Miniatures']</td>\n",
       "      <td>2.0</td>\n",
       "      <td>2018</td>\n",
       "      <td>5.653</td>\n",
       "      <td>7.44</td>\n",
       "      <td>108.0</td>\n",
       "    </tr>\n",
       "    <tr>\n",
       "      <th>1</th>\n",
       "      <td>12558.0</td>\n",
       "      <td>205776</td>\n",
       "      <td>Gentleman's Deal</td>\n",
       "      <td>12</td>\n",
       "      <td>60</td>\n",
       "      <td>5</td>\n",
       "      <td>9</td>\n",
       "      <td>['Partnerships', 'Voting']</td>\n",
       "      <td>['Bluffing', 'Negotiation', 'Party Game']</td>\n",
       "      <td>1.0</td>\n",
       "      <td>2016</td>\n",
       "      <td>5.514</td>\n",
       "      <td>6.21</td>\n",
       "      <td>47.0</td>\n",
       "    </tr>\n",
       "    <tr>\n",
       "      <th>2</th>\n",
       "      <td>13663.0</td>\n",
       "      <td>188129</td>\n",
       "      <td>Heroes and Tricks</td>\n",
       "      <td>8</td>\n",
       "      <td>25</td>\n",
       "      <td>2</td>\n",
       "      <td>6</td>\n",
       "      <td>['Hand Management', 'Trick-taking']</td>\n",
       "      <td>['Deduction', 'Fantasy']</td>\n",
       "      <td>0.0</td>\n",
       "      <td>2017</td>\n",
       "      <td>5.504</td>\n",
       "      <td>5.67</td>\n",
       "      <td>83.0</td>\n",
       "    </tr>\n",
       "    <tr>\n",
       "      <th>3</th>\n",
       "      <td>13323.0</td>\n",
       "      <td>206083</td>\n",
       "      <td>Ragers: Champions of the Arena</td>\n",
       "      <td>14</td>\n",
       "      <td>20</td>\n",
       "      <td>2</td>\n",
       "      <td>2</td>\n",
       "      <td>['Rock-Paper-Scissors', 'Simultaneous Action S...</td>\n",
       "      <td>['Card Game', 'Fantasy', 'Fighting']</td>\n",
       "      <td>1.0</td>\n",
       "      <td>2016</td>\n",
       "      <td>5.507</td>\n",
       "      <td>5.98</td>\n",
       "      <td>36.0</td>\n",
       "    </tr>\n",
       "    <tr>\n",
       "      <th>4</th>\n",
       "      <td>6390.0</td>\n",
       "      <td>201006</td>\n",
       "      <td>Bumúntú</td>\n",
       "      <td>8</td>\n",
       "      <td>30</td>\n",
       "      <td>2</td>\n",
       "      <td>5</td>\n",
       "      <td>['Action / Movement Programming']</td>\n",
       "      <td>['Animals', 'Educational']</td>\n",
       "      <td>2.0</td>\n",
       "      <td>2019</td>\n",
       "      <td>5.603</td>\n",
       "      <td>7.15</td>\n",
       "      <td>95.0</td>\n",
       "    </tr>\n",
       "  </tbody>\n",
       "</table>\n",
       "</div>"
      ],
      "text/plain": [
       "      rank      id                            name  age  avg_time  \\\n",
       "0      NaN  246783     Wildlands: The Unquiet Dead   14        60   \n",
       "1  12558.0  205776                Gentleman's Deal   12        60   \n",
       "2  13663.0  188129               Heroes and Tricks    8        25   \n",
       "3  13323.0  206083  Ragers: Champions of the Arena   14        20   \n",
       "4   6390.0  201006                         Bumúntú    8        30   \n",
       "\n",
       "   min_players  max_players  \\\n",
       "0            2            4   \n",
       "1            5            9   \n",
       "2            2            6   \n",
       "3            2            2   \n",
       "4            2            5   \n",
       "\n",
       "                                            mechanic  \\\n",
       "0                                                 []   \n",
       "1                         ['Partnerships', 'Voting']   \n",
       "2                ['Hand Management', 'Trick-taking']   \n",
       "3  ['Rock-Paper-Scissors', 'Simultaneous Action S...   \n",
       "4                  ['Action / Movement Programming']   \n",
       "\n",
       "                                    category  weight  year   geek   avg  \\\n",
       "0  ['Expansion for Base-game', 'Miniatures']     2.0  2018  5.653  7.44   \n",
       "1  ['Bluffing', 'Negotiation', 'Party Game']     1.0  2016  5.514  6.21   \n",
       "2                   ['Deduction', 'Fantasy']     0.0  2017  5.504  5.67   \n",
       "3       ['Card Game', 'Fantasy', 'Fighting']     1.0  2016  5.507  5.98   \n",
       "4                 ['Animals', 'Educational']     2.0  2019  5.603  7.15   \n",
       "\n",
       "   num_rev  \n",
       "0    108.0  \n",
       "1     47.0  \n",
       "2     83.0  \n",
       "3     36.0  \n",
       "4     95.0  "
      ]
     },
     "execution_count": 309,
     "metadata": {},
     "output_type": "execute_result"
    }
   ],
   "source": [
    "bgg.head()"
   ]
  },
  {
   "cell_type": "code",
   "execution_count": 310,
   "metadata": {},
   "outputs": [
    {
     "data": {
      "text/plain": [
       "3142"
      ]
     },
     "execution_count": 310,
     "metadata": {},
     "output_type": "execute_result"
    }
   ],
   "source": [
    "# Drop rows with no rank, as they are expansions to games, and not individual games\n",
    "to_drop = bgg[bgg['rank'].isna()]\n",
    "bgg.drop(to_drop.index, axis=0, inplace=True)\n",
    "len(bgg)"
   ]
  },
  {
   "cell_type": "code",
   "execution_count": 311,
   "metadata": {},
   "outputs": [],
   "source": [
    "# Filling in median value for rows with 0 weight given\n",
    "bgg.loc[bgg[\"weight\"] == 0] = bgg['weight'].median()"
   ]
  },
  {
   "cell_type": "code",
   "execution_count": 312,
   "metadata": {},
   "outputs": [
    {
     "data": {
      "text/plain": [
       "(156, 3142)"
      ]
     },
     "execution_count": 312,
     "metadata": {},
     "output_type": "execute_result"
    }
   ],
   "source": [
    "# Double checking that it pulled only those for the correct year\n",
    "len(bgg[bgg['year'] < 2015]), len(bgg)"
   ]
  },
  {
   "cell_type": "code",
   "execution_count": 313,
   "metadata": {},
   "outputs": [],
   "source": [
    "# Dropping rows with dates prior to 2015 (bad API pull)\n",
    "to_drop = bgg[bgg['year'] < 2015]\n",
    "bgg.drop(to_drop.index, axis=0, inplace=True)"
   ]
  },
  {
   "cell_type": "code",
   "execution_count": 314,
   "metadata": {},
   "outputs": [
    {
     "data": {
      "text/plain": [
       "2986"
      ]
     },
     "execution_count": 314,
     "metadata": {},
     "output_type": "execute_result"
    }
   ],
   "source": [
    "len(bgg)"
   ]
  },
  {
   "cell_type": "code",
   "execution_count": 315,
   "metadata": {},
   "outputs": [
    {
     "data": {
      "text/html": [
       "<div>\n",
       "<style scoped>\n",
       "    .dataframe tbody tr th:only-of-type {\n",
       "        vertical-align: middle;\n",
       "    }\n",
       "\n",
       "    .dataframe tbody tr th {\n",
       "        vertical-align: top;\n",
       "    }\n",
       "\n",
       "    .dataframe thead th {\n",
       "        text-align: right;\n",
       "    }\n",
       "</style>\n",
       "<table border=\"1\" class=\"dataframe\">\n",
       "  <thead>\n",
       "    <tr style=\"text-align: right;\">\n",
       "      <th></th>\n",
       "      <th>rank</th>\n",
       "      <th>id</th>\n",
       "      <th>age</th>\n",
       "      <th>avg_time</th>\n",
       "      <th>min_players</th>\n",
       "      <th>max_players</th>\n",
       "      <th>weight</th>\n",
       "      <th>year</th>\n",
       "      <th>geek</th>\n",
       "      <th>avg</th>\n",
       "      <th>num_rev</th>\n",
       "    </tr>\n",
       "  </thead>\n",
       "  <tbody>\n",
       "    <tr>\n",
       "      <th>count</th>\n",
       "      <td>2986.000000</td>\n",
       "      <td>2986.000000</td>\n",
       "      <td>2986.000000</td>\n",
       "      <td>2986.000000</td>\n",
       "      <td>2986.000000</td>\n",
       "      <td>2986.000000</td>\n",
       "      <td>2986.000000</td>\n",
       "      <td>2986.000000</td>\n",
       "      <td>2986.000000</td>\n",
       "      <td>2986.000000</td>\n",
       "      <td>2986.000000</td>\n",
       "    </tr>\n",
       "    <tr>\n",
       "      <th>mean</th>\n",
       "      <td>5627.139652</td>\n",
       "      <td>199141.554588</td>\n",
       "      <td>10.568989</td>\n",
       "      <td>125.158741</td>\n",
       "      <td>1.877763</td>\n",
       "      <td>5.687207</td>\n",
       "      <td>2.185205</td>\n",
       "      <td>2016.504689</td>\n",
       "      <td>5.844739</td>\n",
       "      <td>6.967579</td>\n",
       "      <td>844.825184</td>\n",
       "    </tr>\n",
       "    <tr>\n",
       "      <th>std</th>\n",
       "      <td>3892.970305</td>\n",
       "      <td>34978.264744</td>\n",
       "      <td>3.419438</td>\n",
       "      <td>2210.236276</td>\n",
       "      <td>0.693686</td>\n",
       "      <td>20.202906</td>\n",
       "      <td>0.777614</td>\n",
       "      <td>1.194408</td>\n",
       "      <td>0.459034</td>\n",
       "      <td>0.757621</td>\n",
       "      <td>2586.059547</td>\n",
       "    </tr>\n",
       "    <tr>\n",
       "      <th>min</th>\n",
       "      <td>1.000000</td>\n",
       "      <td>16271.000000</td>\n",
       "      <td>0.000000</td>\n",
       "      <td>0.000000</td>\n",
       "      <td>0.000000</td>\n",
       "      <td>0.000000</td>\n",
       "      <td>1.000000</td>\n",
       "      <td>2015.000000</td>\n",
       "      <td>4.779000</td>\n",
       "      <td>2.440000</td>\n",
       "      <td>30.000000</td>\n",
       "    </tr>\n",
       "    <tr>\n",
       "      <th>25%</th>\n",
       "      <td>2452.500000</td>\n",
       "      <td>176533.500000</td>\n",
       "      <td>8.000000</td>\n",
       "      <td>30.000000</td>\n",
       "      <td>1.000000</td>\n",
       "      <td>4.000000</td>\n",
       "      <td>1.600000</td>\n",
       "      <td>2015.000000</td>\n",
       "      <td>5.565000</td>\n",
       "      <td>6.510000</td>\n",
       "      <td>92.000000</td>\n",
       "    </tr>\n",
       "    <tr>\n",
       "      <th>50%</th>\n",
       "      <td>5066.500000</td>\n",
       "      <td>197185.000000</td>\n",
       "      <td>12.000000</td>\n",
       "      <td>50.000000</td>\n",
       "      <td>2.000000</td>\n",
       "      <td>4.000000</td>\n",
       "      <td>2.062500</td>\n",
       "      <td>2016.000000</td>\n",
       "      <td>5.653000</td>\n",
       "      <td>6.960000</td>\n",
       "      <td>190.000000</td>\n",
       "    </tr>\n",
       "    <tr>\n",
       "      <th>75%</th>\n",
       "      <td>7925.500000</td>\n",
       "      <td>225122.250000</td>\n",
       "      <td>13.000000</td>\n",
       "      <td>90.000000</td>\n",
       "      <td>2.000000</td>\n",
       "      <td>5.000000</td>\n",
       "      <td>2.708300</td>\n",
       "      <td>2017.000000</td>\n",
       "      <td>5.940000</td>\n",
       "      <td>7.430000</td>\n",
       "      <td>539.500000</td>\n",
       "    </tr>\n",
       "    <tr>\n",
       "      <th>max</th>\n",
       "      <td>17135.000000</td>\n",
       "      <td>272409.000000</td>\n",
       "      <td>21.000000</td>\n",
       "      <td>120000.000000</td>\n",
       "      <td>8.000000</td>\n",
       "      <td>999.000000</td>\n",
       "      <td>5.000000</td>\n",
       "      <td>2019.000000</td>\n",
       "      <td>8.610000</td>\n",
       "      <td>9.600000</td>\n",
       "      <td>51149.000000</td>\n",
       "    </tr>\n",
       "  </tbody>\n",
       "</table>\n",
       "</div>"
      ],
      "text/plain": [
       "               rank             id          age       avg_time  min_players  \\\n",
       "count   2986.000000    2986.000000  2986.000000    2986.000000  2986.000000   \n",
       "mean    5627.139652  199141.554588    10.568989     125.158741     1.877763   \n",
       "std     3892.970305   34978.264744     3.419438    2210.236276     0.693686   \n",
       "min        1.000000   16271.000000     0.000000       0.000000     0.000000   \n",
       "25%     2452.500000  176533.500000     8.000000      30.000000     1.000000   \n",
       "50%     5066.500000  197185.000000    12.000000      50.000000     2.000000   \n",
       "75%     7925.500000  225122.250000    13.000000      90.000000     2.000000   \n",
       "max    17135.000000  272409.000000    21.000000  120000.000000     8.000000   \n",
       "\n",
       "       max_players       weight         year         geek          avg  \\\n",
       "count  2986.000000  2986.000000  2986.000000  2986.000000  2986.000000   \n",
       "mean      5.687207     2.185205  2016.504689     5.844739     6.967579   \n",
       "std      20.202906     0.777614     1.194408     0.459034     0.757621   \n",
       "min       0.000000     1.000000  2015.000000     4.779000     2.440000   \n",
       "25%       4.000000     1.600000  2015.000000     5.565000     6.510000   \n",
       "50%       4.000000     2.062500  2016.000000     5.653000     6.960000   \n",
       "75%       5.000000     2.708300  2017.000000     5.940000     7.430000   \n",
       "max     999.000000     5.000000  2019.000000     8.610000     9.600000   \n",
       "\n",
       "            num_rev  \n",
       "count   2986.000000  \n",
       "mean     844.825184  \n",
       "std     2586.059547  \n",
       "min       30.000000  \n",
       "25%       92.000000  \n",
       "50%      190.000000  \n",
       "75%      539.500000  \n",
       "max    51149.000000  "
      ]
     },
     "execution_count": 315,
     "metadata": {},
     "output_type": "execute_result"
    }
   ],
   "source": [
    "bgg.describe()"
   ]
  },
  {
   "cell_type": "code",
   "execution_count": 316,
   "metadata": {},
   "outputs": [
    {
     "data": {
      "text/plain": [
       "255"
      ]
     },
     "execution_count": 316,
     "metadata": {},
     "output_type": "execute_result"
    }
   ],
   "source": [
    "len(bgg[bgg['num_rev'] < 50])"
   ]
  },
  {
   "cell_type": "code",
   "execution_count": 317,
   "metadata": {},
   "outputs": [],
   "source": [
    "# Removing rows with less than 50 reviews\n",
    "to_drop = bgg[bgg['num_rev'] < 50]\n",
    "bgg.drop(to_drop.index, axis=0, inplace=True)"
   ]
  },
  {
   "cell_type": "code",
   "execution_count": 318,
   "metadata": {},
   "outputs": [
    {
     "data": {
      "text/html": [
       "<div>\n",
       "<style scoped>\n",
       "    .dataframe tbody tr th:only-of-type {\n",
       "        vertical-align: middle;\n",
       "    }\n",
       "\n",
       "    .dataframe tbody tr th {\n",
       "        vertical-align: top;\n",
       "    }\n",
       "\n",
       "    .dataframe thead th {\n",
       "        text-align: right;\n",
       "    }\n",
       "</style>\n",
       "<table border=\"1\" class=\"dataframe\">\n",
       "  <thead>\n",
       "    <tr style=\"text-align: right;\">\n",
       "      <th></th>\n",
       "      <th>rank</th>\n",
       "      <th>id</th>\n",
       "      <th>name</th>\n",
       "      <th>age</th>\n",
       "      <th>avg_time</th>\n",
       "      <th>min_players</th>\n",
       "      <th>max_players</th>\n",
       "      <th>mechanic</th>\n",
       "      <th>category</th>\n",
       "      <th>weight</th>\n",
       "      <th>year</th>\n",
       "      <th>geek</th>\n",
       "      <th>avg</th>\n",
       "      <th>num_rev</th>\n",
       "    </tr>\n",
       "  </thead>\n",
       "  <tbody>\n",
       "    <tr>\n",
       "      <th>4</th>\n",
       "      <td>6390.0</td>\n",
       "      <td>201006.0</td>\n",
       "      <td>Bumúntú</td>\n",
       "      <td>8.0</td>\n",
       "      <td>30.0</td>\n",
       "      <td>2.0</td>\n",
       "      <td>5.0</td>\n",
       "      <td>['Action / Movement Programming']</td>\n",
       "      <td>['Animals', 'Educational']</td>\n",
       "      <td>2.0000</td>\n",
       "      <td>2019.0</td>\n",
       "      <td>5.603</td>\n",
       "      <td>7.15</td>\n",
       "      <td>95.0</td>\n",
       "    </tr>\n",
       "    <tr>\n",
       "      <th>7</th>\n",
       "      <td>3426.0</td>\n",
       "      <td>256839.0</td>\n",
       "      <td>VektoRace</td>\n",
       "      <td>12.0</td>\n",
       "      <td>120.0</td>\n",
       "      <td>2.0</td>\n",
       "      <td>4.0</td>\n",
       "      <td>['Action / Movement Programming', 'Simulation']</td>\n",
       "      <td>['Racing', 'Sports']</td>\n",
       "      <td>2.3333</td>\n",
       "      <td>2018.0</td>\n",
       "      <td>5.785</td>\n",
       "      <td>8.32</td>\n",
       "      <td>196.0</td>\n",
       "    </tr>\n",
       "    <tr>\n",
       "      <th>8</th>\n",
       "      <td>6801.0</td>\n",
       "      <td>258104.0</td>\n",
       "      <td>Tribes: Dawn of Humanity</td>\n",
       "      <td>10.0</td>\n",
       "      <td>45.0</td>\n",
       "      <td>2.0</td>\n",
       "      <td>4.0</td>\n",
       "      <td>['Grid Movement', 'Tile Placement']</td>\n",
       "      <td>['Ancient', 'Civilization', 'Exploration', 'Pr...</td>\n",
       "      <td>2.4000</td>\n",
       "      <td>2018.0</td>\n",
       "      <td>5.590</td>\n",
       "      <td>6.80</td>\n",
       "      <td>99.0</td>\n",
       "    </tr>\n",
       "    <tr>\n",
       "      <th>11</th>\n",
       "      <td>5451.0</td>\n",
       "      <td>241796.0</td>\n",
       "      <td>Nut So Fast</td>\n",
       "      <td>8.0</td>\n",
       "      <td>20.0</td>\n",
       "      <td>3.0</td>\n",
       "      <td>6.0</td>\n",
       "      <td>['Pattern Recognition']</td>\n",
       "      <td>['Action / Dexterity', 'Party Game']</td>\n",
       "      <td>1.0000</td>\n",
       "      <td>2018.0</td>\n",
       "      <td>5.636</td>\n",
       "      <td>7.03</td>\n",
       "      <td>157.0</td>\n",
       "    </tr>\n",
       "    <tr>\n",
       "      <th>14</th>\n",
       "      <td>9524.0</td>\n",
       "      <td>233206.0</td>\n",
       "      <td>Werebeasts</td>\n",
       "      <td>8.0</td>\n",
       "      <td>15.0</td>\n",
       "      <td>3.0</td>\n",
       "      <td>10.0</td>\n",
       "      <td>['Set Collection']</td>\n",
       "      <td>['Deduction', 'Party Game']</td>\n",
       "      <td>1.5000</td>\n",
       "      <td>2018.0</td>\n",
       "      <td>5.543</td>\n",
       "      <td>6.30</td>\n",
       "      <td>94.0</td>\n",
       "    </tr>\n",
       "  </tbody>\n",
       "</table>\n",
       "</div>"
      ],
      "text/plain": [
       "      rank        id                      name   age  avg_time  min_players  \\\n",
       "4   6390.0  201006.0                   Bumúntú   8.0      30.0          2.0   \n",
       "7   3426.0  256839.0                 VektoRace  12.0     120.0          2.0   \n",
       "8   6801.0  258104.0  Tribes: Dawn of Humanity  10.0      45.0          2.0   \n",
       "11  5451.0  241796.0               Nut So Fast   8.0      20.0          3.0   \n",
       "14  9524.0  233206.0                Werebeasts   8.0      15.0          3.0   \n",
       "\n",
       "    max_players                                         mechanic  \\\n",
       "4           5.0                ['Action / Movement Programming']   \n",
       "7           4.0  ['Action / Movement Programming', 'Simulation']   \n",
       "8           4.0              ['Grid Movement', 'Tile Placement']   \n",
       "11          6.0                          ['Pattern Recognition']   \n",
       "14         10.0                               ['Set Collection']   \n",
       "\n",
       "                                             category  weight    year   geek  \\\n",
       "4                          ['Animals', 'Educational']  2.0000  2019.0  5.603   \n",
       "7                                ['Racing', 'Sports']  2.3333  2018.0  5.785   \n",
       "8   ['Ancient', 'Civilization', 'Exploration', 'Pr...  2.4000  2018.0  5.590   \n",
       "11               ['Action / Dexterity', 'Party Game']  1.0000  2018.0  5.636   \n",
       "14                        ['Deduction', 'Party Game']  1.5000  2018.0  5.543   \n",
       "\n",
       "     avg  num_rev  \n",
       "4   7.15     95.0  \n",
       "7   8.32    196.0  \n",
       "8   6.80     99.0  \n",
       "11  7.03    157.0  \n",
       "14  6.30     94.0  "
      ]
     },
     "execution_count": 318,
     "metadata": {},
     "output_type": "execute_result"
    }
   ],
   "source": [
    "bgg.head()"
   ]
  },
  {
   "cell_type": "code",
   "execution_count": 319,
   "metadata": {},
   "outputs": [],
   "source": [
    "bgg['mechanic'] = bgg['mechanic'].apply(lambda x: re.sub(\"\\[|\\]|'\",\"\", x).replace(\" \",\"\"))\n",
    "bgg['category'] = bgg['category'].apply(lambda x: re.sub(\"\\[|\\]|'\",\"\", x).replace(\" \",\"\"))"
   ]
  },
  {
   "cell_type": "code",
   "execution_count": 320,
   "metadata": {},
   "outputs": [
    {
     "data": {
      "text/html": [
       "<div>\n",
       "<style scoped>\n",
       "    .dataframe tbody tr th:only-of-type {\n",
       "        vertical-align: middle;\n",
       "    }\n",
       "\n",
       "    .dataframe tbody tr th {\n",
       "        vertical-align: top;\n",
       "    }\n",
       "\n",
       "    .dataframe thead th {\n",
       "        text-align: right;\n",
       "    }\n",
       "</style>\n",
       "<table border=\"1\" class=\"dataframe\">\n",
       "  <thead>\n",
       "    <tr style=\"text-align: right;\">\n",
       "      <th></th>\n",
       "      <th>index</th>\n",
       "      <th>rank</th>\n",
       "      <th>id</th>\n",
       "      <th>name</th>\n",
       "      <th>age</th>\n",
       "      <th>avg_time</th>\n",
       "      <th>min_players</th>\n",
       "      <th>max_players</th>\n",
       "      <th>mechanic</th>\n",
       "      <th>category</th>\n",
       "      <th>weight</th>\n",
       "      <th>year</th>\n",
       "      <th>geek</th>\n",
       "      <th>avg</th>\n",
       "      <th>num_rev</th>\n",
       "    </tr>\n",
       "  </thead>\n",
       "  <tbody>\n",
       "    <tr>\n",
       "      <th>0</th>\n",
       "      <td>4</td>\n",
       "      <td>6390.0</td>\n",
       "      <td>201006.0</td>\n",
       "      <td>Bumúntú</td>\n",
       "      <td>8.0</td>\n",
       "      <td>30.0</td>\n",
       "      <td>2.0</td>\n",
       "      <td>5.0</td>\n",
       "      <td>Action/MovementProgramming</td>\n",
       "      <td>Animals,Educational</td>\n",
       "      <td>2.0000</td>\n",
       "      <td>2019.0</td>\n",
       "      <td>5.603</td>\n",
       "      <td>7.15</td>\n",
       "      <td>95.0</td>\n",
       "    </tr>\n",
       "    <tr>\n",
       "      <th>1</th>\n",
       "      <td>7</td>\n",
       "      <td>3426.0</td>\n",
       "      <td>256839.0</td>\n",
       "      <td>VektoRace</td>\n",
       "      <td>12.0</td>\n",
       "      <td>120.0</td>\n",
       "      <td>2.0</td>\n",
       "      <td>4.0</td>\n",
       "      <td>Action/MovementProgramming,Simulation</td>\n",
       "      <td>Racing,Sports</td>\n",
       "      <td>2.3333</td>\n",
       "      <td>2018.0</td>\n",
       "      <td>5.785</td>\n",
       "      <td>8.32</td>\n",
       "      <td>196.0</td>\n",
       "    </tr>\n",
       "    <tr>\n",
       "      <th>2</th>\n",
       "      <td>8</td>\n",
       "      <td>6801.0</td>\n",
       "      <td>258104.0</td>\n",
       "      <td>Tribes: Dawn of Humanity</td>\n",
       "      <td>10.0</td>\n",
       "      <td>45.0</td>\n",
       "      <td>2.0</td>\n",
       "      <td>4.0</td>\n",
       "      <td>GridMovement,TilePlacement</td>\n",
       "      <td>Ancient,Civilization,Exploration,Prehistoric,T...</td>\n",
       "      <td>2.4000</td>\n",
       "      <td>2018.0</td>\n",
       "      <td>5.590</td>\n",
       "      <td>6.80</td>\n",
       "      <td>99.0</td>\n",
       "    </tr>\n",
       "    <tr>\n",
       "      <th>3</th>\n",
       "      <td>11</td>\n",
       "      <td>5451.0</td>\n",
       "      <td>241796.0</td>\n",
       "      <td>Nut So Fast</td>\n",
       "      <td>8.0</td>\n",
       "      <td>20.0</td>\n",
       "      <td>3.0</td>\n",
       "      <td>6.0</td>\n",
       "      <td>PatternRecognition</td>\n",
       "      <td>Action/Dexterity,PartyGame</td>\n",
       "      <td>1.0000</td>\n",
       "      <td>2018.0</td>\n",
       "      <td>5.636</td>\n",
       "      <td>7.03</td>\n",
       "      <td>157.0</td>\n",
       "    </tr>\n",
       "    <tr>\n",
       "      <th>4</th>\n",
       "      <td>14</td>\n",
       "      <td>9524.0</td>\n",
       "      <td>233206.0</td>\n",
       "      <td>Werebeasts</td>\n",
       "      <td>8.0</td>\n",
       "      <td>15.0</td>\n",
       "      <td>3.0</td>\n",
       "      <td>10.0</td>\n",
       "      <td>SetCollection</td>\n",
       "      <td>Deduction,PartyGame</td>\n",
       "      <td>1.5000</td>\n",
       "      <td>2018.0</td>\n",
       "      <td>5.543</td>\n",
       "      <td>6.30</td>\n",
       "      <td>94.0</td>\n",
       "    </tr>\n",
       "  </tbody>\n",
       "</table>\n",
       "</div>"
      ],
      "text/plain": [
       "   index    rank        id                      name   age  avg_time  \\\n",
       "0      4  6390.0  201006.0                   Bumúntú   8.0      30.0   \n",
       "1      7  3426.0  256839.0                 VektoRace  12.0     120.0   \n",
       "2      8  6801.0  258104.0  Tribes: Dawn of Humanity  10.0      45.0   \n",
       "3     11  5451.0  241796.0               Nut So Fast   8.0      20.0   \n",
       "4     14  9524.0  233206.0                Werebeasts   8.0      15.0   \n",
       "\n",
       "   min_players  max_players                               mechanic  \\\n",
       "0          2.0          5.0             Action/MovementProgramming   \n",
       "1          2.0          4.0  Action/MovementProgramming,Simulation   \n",
       "2          2.0          4.0             GridMovement,TilePlacement   \n",
       "3          3.0          6.0                     PatternRecognition   \n",
       "4          3.0         10.0                          SetCollection   \n",
       "\n",
       "                                            category  weight    year   geek  \\\n",
       "0                                Animals,Educational  2.0000  2019.0  5.603   \n",
       "1                                      Racing,Sports  2.3333  2018.0  5.785   \n",
       "2  Ancient,Civilization,Exploration,Prehistoric,T...  2.4000  2018.0  5.590   \n",
       "3                         Action/Dexterity,PartyGame  1.0000  2018.0  5.636   \n",
       "4                                Deduction,PartyGame  1.5000  2018.0  5.543   \n",
       "\n",
       "    avg  num_rev  \n",
       "0  7.15     95.0  \n",
       "1  8.32    196.0  \n",
       "2  6.80     99.0  \n",
       "3  7.03    157.0  \n",
       "4  6.30     94.0  "
      ]
     },
     "execution_count": 320,
     "metadata": {},
     "output_type": "execute_result"
    }
   ],
   "source": [
    "bgg = bgg.reset_index()\n",
    "bgg.head()"
   ]
  },
  {
   "cell_type": "code",
   "execution_count": 321,
   "metadata": {},
   "outputs": [],
   "source": [
    "mechanics_df = pd.DataFrame(bgg['mechanic'].str.split(',').tolist(), index=bgg.index).stack()\n",
    "mechanics_df = mechanics_df.reset_index()\n",
    "mechanics_df = mechanics_df.drop('level_1', axis=1)\n",
    "mechanics_df.columns = ['id', 'mechanics']"
   ]
  },
  {
   "cell_type": "code",
   "execution_count": 322,
   "metadata": {},
   "outputs": [
    {
     "data": {
      "text/html": [
       "<div>\n",
       "<style scoped>\n",
       "    .dataframe tbody tr th:only-of-type {\n",
       "        vertical-align: middle;\n",
       "    }\n",
       "\n",
       "    .dataframe tbody tr th {\n",
       "        vertical-align: top;\n",
       "    }\n",
       "\n",
       "    .dataframe thead th {\n",
       "        text-align: right;\n",
       "    }\n",
       "</style>\n",
       "<table border=\"1\" class=\"dataframe\">\n",
       "  <thead>\n",
       "    <tr style=\"text-align: right;\">\n",
       "      <th></th>\n",
       "      <th>id</th>\n",
       "      <th>mechanics</th>\n",
       "    </tr>\n",
       "  </thead>\n",
       "  <tbody>\n",
       "    <tr>\n",
       "      <th>0</th>\n",
       "      <td>0</td>\n",
       "      <td>Action/MovementProgramming</td>\n",
       "    </tr>\n",
       "    <tr>\n",
       "      <th>1</th>\n",
       "      <td>1</td>\n",
       "      <td>Action/MovementProgramming</td>\n",
       "    </tr>\n",
       "    <tr>\n",
       "      <th>2</th>\n",
       "      <td>1</td>\n",
       "      <td>Simulation</td>\n",
       "    </tr>\n",
       "    <tr>\n",
       "      <th>3</th>\n",
       "      <td>2</td>\n",
       "      <td>GridMovement</td>\n",
       "    </tr>\n",
       "    <tr>\n",
       "      <th>4</th>\n",
       "      <td>2</td>\n",
       "      <td>TilePlacement</td>\n",
       "    </tr>\n",
       "  </tbody>\n",
       "</table>\n",
       "</div>"
      ],
      "text/plain": [
       "   id                   mechanics\n",
       "0   0  Action/MovementProgramming\n",
       "1   1  Action/MovementProgramming\n",
       "2   1                  Simulation\n",
       "3   2                GridMovement\n",
       "4   2               TilePlacement"
      ]
     },
     "execution_count": 322,
     "metadata": {},
     "output_type": "execute_result"
    }
   ],
   "source": [
    "mechanics_df.head()"
   ]
  },
  {
   "cell_type": "code",
   "execution_count": 325,
   "metadata": {},
   "outputs": [],
   "source": [
    "encoder = OneHotEncoder(categories=\"auto\").fit(mechanics_df[[\"mechanics\"]])"
   ]
  },
  {
   "cell_type": "code",
   "execution_count": 378,
   "metadata": {},
   "outputs": [
    {
     "data": {
      "text/html": [
       "<div>\n",
       "<style scoped>\n",
       "    .dataframe tbody tr th:only-of-type {\n",
       "        vertical-align: middle;\n",
       "    }\n",
       "\n",
       "    .dataframe tbody tr th {\n",
       "        vertical-align: top;\n",
       "    }\n",
       "\n",
       "    .dataframe thead th {\n",
       "        text-align: right;\n",
       "    }\n",
       "</style>\n",
       "<table border=\"1\" class=\"dataframe\">\n",
       "  <thead>\n",
       "    <tr style=\"text-align: right;\">\n",
       "      <th></th>\n",
       "      <th>id</th>\n",
       "      <th>mech_</th>\n",
       "      <th>mech_Acting</th>\n",
       "      <th>mech_Action/MovementProgramming</th>\n",
       "      <th>mech_ActionPointAllowanceSystem</th>\n",
       "      <th>mech_Area-Impulse</th>\n",
       "      <th>mech_AreaControl/AreaInfluence</th>\n",
       "      <th>mech_AreaEnclosure</th>\n",
       "      <th>mech_AreaMovement</th>\n",
       "      <th>mech_Auction/Bidding</th>\n",
       "      <th>...</th>\n",
       "      <th>mech_Storytelling</th>\n",
       "      <th>mech_TakeThat</th>\n",
       "      <th>mech_TilePlacement</th>\n",
       "      <th>mech_TimeTrack</th>\n",
       "      <th>mech_Trading</th>\n",
       "      <th>mech_Trick-taking</th>\n",
       "      <th>mech_VariablePhaseOrder</th>\n",
       "      <th>mech_VariablePlayerPowers</th>\n",
       "      <th>mech_Voting</th>\n",
       "      <th>mech_WorkerPlacement</th>\n",
       "    </tr>\n",
       "  </thead>\n",
       "  <tbody>\n",
       "    <tr>\n",
       "      <th>0</th>\n",
       "      <td>0</td>\n",
       "      <td>0.0</td>\n",
       "      <td>0.0</td>\n",
       "      <td>1.0</td>\n",
       "      <td>0.0</td>\n",
       "      <td>0.0</td>\n",
       "      <td>0.0</td>\n",
       "      <td>0.0</td>\n",
       "      <td>0.0</td>\n",
       "      <td>0.0</td>\n",
       "      <td>...</td>\n",
       "      <td>0.0</td>\n",
       "      <td>0.0</td>\n",
       "      <td>0.0</td>\n",
       "      <td>0.0</td>\n",
       "      <td>0.0</td>\n",
       "      <td>0.0</td>\n",
       "      <td>0.0</td>\n",
       "      <td>0.0</td>\n",
       "      <td>0.0</td>\n",
       "      <td>0.0</td>\n",
       "    </tr>\n",
       "    <tr>\n",
       "      <th>1</th>\n",
       "      <td>1</td>\n",
       "      <td>0.0</td>\n",
       "      <td>0.0</td>\n",
       "      <td>1.0</td>\n",
       "      <td>0.0</td>\n",
       "      <td>0.0</td>\n",
       "      <td>0.0</td>\n",
       "      <td>0.0</td>\n",
       "      <td>0.0</td>\n",
       "      <td>0.0</td>\n",
       "      <td>...</td>\n",
       "      <td>0.0</td>\n",
       "      <td>0.0</td>\n",
       "      <td>0.0</td>\n",
       "      <td>0.0</td>\n",
       "      <td>0.0</td>\n",
       "      <td>0.0</td>\n",
       "      <td>0.0</td>\n",
       "      <td>0.0</td>\n",
       "      <td>0.0</td>\n",
       "      <td>0.0</td>\n",
       "    </tr>\n",
       "    <tr>\n",
       "      <th>2</th>\n",
       "      <td>2</td>\n",
       "      <td>0.0</td>\n",
       "      <td>0.0</td>\n",
       "      <td>0.0</td>\n",
       "      <td>0.0</td>\n",
       "      <td>0.0</td>\n",
       "      <td>0.0</td>\n",
       "      <td>0.0</td>\n",
       "      <td>0.0</td>\n",
       "      <td>0.0</td>\n",
       "      <td>...</td>\n",
       "      <td>0.0</td>\n",
       "      <td>0.0</td>\n",
       "      <td>1.0</td>\n",
       "      <td>0.0</td>\n",
       "      <td>0.0</td>\n",
       "      <td>0.0</td>\n",
       "      <td>0.0</td>\n",
       "      <td>0.0</td>\n",
       "      <td>0.0</td>\n",
       "      <td>0.0</td>\n",
       "    </tr>\n",
       "    <tr>\n",
       "      <th>3</th>\n",
       "      <td>3</td>\n",
       "      <td>0.0</td>\n",
       "      <td>0.0</td>\n",
       "      <td>0.0</td>\n",
       "      <td>0.0</td>\n",
       "      <td>0.0</td>\n",
       "      <td>0.0</td>\n",
       "      <td>0.0</td>\n",
       "      <td>0.0</td>\n",
       "      <td>0.0</td>\n",
       "      <td>...</td>\n",
       "      <td>0.0</td>\n",
       "      <td>0.0</td>\n",
       "      <td>0.0</td>\n",
       "      <td>0.0</td>\n",
       "      <td>0.0</td>\n",
       "      <td>0.0</td>\n",
       "      <td>0.0</td>\n",
       "      <td>0.0</td>\n",
       "      <td>0.0</td>\n",
       "      <td>0.0</td>\n",
       "    </tr>\n",
       "    <tr>\n",
       "      <th>4</th>\n",
       "      <td>4</td>\n",
       "      <td>0.0</td>\n",
       "      <td>0.0</td>\n",
       "      <td>0.0</td>\n",
       "      <td>0.0</td>\n",
       "      <td>0.0</td>\n",
       "      <td>0.0</td>\n",
       "      <td>0.0</td>\n",
       "      <td>0.0</td>\n",
       "      <td>0.0</td>\n",
       "      <td>...</td>\n",
       "      <td>0.0</td>\n",
       "      <td>0.0</td>\n",
       "      <td>0.0</td>\n",
       "      <td>0.0</td>\n",
       "      <td>0.0</td>\n",
       "      <td>0.0</td>\n",
       "      <td>0.0</td>\n",
       "      <td>0.0</td>\n",
       "      <td>0.0</td>\n",
       "      <td>0.0</td>\n",
       "    </tr>\n",
       "  </tbody>\n",
       "</table>\n",
       "<p>5 rows × 55 columns</p>\n",
       "</div>"
      ],
      "text/plain": [
       "   id  mech_  mech_Acting  mech_Action/MovementProgramming  \\\n",
       "0   0    0.0          0.0                              1.0   \n",
       "1   1    0.0          0.0                              1.0   \n",
       "2   2    0.0          0.0                              0.0   \n",
       "3   3    0.0          0.0                              0.0   \n",
       "4   4    0.0          0.0                              0.0   \n",
       "\n",
       "   mech_ActionPointAllowanceSystem  mech_Area-Impulse  \\\n",
       "0                              0.0                0.0   \n",
       "1                              0.0                0.0   \n",
       "2                              0.0                0.0   \n",
       "3                              0.0                0.0   \n",
       "4                              0.0                0.0   \n",
       "\n",
       "   mech_AreaControl/AreaInfluence  mech_AreaEnclosure  mech_AreaMovement  \\\n",
       "0                             0.0                 0.0                0.0   \n",
       "1                             0.0                 0.0                0.0   \n",
       "2                             0.0                 0.0                0.0   \n",
       "3                             0.0                 0.0                0.0   \n",
       "4                             0.0                 0.0                0.0   \n",
       "\n",
       "   mech_Auction/Bidding          ...           mech_Storytelling  \\\n",
       "0                   0.0          ...                         0.0   \n",
       "1                   0.0          ...                         0.0   \n",
       "2                   0.0          ...                         0.0   \n",
       "3                   0.0          ...                         0.0   \n",
       "4                   0.0          ...                         0.0   \n",
       "\n",
       "   mech_TakeThat  mech_TilePlacement  mech_TimeTrack  mech_Trading  \\\n",
       "0            0.0                 0.0             0.0           0.0   \n",
       "1            0.0                 0.0             0.0           0.0   \n",
       "2            0.0                 1.0             0.0           0.0   \n",
       "3            0.0                 0.0             0.0           0.0   \n",
       "4            0.0                 0.0             0.0           0.0   \n",
       "\n",
       "   mech_Trick-taking  mech_VariablePhaseOrder  mech_VariablePlayerPowers  \\\n",
       "0                0.0                      0.0                        0.0   \n",
       "1                0.0                      0.0                        0.0   \n",
       "2                0.0                      0.0                        0.0   \n",
       "3                0.0                      0.0                        0.0   \n",
       "4                0.0                      0.0                        0.0   \n",
       "\n",
       "   mech_Voting  mech_WorkerPlacement  \n",
       "0          0.0                   0.0  \n",
       "1          0.0                   0.0  \n",
       "2          0.0                   0.0  \n",
       "3          0.0                   0.0  \n",
       "4          0.0                   0.0  \n",
       "\n",
       "[5 rows x 55 columns]"
      ]
     },
     "execution_count": 378,
     "metadata": {},
     "output_type": "execute_result"
    }
   ],
   "source": [
    "mech_ohe = pd.DataFrame(encoder.transform(mechanics_df[[\"mechanics\"]]).toarray(),\n",
    "                   columns=encoder.get_feature_names([\"mech\"]))\n",
    "\n",
    "mech_ohe_df = pd.concat([mechanics_df.drop(\"mechanics\", axis=1), mech_ohe], axis=1)\n",
    "\n",
    "mech_dedup = mech_ohe_df.groupby(\"id\")[mech_ohe.columns].agg(\"sum\").reset_index()\n",
    "\n",
    "mech_dedup.head()"
   ]
  },
  {
   "cell_type": "code",
   "execution_count": 323,
   "metadata": {},
   "outputs": [],
   "source": [
    "cat_df = pd.DataFrame(bgg['category'].str.split(',').tolist(), index=bgg.index).stack()\n",
    "cat_df = cat_df.reset_index()\n",
    "cat_df = cat_df.drop('level_1', axis=1)\n",
    "cat_df.columns = ['id', 'category']"
   ]
  },
  {
   "cell_type": "code",
   "execution_count": 374,
   "metadata": {},
   "outputs": [
    {
     "data": {
      "text/html": [
       "<div>\n",
       "<style scoped>\n",
       "    .dataframe tbody tr th:only-of-type {\n",
       "        vertical-align: middle;\n",
       "    }\n",
       "\n",
       "    .dataframe tbody tr th {\n",
       "        vertical-align: top;\n",
       "    }\n",
       "\n",
       "    .dataframe thead th {\n",
       "        text-align: right;\n",
       "    }\n",
       "</style>\n",
       "<table border=\"1\" class=\"dataframe\">\n",
       "  <thead>\n",
       "    <tr style=\"text-align: right;\">\n",
       "      <th></th>\n",
       "      <th>id</th>\n",
       "      <th>category</th>\n",
       "    </tr>\n",
       "  </thead>\n",
       "  <tbody>\n",
       "    <tr>\n",
       "      <th>0</th>\n",
       "      <td>0</td>\n",
       "      <td>Animals</td>\n",
       "    </tr>\n",
       "    <tr>\n",
       "      <th>1</th>\n",
       "      <td>0</td>\n",
       "      <td>Educational</td>\n",
       "    </tr>\n",
       "    <tr>\n",
       "      <th>2</th>\n",
       "      <td>1</td>\n",
       "      <td>Racing</td>\n",
       "    </tr>\n",
       "    <tr>\n",
       "      <th>3</th>\n",
       "      <td>1</td>\n",
       "      <td>Sports</td>\n",
       "    </tr>\n",
       "    <tr>\n",
       "      <th>4</th>\n",
       "      <td>2</td>\n",
       "      <td>Ancient</td>\n",
       "    </tr>\n",
       "  </tbody>\n",
       "</table>\n",
       "</div>"
      ],
      "text/plain": [
       "   id     category\n",
       "0   0      Animals\n",
       "1   0  Educational\n",
       "2   1       Racing\n",
       "3   1       Sports\n",
       "4   2      Ancient"
      ]
     },
     "execution_count": 374,
     "metadata": {},
     "output_type": "execute_result"
    }
   ],
   "source": [
    "cat_df.head()"
   ]
  },
  {
   "cell_type": "code",
   "execution_count": 328,
   "metadata": {},
   "outputs": [],
   "source": [
    "encoder_2 = OneHotEncoder(categories=\"auto\").fit(cat_df[[\"category\"]])"
   ]
  },
  {
   "cell_type": "code",
   "execution_count": 379,
   "metadata": {},
   "outputs": [
    {
     "data": {
      "text/html": [
       "<div>\n",
       "<style scoped>\n",
       "    .dataframe tbody tr th:only-of-type {\n",
       "        vertical-align: middle;\n",
       "    }\n",
       "\n",
       "    .dataframe tbody tr th {\n",
       "        vertical-align: top;\n",
       "    }\n",
       "\n",
       "    .dataframe thead th {\n",
       "        text-align: right;\n",
       "    }\n",
       "</style>\n",
       "<table border=\"1\" class=\"dataframe\">\n",
       "  <thead>\n",
       "    <tr style=\"text-align: right;\">\n",
       "      <th></th>\n",
       "      <th>id</th>\n",
       "      <th>cat_</th>\n",
       "      <th>cat_\"ChildrensGame\"</th>\n",
       "      <th>cat_AbstractStrategy</th>\n",
       "      <th>cat_Action/Dexterity</th>\n",
       "      <th>cat_Adventure</th>\n",
       "      <th>cat_AgeofReason</th>\n",
       "      <th>cat_AmericanCivilWar</th>\n",
       "      <th>cat_AmericanIndianWars</th>\n",
       "      <th>cat_AmericanRevolutionaryWar</th>\n",
       "      <th>...</th>\n",
       "      <th>cat_Transportation</th>\n",
       "      <th>cat_Travel</th>\n",
       "      <th>cat_Trivia</th>\n",
       "      <th>cat_VideoGameTheme</th>\n",
       "      <th>cat_VietnamWar</th>\n",
       "      <th>cat_Wargame</th>\n",
       "      <th>cat_WordGame</th>\n",
       "      <th>cat_WorldWarI</th>\n",
       "      <th>cat_WorldWarII</th>\n",
       "      <th>cat_Zombies</th>\n",
       "    </tr>\n",
       "  </thead>\n",
       "  <tbody>\n",
       "    <tr>\n",
       "      <th>0</th>\n",
       "      <td>0</td>\n",
       "      <td>0.0</td>\n",
       "      <td>0.0</td>\n",
       "      <td>0.0</td>\n",
       "      <td>0.0</td>\n",
       "      <td>0.0</td>\n",
       "      <td>0.0</td>\n",
       "      <td>0.0</td>\n",
       "      <td>0.0</td>\n",
       "      <td>0.0</td>\n",
       "      <td>...</td>\n",
       "      <td>0.0</td>\n",
       "      <td>0.0</td>\n",
       "      <td>0.0</td>\n",
       "      <td>0.0</td>\n",
       "      <td>0.0</td>\n",
       "      <td>0.0</td>\n",
       "      <td>0.0</td>\n",
       "      <td>0.0</td>\n",
       "      <td>0.0</td>\n",
       "      <td>0.0</td>\n",
       "    </tr>\n",
       "    <tr>\n",
       "      <th>1</th>\n",
       "      <td>1</td>\n",
       "      <td>0.0</td>\n",
       "      <td>0.0</td>\n",
       "      <td>0.0</td>\n",
       "      <td>0.0</td>\n",
       "      <td>0.0</td>\n",
       "      <td>0.0</td>\n",
       "      <td>0.0</td>\n",
       "      <td>0.0</td>\n",
       "      <td>0.0</td>\n",
       "      <td>...</td>\n",
       "      <td>0.0</td>\n",
       "      <td>0.0</td>\n",
       "      <td>0.0</td>\n",
       "      <td>0.0</td>\n",
       "      <td>0.0</td>\n",
       "      <td>0.0</td>\n",
       "      <td>0.0</td>\n",
       "      <td>0.0</td>\n",
       "      <td>0.0</td>\n",
       "      <td>0.0</td>\n",
       "    </tr>\n",
       "    <tr>\n",
       "      <th>2</th>\n",
       "      <td>2</td>\n",
       "      <td>0.0</td>\n",
       "      <td>0.0</td>\n",
       "      <td>0.0</td>\n",
       "      <td>0.0</td>\n",
       "      <td>0.0</td>\n",
       "      <td>0.0</td>\n",
       "      <td>0.0</td>\n",
       "      <td>0.0</td>\n",
       "      <td>0.0</td>\n",
       "      <td>...</td>\n",
       "      <td>0.0</td>\n",
       "      <td>0.0</td>\n",
       "      <td>0.0</td>\n",
       "      <td>0.0</td>\n",
       "      <td>0.0</td>\n",
       "      <td>0.0</td>\n",
       "      <td>0.0</td>\n",
       "      <td>0.0</td>\n",
       "      <td>0.0</td>\n",
       "      <td>0.0</td>\n",
       "    </tr>\n",
       "    <tr>\n",
       "      <th>3</th>\n",
       "      <td>3</td>\n",
       "      <td>0.0</td>\n",
       "      <td>0.0</td>\n",
       "      <td>0.0</td>\n",
       "      <td>1.0</td>\n",
       "      <td>0.0</td>\n",
       "      <td>0.0</td>\n",
       "      <td>0.0</td>\n",
       "      <td>0.0</td>\n",
       "      <td>0.0</td>\n",
       "      <td>...</td>\n",
       "      <td>0.0</td>\n",
       "      <td>0.0</td>\n",
       "      <td>0.0</td>\n",
       "      <td>0.0</td>\n",
       "      <td>0.0</td>\n",
       "      <td>0.0</td>\n",
       "      <td>0.0</td>\n",
       "      <td>0.0</td>\n",
       "      <td>0.0</td>\n",
       "      <td>0.0</td>\n",
       "    </tr>\n",
       "    <tr>\n",
       "      <th>4</th>\n",
       "      <td>4</td>\n",
       "      <td>0.0</td>\n",
       "      <td>0.0</td>\n",
       "      <td>0.0</td>\n",
       "      <td>0.0</td>\n",
       "      <td>0.0</td>\n",
       "      <td>0.0</td>\n",
       "      <td>0.0</td>\n",
       "      <td>0.0</td>\n",
       "      <td>0.0</td>\n",
       "      <td>...</td>\n",
       "      <td>0.0</td>\n",
       "      <td>0.0</td>\n",
       "      <td>0.0</td>\n",
       "      <td>0.0</td>\n",
       "      <td>0.0</td>\n",
       "      <td>0.0</td>\n",
       "      <td>0.0</td>\n",
       "      <td>0.0</td>\n",
       "      <td>0.0</td>\n",
       "      <td>0.0</td>\n",
       "    </tr>\n",
       "  </tbody>\n",
       "</table>\n",
       "<p>5 rows × 85 columns</p>\n",
       "</div>"
      ],
      "text/plain": [
       "   id  cat_  cat_\"ChildrensGame\"  cat_AbstractStrategy  cat_Action/Dexterity  \\\n",
       "0   0   0.0                  0.0                   0.0                   0.0   \n",
       "1   1   0.0                  0.0                   0.0                   0.0   \n",
       "2   2   0.0                  0.0                   0.0                   0.0   \n",
       "3   3   0.0                  0.0                   0.0                   1.0   \n",
       "4   4   0.0                  0.0                   0.0                   0.0   \n",
       "\n",
       "   cat_Adventure  cat_AgeofReason  cat_AmericanCivilWar  \\\n",
       "0            0.0              0.0                   0.0   \n",
       "1            0.0              0.0                   0.0   \n",
       "2            0.0              0.0                   0.0   \n",
       "3            0.0              0.0                   0.0   \n",
       "4            0.0              0.0                   0.0   \n",
       "\n",
       "   cat_AmericanIndianWars  cat_AmericanRevolutionaryWar     ...       \\\n",
       "0                     0.0                           0.0     ...        \n",
       "1                     0.0                           0.0     ...        \n",
       "2                     0.0                           0.0     ...        \n",
       "3                     0.0                           0.0     ...        \n",
       "4                     0.0                           0.0     ...        \n",
       "\n",
       "   cat_Transportation  cat_Travel  cat_Trivia  cat_VideoGameTheme  \\\n",
       "0                 0.0         0.0         0.0                 0.0   \n",
       "1                 0.0         0.0         0.0                 0.0   \n",
       "2                 0.0         0.0         0.0                 0.0   \n",
       "3                 0.0         0.0         0.0                 0.0   \n",
       "4                 0.0         0.0         0.0                 0.0   \n",
       "\n",
       "   cat_VietnamWar  cat_Wargame  cat_WordGame  cat_WorldWarI  cat_WorldWarII  \\\n",
       "0             0.0          0.0           0.0            0.0             0.0   \n",
       "1             0.0          0.0           0.0            0.0             0.0   \n",
       "2             0.0          0.0           0.0            0.0             0.0   \n",
       "3             0.0          0.0           0.0            0.0             0.0   \n",
       "4             0.0          0.0           0.0            0.0             0.0   \n",
       "\n",
       "   cat_Zombies  \n",
       "0          0.0  \n",
       "1          0.0  \n",
       "2          0.0  \n",
       "3          0.0  \n",
       "4          0.0  \n",
       "\n",
       "[5 rows x 85 columns]"
      ]
     },
     "execution_count": 379,
     "metadata": {},
     "output_type": "execute_result"
    }
   ],
   "source": [
    "cat_ohe = pd.DataFrame(encoder_2.transform(cat_df[[\"category\"]]).toarray(),\n",
    "                   columns=encoder_2.get_feature_names([\"cat\"]))\n",
    "\n",
    "cat_ohe_df = pd.concat([cat_df.drop(\"category\", axis=1), cat_ohe], axis=1)\n",
    "\n",
    "cat_dedup = cat_ohe_df.groupby(\"id\")[cat_ohe.columns].agg(\"sum\").reset_index()\n",
    "\n",
    "cat_dedup.head()"
   ]
  },
  {
   "cell_type": "code",
   "execution_count": 380,
   "metadata": {},
   "outputs": [
    {
     "data": {
      "text/plain": [
       "(2731, 153)"
      ]
     },
     "execution_count": 380,
     "metadata": {},
     "output_type": "execute_result"
    }
   ],
   "source": [
    "bgg_complete = pd.concat([bgg, mech_dedup, cat_dedup], axis=1)\n",
    "bgg_complete = bgg_complete.drop(['mechanic','category'], axis=1)\n",
    "bgg_complete.shape"
   ]
  },
  {
   "cell_type": "code",
   "execution_count": 381,
   "metadata": {},
   "outputs": [
    {
     "data": {
      "text/plain": [
       "count    2731.000000\n",
       "mean        5.873798\n",
       "std         0.469515\n",
       "min         4.779000\n",
       "25%         5.582000\n",
       "50%         5.676000\n",
       "75%         5.989000\n",
       "max         8.610000\n",
       "Name: geek, dtype: float64"
      ]
     },
     "execution_count": 381,
     "metadata": {},
     "output_type": "execute_result"
    }
   ],
   "source": [
    "bgg_complete['geek'].describe()"
   ]
  },
  {
   "cell_type": "code",
   "execution_count": 382,
   "metadata": {},
   "outputs": [],
   "source": [
    "bgg_complete['top_score'] = bgg['geek'].apply(lambda x: 1 if x > 5.989000 else 0)"
   ]
  },
  {
   "cell_type": "code",
   "execution_count": 383,
   "metadata": {},
   "outputs": [
    {
     "data": {
      "text/plain": [
       "Index(['index', 'rank', 'id', 'name', 'age', 'avg_time', 'min_players',\n",
       "       'max_players', 'weight', 'year', 'geek', 'avg', 'num_rev', 'id',\n",
       "       'mech_', 'mech_Acting', 'mech_Action/MovementProgramming',\n",
       "       'mech_ActionPointAllowanceSystem', 'mech_Area-Impulse',\n",
       "       'mech_AreaControl/AreaInfluence'],\n",
       "      dtype='object')"
      ]
     },
     "execution_count": 383,
     "metadata": {},
     "output_type": "execute_result"
    }
   ],
   "source": [
    "bgg_complete.columns[:20]"
   ]
  },
  {
   "cell_type": "code",
   "execution_count": 393,
   "metadata": {},
   "outputs": [],
   "source": [
    "drop = ['index','rank', 'id', 'name', 'year', 'geek', 'avg_time',\n",
    "        'age', 'avg', 'num_rev', 'mech_', 'cat_', 'top_score']\n",
    "\n",
    "# drop = ['rank', 'game_id', 'names', 'geek_rating', 'age',\n",
    "#               'avg_time', 'top_score', 'category','mechanic', 'weight']\n",
    "\n",
    "to_drop = drop"
   ]
  },
  {
   "cell_type": "code",
   "execution_count": 394,
   "metadata": {},
   "outputs": [],
   "source": [
    "X = bgg_complete.drop(to_drop, axis=1)\n",
    "y = bgg_complete['top_score']"
   ]
  },
  {
   "cell_type": "code",
   "execution_count": 396,
   "metadata": {},
   "outputs": [],
   "source": [
    "X_train, X_test, y_train, y_test = train_test_split(X, y)"
   ]
  },
  {
   "cell_type": "markdown",
   "metadata": {},
   "source": [
    "*** "
   ]
  },
  {
   "cell_type": "markdown",
   "metadata": {},
   "source": [
    "# Initial EDA with complete data set\n",
    "***"
   ]
  },
  {
   "cell_type": "code",
   "execution_count": 2,
   "metadata": {},
   "outputs": [],
   "source": [
    "df = pd.read_csv('data/bgg_db_2018_01.csv', encoding='iso-8859-1')"
   ]
  },
  {
   "cell_type": "code",
   "execution_count": 3,
   "metadata": {},
   "outputs": [
    {
     "data": {
      "text/html": [
       "<div>\n",
       "<style scoped>\n",
       "    .dataframe tbody tr th:only-of-type {\n",
       "        vertical-align: middle;\n",
       "    }\n",
       "\n",
       "    .dataframe tbody tr th {\n",
       "        vertical-align: top;\n",
       "    }\n",
       "\n",
       "    .dataframe thead th {\n",
       "        text-align: right;\n",
       "    }\n",
       "</style>\n",
       "<table border=\"1\" class=\"dataframe\">\n",
       "  <thead>\n",
       "    <tr style=\"text-align: right;\">\n",
       "      <th></th>\n",
       "      <th>rank</th>\n",
       "      <th>bgg_url</th>\n",
       "      <th>game_id</th>\n",
       "      <th>names</th>\n",
       "      <th>min_players</th>\n",
       "      <th>max_players</th>\n",
       "      <th>avg_time</th>\n",
       "      <th>min_time</th>\n",
       "      <th>max_time</th>\n",
       "      <th>year</th>\n",
       "      <th>avg_rating</th>\n",
       "      <th>geek_rating</th>\n",
       "      <th>num_votes</th>\n",
       "      <th>image_url</th>\n",
       "      <th>age</th>\n",
       "      <th>mechanic</th>\n",
       "      <th>owned</th>\n",
       "      <th>category</th>\n",
       "      <th>designer</th>\n",
       "      <th>weight</th>\n",
       "    </tr>\n",
       "  </thead>\n",
       "  <tbody>\n",
       "    <tr>\n",
       "      <th>0</th>\n",
       "      <td>1</td>\n",
       "      <td>https://boardgamegeek.com/boardgame/174430/glo...</td>\n",
       "      <td>174430</td>\n",
       "      <td>Gloomhaven</td>\n",
       "      <td>1</td>\n",
       "      <td>4</td>\n",
       "      <td>150</td>\n",
       "      <td>90</td>\n",
       "      <td>150</td>\n",
       "      <td>2017</td>\n",
       "      <td>9.01310</td>\n",
       "      <td>8.52234</td>\n",
       "      <td>9841</td>\n",
       "      <td>https://cf.geekdo-images.com/images/pic2437871...</td>\n",
       "      <td>12</td>\n",
       "      <td>Action / Movement Programming, Co-operative Pl...</td>\n",
       "      <td>18217</td>\n",
       "      <td>Adventure, Exploration, Fantasy, Fighting, Min...</td>\n",
       "      <td>Isaac Childres</td>\n",
       "      <td>3.7720</td>\n",
       "    </tr>\n",
       "    <tr>\n",
       "      <th>1</th>\n",
       "      <td>2</td>\n",
       "      <td>https://boardgamegeek.com/boardgame/161936/pan...</td>\n",
       "      <td>161936</td>\n",
       "      <td>Pandemic Legacy: Season 1</td>\n",
       "      <td>2</td>\n",
       "      <td>4</td>\n",
       "      <td>60</td>\n",
       "      <td>60</td>\n",
       "      <td>60</td>\n",
       "      <td>2015</td>\n",
       "      <td>8.66575</td>\n",
       "      <td>8.49837</td>\n",
       "      <td>23489</td>\n",
       "      <td>https://cf.geekdo-images.com/images/pic2452831...</td>\n",
       "      <td>13</td>\n",
       "      <td>Action Point Allowance System, Co-operative Pl...</td>\n",
       "      <td>38105</td>\n",
       "      <td>Environmental, Medical</td>\n",
       "      <td>Rob Daviau, Matt Leacock</td>\n",
       "      <td>2.8056</td>\n",
       "    </tr>\n",
       "    <tr>\n",
       "      <th>2</th>\n",
       "      <td>3</td>\n",
       "      <td>https://boardgamegeek.com/boardgame/182028/thr...</td>\n",
       "      <td>182028</td>\n",
       "      <td>Through the Ages: A New Story of Civilization</td>\n",
       "      <td>2</td>\n",
       "      <td>4</td>\n",
       "      <td>240</td>\n",
       "      <td>180</td>\n",
       "      <td>240</td>\n",
       "      <td>2015</td>\n",
       "      <td>8.65702</td>\n",
       "      <td>8.32401</td>\n",
       "      <td>10679</td>\n",
       "      <td>https://cf.geekdo-images.com/images/pic2663291...</td>\n",
       "      <td>14</td>\n",
       "      <td>Action Point Allowance System, Auction/Bidding...</td>\n",
       "      <td>14147</td>\n",
       "      <td>Card Game, Civilization, Economic</td>\n",
       "      <td>Vlaada Chvátil</td>\n",
       "      <td>4.3538</td>\n",
       "    </tr>\n",
       "    <tr>\n",
       "      <th>3</th>\n",
       "      <td>4</td>\n",
       "      <td>https://boardgamegeek.com/boardgame/12333/twil...</td>\n",
       "      <td>12333</td>\n",
       "      <td>Twilight Struggle</td>\n",
       "      <td>2</td>\n",
       "      <td>2</td>\n",
       "      <td>180</td>\n",
       "      <td>120</td>\n",
       "      <td>180</td>\n",
       "      <td>2005</td>\n",
       "      <td>8.35188</td>\n",
       "      <td>8.21012</td>\n",
       "      <td>29923</td>\n",
       "      <td>https://cf.geekdo-images.com/images/pic361592.jpg</td>\n",
       "      <td>13</td>\n",
       "      <td>Area Control / Area Influence, Campaign / Batt...</td>\n",
       "      <td>41094</td>\n",
       "      <td>Modern Warfare, Political, Wargame</td>\n",
       "      <td>Ananda Gupta, Jason Matthews</td>\n",
       "      <td>3.5446</td>\n",
       "    </tr>\n",
       "    <tr>\n",
       "      <th>4</th>\n",
       "      <td>5</td>\n",
       "      <td>https://boardgamegeek.com/boardgame/167791/ter...</td>\n",
       "      <td>167791</td>\n",
       "      <td>Terraforming Mars</td>\n",
       "      <td>1</td>\n",
       "      <td>5</td>\n",
       "      <td>120</td>\n",
       "      <td>120</td>\n",
       "      <td>120</td>\n",
       "      <td>2016</td>\n",
       "      <td>8.38331</td>\n",
       "      <td>8.17328</td>\n",
       "      <td>20468</td>\n",
       "      <td>https://cf.geekdo-images.com/images/pic3536616...</td>\n",
       "      <td>12</td>\n",
       "      <td>Card Drafting, Hand Management, Tile Placement...</td>\n",
       "      <td>26145</td>\n",
       "      <td>Economic, Environmental, Industry / Manufactur...</td>\n",
       "      <td>Jacob Fryxelius</td>\n",
       "      <td>3.2465</td>\n",
       "    </tr>\n",
       "  </tbody>\n",
       "</table>\n",
       "</div>"
      ],
      "text/plain": [
       "   rank                                            bgg_url  game_id  \\\n",
       "0     1  https://boardgamegeek.com/boardgame/174430/glo...   174430   \n",
       "1     2  https://boardgamegeek.com/boardgame/161936/pan...   161936   \n",
       "2     3  https://boardgamegeek.com/boardgame/182028/thr...   182028   \n",
       "3     4  https://boardgamegeek.com/boardgame/12333/twil...    12333   \n",
       "4     5  https://boardgamegeek.com/boardgame/167791/ter...   167791   \n",
       "\n",
       "                                           names  min_players  max_players  \\\n",
       "0                                     Gloomhaven            1            4   \n",
       "1                      Pandemic Legacy: Season 1            2            4   \n",
       "2  Through the Ages: A New Story of Civilization            2            4   \n",
       "3                              Twilight Struggle            2            2   \n",
       "4                              Terraforming Mars            1            5   \n",
       "\n",
       "   avg_time  min_time  max_time  year  avg_rating  geek_rating  num_votes  \\\n",
       "0       150        90       150  2017     9.01310      8.52234       9841   \n",
       "1        60        60        60  2015     8.66575      8.49837      23489   \n",
       "2       240       180       240  2015     8.65702      8.32401      10679   \n",
       "3       180       120       180  2005     8.35188      8.21012      29923   \n",
       "4       120       120       120  2016     8.38331      8.17328      20468   \n",
       "\n",
       "                                           image_url  age  \\\n",
       "0  https://cf.geekdo-images.com/images/pic2437871...   12   \n",
       "1  https://cf.geekdo-images.com/images/pic2452831...   13   \n",
       "2  https://cf.geekdo-images.com/images/pic2663291...   14   \n",
       "3  https://cf.geekdo-images.com/images/pic361592.jpg   13   \n",
       "4  https://cf.geekdo-images.com/images/pic3536616...   12   \n",
       "\n",
       "                                            mechanic  owned  \\\n",
       "0  Action / Movement Programming, Co-operative Pl...  18217   \n",
       "1  Action Point Allowance System, Co-operative Pl...  38105   \n",
       "2  Action Point Allowance System, Auction/Bidding...  14147   \n",
       "3  Area Control / Area Influence, Campaign / Batt...  41094   \n",
       "4  Card Drafting, Hand Management, Tile Placement...  26145   \n",
       "\n",
       "                                            category  \\\n",
       "0  Adventure, Exploration, Fantasy, Fighting, Min...   \n",
       "1                             Environmental, Medical   \n",
       "2                  Card Game, Civilization, Economic   \n",
       "3                 Modern Warfare, Political, Wargame   \n",
       "4  Economic, Environmental, Industry / Manufactur...   \n",
       "\n",
       "                       designer  weight  \n",
       "0                Isaac Childres  3.7720  \n",
       "1      Rob Daviau, Matt Leacock  2.8056  \n",
       "2                Vlaada Chvátil  4.3538  \n",
       "3  Ananda Gupta, Jason Matthews  3.5446  \n",
       "4               Jacob Fryxelius  3.2465  "
      ]
     },
     "execution_count": 3,
     "metadata": {},
     "output_type": "execute_result"
    }
   ],
   "source": [
    "df.head()"
   ]
  },
  {
   "cell_type": "code",
   "execution_count": 4,
   "metadata": {},
   "outputs": [],
   "source": [
    "df['mechanic'] = df['mechanic'].apply(lambda x: [m for m in x.split(\", \")])\n",
    "df['category'] = df['category'].apply(lambda x: [c for c in x.split(\", \")])"
   ]
  },
  {
   "cell_type": "code",
   "execution_count": 5,
   "metadata": {},
   "outputs": [],
   "source": [
    "mechanics = df['mechanic'].tolist()\n",
    "categories = df['category'].tolist()"
   ]
  },
  {
   "cell_type": "code",
   "execution_count": 6,
   "metadata": {},
   "outputs": [
    {
     "data": {
      "text/plain": [
       "(52, 84)"
      ]
     },
     "execution_count": 6,
     "metadata": {},
     "output_type": "execute_result"
    }
   ],
   "source": [
    "mechanic_cols = sorted(set([val for sublist in mechanics for val in sublist]))\n",
    "category_cols = sorted(set([val for sublist in categories for val in sublist]))\n",
    "len(mechanic_cols), len(category_cols)"
   ]
  },
  {
   "cell_type": "code",
   "execution_count": 199,
   "metadata": {},
   "outputs": [],
   "source": [
    "# mech_cols = []\n",
    "# for col in mechanic_cols:\n",
    "#     disp_name = col.lower().replace(\"/\",\"\").replace(\" \",\"_\")\n",
    "#     mech_cols.append('mech_' + disp_name)\n",
    "#     df['mech_' + disp_name] = 0\n",
    "#     col_names.append('mech_' + disp_name)"
   ]
  },
  {
   "cell_type": "code",
   "execution_count": 99,
   "metadata": {},
   "outputs": [],
   "source": [
    "cat_cols = []\n",
    "for col in category_cols:\n",
    "    disp_name = col.lower().replace(\"/\",\"\").replace(\" \",\"_\")\n",
    "    cat_cols.append('cat_' + disp_name)\n",
    "#     df['cat_' + disp_name] = 0\n",
    "#     col_names.append('cat_' + disp_name)"
   ]
  },
  {
   "cell_type": "code",
   "execution_count": 197,
   "metadata": {},
   "outputs": [],
   "source": [
    "# mech_cols = []\n",
    "# for mech in mechanic_cols:\n",
    "#     disp_name = mech.lower().replace(\"/\",\"\").replace(\" \",\"_\")\n",
    "#     for idx, row in df.iterrows():\n",
    "#         if mech in row['mechanic']:\n",
    "#             df['mech_' + disp_name][idx] = 1"
   ]
  },
  {
   "cell_type": "code",
   "execution_count": 200,
   "metadata": {},
   "outputs": [],
   "source": [
    "# for cat in category_cols:\n",
    "#     disp_name = cat.lower().replace(\"/\",\"\").replace(\" \",\"_\")\n",
    "#     for idx, row in df.iterrows():\n",
    "#         if cat in row['category']:\n",
    "#             df['cat_' + disp_name][idx] = 1"
   ]
  },
  {
   "cell_type": "code",
   "execution_count": 47,
   "metadata": {},
   "outputs": [],
   "source": [
    "df.drop(['bgg_url', 'year', 'avg_rating',\n",
    "       'num_votes', 'image_url', 'owned', 'designer'], axis=1, inplace=True)"
   ]
  },
  {
   "cell_type": "code",
   "execution_count": 55,
   "metadata": {},
   "outputs": [],
   "source": [
    "df.to_csv('data/bgg_binned_2018.csv')"
   ]
  },
  {
   "cell_type": "markdown",
   "metadata": {},
   "source": [
    "### Prepping for testing"
   ]
  },
  {
   "cell_type": "code",
   "execution_count": 7,
   "metadata": {},
   "outputs": [],
   "source": [
    "bgg = pd.read_csv('data/bgg_binned_2018.csv', index_col=0)"
   ]
  },
  {
   "cell_type": "code",
   "execution_count": 8,
   "metadata": {},
   "outputs": [
    {
     "data": {
      "text/plain": [
       "Index(['rank', 'game_id', 'names', 'min_players', 'max_players', 'avg_time',\n",
       "       'min_time', 'max_time', 'geek_rating', 'age',\n",
       "       ...\n",
       "       'cat_travel', 'cat_trivia', 'cat_video_game_theme', 'cat_vietnam_war',\n",
       "       'cat_wargame', 'cat_word_game', 'cat_world_war_i', 'cat_world_war_ii',\n",
       "       'cat_zombies', 'cat_none'],\n",
       "      dtype='object', length=149)"
      ]
     },
     "execution_count": 8,
     "metadata": {},
     "output_type": "execute_result"
    }
   ],
   "source": [
    "bgg.columns"
   ]
  },
  {
   "cell_type": "code",
   "execution_count": 9,
   "metadata": {},
   "outputs": [
    {
     "data": {
      "text/plain": [
       "count    4999.000000\n",
       "mean        6.082797\n",
       "std         0.482280\n",
       "min         5.636190\n",
       "25%         5.720640\n",
       "50%         5.901470\n",
       "75%         6.289785\n",
       "max         8.522340\n",
       "Name: geek_rating, dtype: float64"
      ]
     },
     "execution_count": 9,
     "metadata": {},
     "output_type": "execute_result"
    }
   ],
   "source": [
    "bgg['geek_rating'].describe()"
   ]
  },
  {
   "cell_type": "code",
   "execution_count": 10,
   "metadata": {},
   "outputs": [],
   "source": [
    "bgg['top_score'] = bgg['geek_rating'].apply(lambda x: 1 if x > 6.289785 else 0)"
   ]
  },
  {
   "cell_type": "code",
   "execution_count": 11,
   "metadata": {},
   "outputs": [
    {
     "data": {
      "text/html": [
       "<div>\n",
       "<style scoped>\n",
       "    .dataframe tbody tr th:only-of-type {\n",
       "        vertical-align: middle;\n",
       "    }\n",
       "\n",
       "    .dataframe tbody tr th {\n",
       "        vertical-align: top;\n",
       "    }\n",
       "\n",
       "    .dataframe thead th {\n",
       "        text-align: right;\n",
       "    }\n",
       "</style>\n",
       "<table border=\"1\" class=\"dataframe\">\n",
       "  <thead>\n",
       "    <tr style=\"text-align: right;\">\n",
       "      <th></th>\n",
       "      <th>rank</th>\n",
       "      <th>game_id</th>\n",
       "      <th>names</th>\n",
       "      <th>min_players</th>\n",
       "      <th>max_players</th>\n",
       "      <th>avg_time</th>\n",
       "      <th>min_time</th>\n",
       "      <th>max_time</th>\n",
       "      <th>geek_rating</th>\n",
       "      <th>age</th>\n",
       "      <th>...</th>\n",
       "      <th>cat_trivia</th>\n",
       "      <th>cat_video_game_theme</th>\n",
       "      <th>cat_vietnam_war</th>\n",
       "      <th>cat_wargame</th>\n",
       "      <th>cat_word_game</th>\n",
       "      <th>cat_world_war_i</th>\n",
       "      <th>cat_world_war_ii</th>\n",
       "      <th>cat_zombies</th>\n",
       "      <th>cat_none</th>\n",
       "      <th>top_score</th>\n",
       "    </tr>\n",
       "  </thead>\n",
       "  <tbody>\n",
       "    <tr>\n",
       "      <th>0</th>\n",
       "      <td>1</td>\n",
       "      <td>174430</td>\n",
       "      <td>Gloomhaven</td>\n",
       "      <td>1</td>\n",
       "      <td>4</td>\n",
       "      <td>150</td>\n",
       "      <td>90</td>\n",
       "      <td>150</td>\n",
       "      <td>8.52234</td>\n",
       "      <td>12</td>\n",
       "      <td>...</td>\n",
       "      <td>0</td>\n",
       "      <td>0</td>\n",
       "      <td>0</td>\n",
       "      <td>0</td>\n",
       "      <td>0</td>\n",
       "      <td>0</td>\n",
       "      <td>0</td>\n",
       "      <td>0</td>\n",
       "      <td>0</td>\n",
       "      <td>1</td>\n",
       "    </tr>\n",
       "    <tr>\n",
       "      <th>1</th>\n",
       "      <td>2</td>\n",
       "      <td>161936</td>\n",
       "      <td>Pandemic Legacy: Season 1</td>\n",
       "      <td>2</td>\n",
       "      <td>4</td>\n",
       "      <td>60</td>\n",
       "      <td>60</td>\n",
       "      <td>60</td>\n",
       "      <td>8.49837</td>\n",
       "      <td>13</td>\n",
       "      <td>...</td>\n",
       "      <td>0</td>\n",
       "      <td>0</td>\n",
       "      <td>0</td>\n",
       "      <td>0</td>\n",
       "      <td>0</td>\n",
       "      <td>0</td>\n",
       "      <td>0</td>\n",
       "      <td>0</td>\n",
       "      <td>0</td>\n",
       "      <td>1</td>\n",
       "    </tr>\n",
       "    <tr>\n",
       "      <th>2</th>\n",
       "      <td>3</td>\n",
       "      <td>182028</td>\n",
       "      <td>Through the Ages: A New Story of Civilization</td>\n",
       "      <td>2</td>\n",
       "      <td>4</td>\n",
       "      <td>240</td>\n",
       "      <td>180</td>\n",
       "      <td>240</td>\n",
       "      <td>8.32401</td>\n",
       "      <td>14</td>\n",
       "      <td>...</td>\n",
       "      <td>0</td>\n",
       "      <td>0</td>\n",
       "      <td>0</td>\n",
       "      <td>0</td>\n",
       "      <td>0</td>\n",
       "      <td>0</td>\n",
       "      <td>0</td>\n",
       "      <td>0</td>\n",
       "      <td>0</td>\n",
       "      <td>1</td>\n",
       "    </tr>\n",
       "    <tr>\n",
       "      <th>3</th>\n",
       "      <td>4</td>\n",
       "      <td>12333</td>\n",
       "      <td>Twilight Struggle</td>\n",
       "      <td>2</td>\n",
       "      <td>2</td>\n",
       "      <td>180</td>\n",
       "      <td>120</td>\n",
       "      <td>180</td>\n",
       "      <td>8.21012</td>\n",
       "      <td>13</td>\n",
       "      <td>...</td>\n",
       "      <td>0</td>\n",
       "      <td>0</td>\n",
       "      <td>0</td>\n",
       "      <td>1</td>\n",
       "      <td>0</td>\n",
       "      <td>0</td>\n",
       "      <td>0</td>\n",
       "      <td>0</td>\n",
       "      <td>0</td>\n",
       "      <td>1</td>\n",
       "    </tr>\n",
       "    <tr>\n",
       "      <th>4</th>\n",
       "      <td>5</td>\n",
       "      <td>167791</td>\n",
       "      <td>Terraforming Mars</td>\n",
       "      <td>1</td>\n",
       "      <td>5</td>\n",
       "      <td>120</td>\n",
       "      <td>120</td>\n",
       "      <td>120</td>\n",
       "      <td>8.17328</td>\n",
       "      <td>12</td>\n",
       "      <td>...</td>\n",
       "      <td>0</td>\n",
       "      <td>0</td>\n",
       "      <td>0</td>\n",
       "      <td>0</td>\n",
       "      <td>0</td>\n",
       "      <td>0</td>\n",
       "      <td>0</td>\n",
       "      <td>0</td>\n",
       "      <td>0</td>\n",
       "      <td>1</td>\n",
       "    </tr>\n",
       "  </tbody>\n",
       "</table>\n",
       "<p>5 rows × 150 columns</p>\n",
       "</div>"
      ],
      "text/plain": [
       "   rank  game_id                                          names  min_players  \\\n",
       "0     1   174430                                     Gloomhaven            1   \n",
       "1     2   161936                      Pandemic Legacy: Season 1            2   \n",
       "2     3   182028  Through the Ages: A New Story of Civilization            2   \n",
       "3     4    12333                              Twilight Struggle            2   \n",
       "4     5   167791                              Terraforming Mars            1   \n",
       "\n",
       "   max_players  avg_time  min_time  max_time  geek_rating  age    ...      \\\n",
       "0            4       150        90       150      8.52234   12    ...       \n",
       "1            4        60        60        60      8.49837   13    ...       \n",
       "2            4       240       180       240      8.32401   14    ...       \n",
       "3            2       180       120       180      8.21012   13    ...       \n",
       "4            5       120       120       120      8.17328   12    ...       \n",
       "\n",
       "  cat_trivia cat_video_game_theme  cat_vietnam_war  cat_wargame  \\\n",
       "0          0                    0                0            0   \n",
       "1          0                    0                0            0   \n",
       "2          0                    0                0            0   \n",
       "3          0                    0                0            1   \n",
       "4          0                    0                0            0   \n",
       "\n",
       "   cat_word_game  cat_world_war_i  cat_world_war_ii  cat_zombies  cat_none  \\\n",
       "0              0                0                 0            0         0   \n",
       "1              0                0                 0            0         0   \n",
       "2              0                0                 0            0         0   \n",
       "3              0                0                 0            0         0   \n",
       "4              0                0                 0            0         0   \n",
       "\n",
       "   top_score  \n",
       "0          1  \n",
       "1          1  \n",
       "2          1  \n",
       "3          1  \n",
       "4          1  \n",
       "\n",
       "[5 rows x 150 columns]"
      ]
     },
     "execution_count": 11,
     "metadata": {},
     "output_type": "execute_result"
    }
   ],
   "source": [
    "bgg.head()"
   ]
  },
  {
   "cell_type": "code",
   "execution_count": 12,
   "metadata": {},
   "outputs": [],
   "source": [
    "drop = ['rank', 'game_id', 'names', 'geek_rating', 'age',\n",
    "              'avg_time', 'top_score', 'category','mechanic']\n",
    "\n",
    "# drop = ['rank', 'game_id', 'names', 'geek_rating', 'age',\n",
    "#               'avg_time', 'top_score', 'category','mechanic', 'weight']\n",
    "\n",
    "to_drop = drop"
   ]
  },
  {
   "cell_type": "code",
   "execution_count": 13,
   "metadata": {},
   "outputs": [],
   "source": [
    "X = bgg.drop(to_drop, axis=1)\n",
    "y = bgg['top_score']"
   ]
  },
  {
   "cell_type": "code",
   "execution_count": 14,
   "metadata": {},
   "outputs": [],
   "source": [
    "X_train, X_test, y_train, y_test = train_test_split(X, y)"
   ]
  },
  {
   "cell_type": "markdown",
   "metadata": {},
   "source": [
    "### Decision Tree"
   ]
  },
  {
   "cell_type": "code",
   "execution_count": 397,
   "metadata": {},
   "outputs": [],
   "source": [
    "clf = DecisionTreeClassifier()\n",
    "\n",
    "clf.fit(X_train, y_train)\n",
    "y_pred_t = clf.predict_proba(X_test)"
   ]
  },
  {
   "cell_type": "code",
   "execution_count": 398,
   "metadata": {},
   "outputs": [
    {
     "name": "stdout",
     "output_type": "stream",
     "text": [
      "2: 0.276739602624419\n"
     ]
    }
   ],
   "source": [
    "for i, val in enumerate(clf.feature_importances_):\n",
    "    if val == (clf.feature_importances_).max():\n",
    "        print(str(i) + \": \" + str(val))"
   ]
  },
  {
   "cell_type": "code",
   "execution_count": 399,
   "metadata": {},
   "outputs": [],
   "source": [
    "# # Summary stats\n",
    "# print(f\"Testing Accuracy for Decision Tree Classifier: {accuracy_score(y_test, y_pred_t) * 100}%\")\n",
    "# print(f\"Testing Average Precision Score: {round(average_precision_score(y_test, y_pred_t) * 100, 2)}%\")\n",
    "# print(classification_report(y_test, y_pred))"
   ]
  },
  {
   "cell_type": "code",
   "execution_count": 400,
   "metadata": {},
   "outputs": [
    {
     "name": "stdout",
     "output_type": "stream",
     "text": [
      "Log loss: 10.013720165992495\n",
      "\n",
      "ROC AUC Score: 0.6242544731610338\n"
     ]
    },
    {
     "data": {
      "image/png": "[encoded data removed]",
      "text/plain": [
       "<Figure size 432x288 with 1 Axes>"
      ]
     },
     "metadata": {
      "needs_background": "light"
     },
     "output_type": "display_data"
    }
   ],
   "source": [
    "print(f\"Log loss: {log_loss(y_test, y_pred_t)}\")\n",
    "print(f\"\\nROC AUC Score: {roc_auc_score(y_test, y_pred_t[:,1])}\")\n",
    "fpr, tpr, thresholds = roc_curve(y_test, y_pred_t[:,1])\n",
    "#Plot\n",
    "plt.plot(fpr, tpr)\n",
    "# this is just a diagonal\n",
    "plt.plot([0, 1], [0, 1], linestyle='--');"
   ]
  },
  {
   "cell_type": "code",
   "execution_count": 1,
   "metadata": {},
   "outputs": [],
   "source": [
    "# dot_data = StringIO()\n",
    "# export_graphviz(clf, out_file=dot_data, filled=True, rounded=True,special_characters=True)\n",
    "# graph = pydotplus.graph_from_dot_data(dot_data.getvalue())  \n",
    "# Image(graph.create_png())"
   ]
  },
  {
   "cell_type": "markdown",
   "metadata": {},
   "source": [
    "### Decision Tree #2, after Graph Search"
   ]
  },
  {
   "cell_type": "code",
   "execution_count": 42,
   "metadata": {},
   "outputs": [
    {
     "data": {
      "text/plain": [
       "GridSearchCV(cv=3, error_score='raise-deprecating',\n",
       "       estimator=DecisionTreeClassifier(class_weight=None, criterion='gini', max_depth=None,\n",
       "            max_features=None, max_leaf_nodes=None,\n",
       "            min_impurity_decrease=0.0, min_impurity_split=None,\n",
       "            min_samples_leaf=1, min_samples_split=2,\n",
       "            min_weight_fraction_leaf=0.0, presort=False, random_state=None,\n",
       "            splitter='best'),\n",
       "       fit_params=None, iid='warn', n_jobs=None,\n",
       "       param_grid={'criterion': ['gini', 'entropy'], 'max_depth': [1, 2, 5, 10], 'min_samples_split': [1.0, 5, 10, 20]},\n",
       "       pre_dispatch='2*n_jobs', refit=True, return_train_score='warn',\n",
       "       scoring=None, verbose=0)"
      ]
     },
     "execution_count": 42,
     "metadata": {},
     "output_type": "execute_result"
    }
   ],
   "source": [
    "clf_2 = DecisionTreeClassifier()\n",
    "\n",
    "param_grid = {\n",
    "    \"criterion\": [\"gini\", \"entropy\"],\n",
    "    \"max_depth\": [1, 2, 5, 10],\n",
    "    \"min_samples_split\": [1.0, 5, 10, 20]\n",
    "}\n",
    "\n",
    "gs_tree = GridSearchCV(clf_2, param_grid, cv=3)\n",
    "\n",
    "gs_tree.fit(X_train, y_train)"
   ]
  },
  {
   "cell_type": "code",
   "execution_count": 43,
   "metadata": {},
   "outputs": [
    {
     "data": {
      "text/plain": [
       "{'criterion': 'entropy', 'max_depth': 5, 'min_samples_split': 5}"
      ]
     },
     "execution_count": 43,
     "metadata": {},
     "output_type": "execute_result"
    }
   ],
   "source": [
    "gs_tree.best_params_"
   ]
  },
  {
   "cell_type": "code",
   "execution_count": 44,
   "metadata": {},
   "outputs": [],
   "source": [
    "best = gs_tree.best_params_\n",
    "\n",
    "clf_2 = DecisionTreeClassifier(**best)\n",
    "clf_2.fit(X_train, y_train)\n",
    "y_pred_t2 = clf_2.predict_proba(X_test)"
   ]
  },
  {
   "cell_type": "code",
   "execution_count": 46,
   "metadata": {},
   "outputs": [
    {
     "name": "stdout",
     "output_type": "stream",
     "text": [
      "Log loss: 0.669049062919435\n",
      "\n",
      "ROC AUC Score: 0.71574938782953\n"
     ]
    },
    {
     "data": {
      "image/png": "[encoded data removed]",
      "text/plain": [
       "<Figure size 432x288 with 1 Axes>"
      ]
     },
     "metadata": {
      "needs_background": "light"
     },
     "output_type": "display_data"
    }
   ],
   "source": [
    "print(f\"Log loss: {log_loss(y_test, y_pred_t2)}\")\n",
    "print(f\"\\nROC AUC Score: {roc_auc_score(y_test, y_pred_t2[:,1])}\")\n",
    "fpr, tpr, thresholds = roc_curve(y_test, y_pred_t2[:,1])\n",
    "#Plot\n",
    "plt.plot(fpr, tpr)\n",
    "# this is just a diagonal\n",
    "plt.plot([0, 1], [0, 1], linestyle='--');"
   ]
  },
  {
   "cell_type": "code",
   "execution_count": null,
   "metadata": {},
   "outputs": [],
   "source": [
    "# print(\"Testing Accuracy for Grid Search Best Decision Tree Classifier: {:.4}%\".format(accuracy_score(y_test, y_pred_t2) * 100))\n",
    "# print(f\"Testing Average Precision Score: {round(average_precision_score(y_test, y_pred_t2) * 100, 2)}%\")\n",
    "# print(classification_report(y_test, y_pred_t2))"
   ]
  },
  {
   "cell_type": "code",
   "execution_count": 314,
   "metadata": {},
   "outputs": [
    {
     "data": {
      "image/png": "[encoded data removed]",
      "text/plain": [
       "<IPython.core.display.Image object>"
      ]
     },
     "execution_count": 314,
     "metadata": {},
     "output_type": "execute_result"
    }
   ],
   "source": [
    "dot_data = StringIO()\n",
    "export_graphviz(clf_2, out_file=dot_data, filled=True, rounded=True,special_characters=True)\n",
    "graph = pydotplus.graph_from_dot_data(dot_data.getvalue())  \n",
    "Image(graph.create_png())"
   ]
  },
  {
   "cell_type": "code",
   "execution_count": 164,
   "metadata": {},
   "outputs": [],
   "source": [
    "# for i, x in enumerate(X.columns):\n",
    "#     print(str(i) + \": \" + x)"
   ]
  },
  {
   "cell_type": "markdown",
   "metadata": {},
   "source": [
    "### Random Forest Classifier"
   ]
  },
  {
   "cell_type": "code",
   "execution_count": 401,
   "metadata": {},
   "outputs": [],
   "source": [
    "forest = RandomForestClassifier(n_estimators=100, max_depth=5)\n",
    "\n",
    "forest.fit(X_train, y_train)\n",
    "\n",
    "y_pred_forest = forest.predict_proba(X_test)\n",
    "y_pred_f = forest.predict(X_test)"
   ]
  },
  {
   "cell_type": "code",
   "execution_count": 402,
   "metadata": {},
   "outputs": [
    {
     "name": "stdout",
     "output_type": "stream",
     "text": [
      "Log loss: 0.5276446583148623\n",
      "\n",
      "ROC AUC Score: 0.7522255356748397\n"
     ]
    },
    {
     "data": {
      "image/png": "[encoded data removed]",
      "text/plain": [
       "<Figure size 432x288 with 1 Axes>"
      ]
     },
     "metadata": {
      "needs_background": "light"
     },
     "output_type": "display_data"
    }
   ],
   "source": [
    "print(f\"Log loss: {log_loss(y_test, y_pred_forest)}\")\n",
    "print(f\"\\nROC AUC Score: {roc_auc_score(y_test, y_pred_forest[:,1])}\")\n",
    "fpr, tpr, thresholds = roc_curve(y_test, y_pred_forest[:,1])\n",
    "#Plot\n",
    "plt.plot(fpr, tpr)\n",
    "# this is just a diagonal\n",
    "plt.plot([0, 1], [0, 1], linestyle='--');"
   ]
  },
  {
   "cell_type": "code",
   "execution_count": 62,
   "metadata": {},
   "outputs": [],
   "source": [
    "# print(\"Testing Accuracy for Random Forrest Classifier: {:.4}%\".format(accuracy_score(y_test, y_pred_forest) * 100))\n",
    "# print(f\"Testing Average Precision Score: {round(average_precision_score(y_test, y_pred_forest) * 100, 2)}%\")\n",
    "# print(classification_report(y_test, y_pred_forest))"
   ]
  },
  {
   "cell_type": "markdown",
   "metadata": {},
   "source": [
    "### Gradient Boosting Classifier"
   ]
  },
  {
   "cell_type": "code",
   "execution_count": 37,
   "metadata": {},
   "outputs": [],
   "source": [
    "boost = GradientBoostingClassifier(learning_rate=.01)\n",
    "\n",
    "boost.fit(X_train, y_train)\n",
    "\n",
    "boost_pred = boost.predict_proba(X_test)"
   ]
  },
  {
   "cell_type": "code",
   "execution_count": 38,
   "metadata": {},
   "outputs": [
    {
     "name": "stdout",
     "output_type": "stream",
     "text": [
      "Log loss: 0.5359928172784619\n",
      "\n",
      "ROC AUC Score: 0.7390411717203292\n"
     ]
    },
    {
     "data": {
      "image/png": "[encoded data removed]",
      "text/plain": [
       "<Figure size 432x288 with 1 Axes>"
      ]
     },
     "metadata": {
      "needs_background": "light"
     },
     "output_type": "display_data"
    }
   ],
   "source": [
    "print(f\"Log loss: {log_loss(y_test, boost_pred)}\")\n",
    "print(f\"\\nROC AUC Score: {roc_auc_score(y_test, boost_pred[:,1])}\")\n",
    "fpr, tpr, thresholds = roc_curve(y_test, boost_pred[:,1])\n",
    "#Plot\n",
    "plt.plot(fpr, tpr)\n",
    "# this is just a diagonal\n",
    "plt.plot([0, 1], [0, 1], linestyle='--');"
   ]
  },
  {
   "cell_type": "code",
   "execution_count": null,
   "metadata": {},
   "outputs": [],
   "source": [
    "# print(\"Testing Accuracy for Gradient Boosting Classifier: {:.4}%\".format(accuracy_score(y_test, boost_pred) * 100))\n",
    "# print(f\"Testing Average Precision Score: {round(average_precision_score(y_test, boost_pred) * 100, 2)}%\")\n",
    "# print(classification_report(y_test, boost_pred))"
   ]
  },
  {
   "cell_type": "markdown",
   "metadata": {},
   "source": [
    "### XG Boost Classifier"
   ]
  },
  {
   "cell_type": "code",
   "execution_count": null,
   "metadata": {},
   "outputs": [],
   "source": [
    "x_boost = xgb.XGBClassifier(learning_rate=.1)\n",
    "\n",
    "x_boost.fit(X_train, y_train)"
   ]
  },
  {
   "cell_type": "code",
   "execution_count": null,
   "metadata": {},
   "outputs": [],
   "source": [
    "x_pred = x_boost.predict_proba(X_test)"
   ]
  },
  {
   "cell_type": "code",
   "execution_count": null,
   "metadata": {},
   "outputs": [],
   "source": [
    "print(\"Testing Accuracy for Decision Tree Classifier: {:.4}%\".format(accuracy_score(y_test, x_pred) * 100))\n",
    "\n",
    "print(classification_report(y_test, x_pred))"
   ]
  },
  {
   "cell_type": "code",
   "execution_count": null,
   "metadata": {},
   "outputs": [],
   "source": []
  }
 ],
 "metadata": {
  "kernelspec": {
   "display_name": "Python 3",
   "language": "python",
   "name": "python3"
  },
  "language_info": {
   "codemirror_mode": {
    "name": "ipython",
    "version": 3
   },
   "file_extension": ".py",
   "mimetype": "text/x-python",
   "name": "python",
   "nbconvert_exporter": "python",
   "pygments_lexer": "ipython3",
   "version": "3.6.6"
  }
 },
 "nbformat": 4,
 "nbformat_minor": 2
}
