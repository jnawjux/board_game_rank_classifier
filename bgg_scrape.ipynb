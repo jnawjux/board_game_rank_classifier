{
 "cells": [
  {
   "cell_type": "code",
   "execution_count": 20,
   "metadata": {},
   "outputs": [],
   "source": [
    "import pandas as pd\n",
    "import numpy as np\n",
    "import boardgamegeek as geek\n",
    "from selenium.webdriver import Chrome \n",
    "import time\n",
    "import re"
   ]
  },
  {
   "cell_type": "markdown",
   "metadata": {},
   "source": [
    "#### Scraping the names from a query for games from 2015-2019"
   ]
  },
  {
   "cell_type": "code",
   "execution_count": 21,
   "metadata": {},
   "outputs": [],
   "source": [
    "# This is the full query URL, splitting and adding the page number to iterate through for games.\n",
    "url_start = \"https://boardgamegeek.com/search/boardgame/page/\"\n",
    "url_end = \"\"\"?advsearch=1&q=&include%5Bdesignerid%5D=&include%5Bpublisherid%5D=&geekitemname=&\n",
    "            range%5Byearpublished%5D%5Bmin%5D=2015&range%5Byearpublished%5D%5Bmax%5D=2019&\n",
    "            range%5Bminage%5D%5Bmax%5D=&range%5Bnumvoters%5D%5Bmin%5D=&range%5Bnumweights%5D%5Bmin%5D=&\n",
    "            range%5Bminplayers%5D%5Bmax%5D=&range%5Bmaxplayers%5D%5Bmin%5D=&\n",
    "            range%5Bleastplaytime%5D%5Bmin%5D=&range%5Bplaytime%5D%5Bmax%5D=&\n",
    "            floatrange%5Bavgrating%5D%5Bmin%5D=&floatrange%5Bavgrating%5D%5Bmax%5D=&\n",
    "            floatrange%5Bavgweight%5D%5Bmin%5D=&floatrange%5Bavgweight%5D%5Bmax%5D=&\n",
    "            colfiltertype=&searchuser=&playerrangetype=normal&B1=Submit\"\"\""
   ]
  },
  {
   "cell_type": "code",
   "execution_count": 22,
   "metadata": {},
   "outputs": [],
   "source": [
    "# Initiate Selenium browser\n",
    "browser = Chrome()"
   ]
  },
  {
   "cell_type": "code",
   "execution_count": null,
   "metadata": {},
   "outputs": [],
   "source": [
    "# games_all = []\n",
    "\n",
    "# for i in range(1, 51):\n",
    "#     game = []\n",
    "    \n",
    "#     # Creating the URL for each page and going to the page\n",
    "#     url = url_start + str(i) + url_end\n",
    "#     browser.get(url)\n",
    "    \n",
    "#     # Getting the name from each row in the table\n",
    "#     game = [name.text for name in browser.find_elements_by_class_name(\"collection_objectname\")]\n",
    "#     games_all.append(game)\n",
    "    \n",
    "#     # Wait and restart process\n",
    "#     time.sleep(10)"
   ]
  },
  {
   "cell_type": "code",
   "execution_count": 23,
   "metadata": {},
   "outputs": [],
   "source": [
    "games_all = []\n",
    "\n",
    "for i in range(1, 51):\n",
    "    game = []\n",
    "\n",
    "    # Creating the URL for each page and going to the page\n",
    "    url = url_start + str(i) + url_end\n",
    "    browser.get(url)\n",
    "\n",
    "    # Getting the name from each row in the table\n",
    "    game = [name.text.split('\\n')[1:3] for name in browser.find_elements_by_id('row_')]\n",
    "\n",
    "    games_all.append(game)\n",
    "\n",
    "    time.sleep(10)"
   ]
  },
  {
   "cell_type": "code",
   "execution_count": 24,
   "metadata": {},
   "outputs": [],
   "source": [
    "# Combining all games into one list, instead of lists for each page\n",
    "games_combined = [game for subgames in games_all for game in subgames]"
   ]
  },
  {
   "cell_type": "code",
   "execution_count": 43,
   "metadata": {},
   "outputs": [
    {
     "data": {
      "text/plain": [
       "'Scythe (2016)'"
      ]
     },
     "execution_count": 43,
     "metadata": {},
     "output_type": "execute_result"
    }
   ],
   "source": [
    "games_combined[1][0]"
   ]
  },
  {
   "cell_type": "code",
   "execution_count": 53,
   "metadata": {},
   "outputs": [],
   "source": [
    "new = []\n",
    "for i, games in enumerate(games_combined):\n",
    "    name = re.sub(\" \\(([^)]+)\\)\", \"\", games_combined[i][0]).rstrip()\n",
    "    scores = games_combined[i][1].split(\" \")\n",
    "    new_vals = [name] + scores\n",
    "    new.append(new_vals)\n",
    "    \n",
    "df = pd.DataFrame(new, columns=['Name', 'geek','avg','num_rev', 'o'])"
   ]
  },
  {
   "cell_type": "code",
   "execution_count": 57,
   "metadata": {},
   "outputs": [],
   "source": [
    "df.drop('o', axis=1, inplace=True)\n",
    "df.head()"
   ]
  },
  {
   "cell_type": "code",
   "execution_count": 58,
   "metadata": {},
   "outputs": [],
   "source": [
    "df.to_csv('bgg_correct_ratings.csv')"
   ]
  },
  {
   "cell_type": "code",
   "execution_count": null,
   "metadata": {},
   "outputs": [],
   "source": [
    "# Temporarily dropping into csv to preserve scrap results\n",
    "with open('all_game_names.csv','w', newline=\"\") as f:\n",
    "    for game in games_combined:\n",
    "        f.write(game + \"\\n\")"
   ]
  },
  {
   "cell_type": "markdown",
   "metadata": {},
   "source": [
    "#### Using boardgamegeek API Python package to retreive details for each game"
   ]
  },
  {
   "cell_type": "code",
   "execution_count": null,
   "metadata": {},
   "outputs": [],
   "source": [
    "all_games = []\n",
    "\n",
    "# The names all have a date at the end (ex. \"Risk (1988)\"). This is to strip that date and remove space.\n",
    "for game in games_combined:\n",
    "    clean_game = re.sub(\" \\(([^)]+)\\)\", \"\", game).rstrip()\n",
    "    all_games.append(clean_game)"
   ]
  },
  {
   "cell_type": "code",
   "execution_count": null,
   "metadata": {},
   "outputs": [],
   "source": [
    "# Initiates and instance of API connection\n",
    "req = geek.BoardGameGeek()\n",
    "\n",
    "# Limiting the amount of API requests to not overload server\n",
    "geek.utils.RateLimitingAdapter(rpm=50)"
   ]
  },
  {
   "cell_type": "code",
   "execution_count": null,
   "metadata": {},
   "outputs": [],
   "source": [
    "game_data = []\n",
    "not_working = []\n",
    "\n",
    "\n",
    "# Creating a loop for API requests to retrieve info for each game.\n",
    "for game in all_games:\n",
    "    try:\n",
    "    # Try to get information and load into a temp dictionary for each\n",
    "        v = req.game(game)\n",
    "        game_dict = {'id': v.id,'rank': v.boardgame_rank, 'name': v.name,\n",
    "                     'min_players': v.min_players, 'max_players': v.max_players,\n",
    "                    'avg_time': v.playing_time, 'geek_rating': v.rating_average,\n",
    "                     'rating_count': v.rating_num_weights,'age': v.min_age,\n",
    "                     'mechanic': v.mechanics, 'category': v.categories,\n",
    "                    'year': v.year, 'weight': v.rating_average_weight }\n",
    "        temp_.append(game_dict)\n",
    "        time.sleep(5)\n",
    "    except Exception:\n",
    "    # If for some reason the game is not coming up in the search, pass and add to this list\n",
    "    # The boardgamegeek API package also gives a warning for games it can't find. \n",
    "        not_working.append(game)"
   ]
  },
  {
   "cell_type": "code",
   "execution_count": null,
   "metadata": {},
   "outputs": [],
   "source": [
    "# Checking the length of our results\n",
    "len(game_data), len(not_working)"
   ]
  },
  {
   "cell_type": "code",
   "execution_count": null,
   "metadata": {},
   "outputs": [],
   "source": [
    "# Dropping data into a temporary Dataframe for formatting and outputting to CSV\n",
    "temp_df = pd.DataFrame(game_data)\n",
    "tempy.to_csv('bg14_19.csv')"
   ]
  }
 ],
 "metadata": {
  "kernelspec": {
   "display_name": "Python 3",
   "language": "python",
   "name": "python3"
  },
  "language_info": {
   "codemirror_mode": {
    "name": "ipython",
    "version": 3
   },
   "file_extension": ".py",
   "mimetype": "text/x-python",
   "name": "python",
   "nbconvert_exporter": "python",
   "pygments_lexer": "ipython3",
   "version": "3.6.6"
  }
 },
 "nbformat": 4,
 "nbformat_minor": 2
}
